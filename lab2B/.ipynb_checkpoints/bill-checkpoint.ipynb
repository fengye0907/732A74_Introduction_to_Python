{
 "cells": [
  {
   "cell_type": "markdown",
   "metadata": {},
   "source": [
    "# Lab 2B: Functional programming, and declarative patterns\n"
   ]
  },
  {
   "cell_type": "markdown",
   "metadata": {},
   "source": [
    "__Student:__ abcde123\n",
    "\n",
    "__Student:__ abcde123"
   ]
  },
  {
   "cell_type": "markdown",
   "metadata": {},
   "source": [
    "Disclaimer: Functional programming in Python does not always lead to the fastest possible code, and is often not considered the *pythonic* approach. However, functional programming is the basis for many concurrent systems (the MapReduce programming model which many big data systems, e.g. Hadoop, relies on gets its name from the *map* and *reduce* functions mentioned below). Python is a multi-paradigm language, and functional programming is one of the main paradigms one can use. To understand how and when to do this, it is necessary to do things in a non-*pythonic* way in order to cover the basics."
   ]
  },
  {
   "cell_type": "markdown",
   "metadata": {},
   "source": [
    "## General instructions\n",
    "\n",
    "In this lab there are some general rules you should keep in mind to make sure you are on the correct path in your solutions.\n",
    "\n",
    "#### Rules\n",
    "1. You are not allowed to use `while` or `for` statements unless this is explicitly allowed in the task.\n",
    "2. You are not allowed to use global variables (other than for functions defined in the global environment).\n",
    "3. Code stubs should be viewed as fixed, you are only allowed to add code, the only code you are allowed to change is `pass` statements, which you should remove.\n",
    "4. You should refrain from using the `list` datatype unless otherwise specified and instead use `tuple`. One of the strengths of functional programming is its focus on immutable data types (this is why functional programming and concurrency goes so well together). Incidentally, one might find speedups when using the immutable tuples instead of lists.\n",
    "\n",
    "#### Advice\n",
    "1. Avoid local variables unless you are certain they are necessary, in most cases you won't need to use local variables. (altermatively, use local variables to your hearts content, but when your solution works, try to eliminate them, you should be able to eliminate most of them, over time, you might find that you don't need them.)"
   ]
  },
  {
   "cell_type": "markdown",
   "metadata": {},
   "source": [
    "# 2 Recursion\n",
    "\n",
    "As an introduction to linear recursion, read the introductory note on the course webpage. This might help explain terms that you may not know (even if the concept is previously known)."
   ]
  },
  {
   "cell_type": "markdown",
   "metadata": {},
   "source": [
    "## 2.1 Linear recursion"
   ]
  },
  {
   "cell_type": "markdown",
   "metadata": {},
   "source": [
    "a) Write a recursive function `sum_even(n)` that takes a natural number $n\\geq 0$ and returns the sum of all even numbers $0,...,n$. It should be linear-recursive with delayed computations."
   ]
  },
  {
   "cell_type": "code",
   "execution_count": 18,
   "metadata": {},
   "outputs": [
    {
     "data": {
      "text/plain": [
       "30"
      ]
     },
     "execution_count": 18,
     "metadata": {},
     "output_type": "execute_result"
    }
   ],
   "source": [
    "def sum_even(n):\n",
    "    if(n%2==1):\n",
    "        n=n-1\n",
    "    if(n==0):\n",
    "        return(0)\n",
    "    else:\n",
    "        return(sum_even(n-2)+n)\n",
    "\n",
    "sum_even(10)"
   ]
  },
  {
   "cell_type": "markdown",
   "metadata": {},
   "source": [
    "b) Write `sum_even_it(n)` according to the same specification. In this case, the solution should be tail recursive."
   ]
  },
  {
   "cell_type": "code",
   "execution_count": 17,
   "metadata": {},
   "outputs": [
    {
     "data": {
      "text/plain": [
       "30"
      ]
     },
     "execution_count": 17,
     "metadata": {},
     "output_type": "execute_result"
    }
   ],
   "source": [
    "def sum_even_it(n, summation):\n",
    "    if(n%2==1):\n",
    "        n=n-1\n",
    "    if(n==0):\n",
    "        return(summation)\n",
    "    else:\n",
    "        summation += n\n",
    "        return(sum_even_it(n-2, summation))\n",
    "\n",
    "sum_even_it(10,0)"
   ]
  },
  {
   "cell_type": "markdown",
   "metadata": {},
   "source": [
    "c) We can of course express this in a declarative and Pythonic way, which is non-recursive. Write a function `sum_even_py` which returns the same result as above, but using comprehension or filter/map/reduce construct."
   ]
  },
  {
   "cell_type": "code",
   "execution_count": 21,
   "metadata": {},
   "outputs": [
    {
     "data": {
      "text/plain": [
       "30"
      ]
     },
     "execution_count": 21,
     "metadata": {},
     "output_type": "execute_result"
    }
   ],
   "source": [
    "def sum_even_py(n):\n",
    "    a = filter(lambda x: x % 2 == 0, range(n+1))\n",
    "    return(sum(a))\n",
    "sum_even_py(10)"
   ]
  },
  {
   "cell_type": "markdown",
   "metadata": {},
   "source": [
    "## 2.2 Double/tree recursion"
   ]
  },
  {
   "cell_type": "markdown",
   "metadata": {},
   "source": [
    "Sometimes we might find ourselves with branching structures, where there are several \"smaller\" cases to recurse over. This might for instance be the case when we have trees, lists-within-lists or the like."
   ]
  },
  {
   "cell_type": "markdown",
   "metadata": {},
   "source": [
    "[Note: In the tasks below, it might be helpful to gain an understanding of `isinstance`. See the documentation!]"
   ]
  },
  {
   "cell_type": "markdown",
   "metadata": {},
   "source": [
    "a) One common use of recursion is to traverse recursive data structures. One exercise might be to _flatten_ nested lists or tuples. This is relatively simple with only one level of nesting, or when the structure follows a strict pattern, but for arbitrary nested sequences, a recursive approach is more natural. Implement a recursive function `myflatten` which can take an arbitrary structure of nested tuples and flattens it (in the sense of returning a new non-nested tuple with the same elements in the same order)."
   ]
  },
  {
   "cell_type": "code",
   "execution_count": 17,
   "metadata": {},
   "outputs": [],
   "source": [
    "def myflatten(seq):\n",
    "    part = ()\n",
    "    for i in seq:\n",
    "        if(isinstance(i,int)):\n",
    "            part += (i,)\n",
    "        else:\n",
    "            part += myflatten(i)\n",
    "    return(part)\n",
    "\n",
    "\n",
    "def test_myflatten():\n",
    "    tests = (\n",
    "     ((), (), \"the empty tuple\"), \n",
    "     ((1,2,3), (1,2,3), \"flat tuples invariant under flattening\"), \n",
    "     ( (1, (2), 3, (4, 5, (6), 7), 8), (1, 2, 3, 4, 5, 6, 7, 8), \"Arbitrarily nested tuples.\")\n",
    "    )\n",
    "    for arg, expected_output, error_msg in tests:\n",
    "        assert myflatten(arg) == expected_output, error_msg\n",
    "\n",
    "test_myflatten()    # Uncomment this line to run tests.\n"
   ]
  },
  {
   "cell_type": "markdown",
   "metadata": {},
   "source": [
    "b) Implement a function `exists_in(e, seq)` which returns `True` if the element `e` exists somewhere in the tuple `seq` (and `False` otherwise). `seq` might be nested and contain tuples-within-tuples."
   ]
  },
  {
   "cell_type": "code",
   "execution_count": 136,
   "metadata": {},
   "outputs": [
    {
     "data": {
      "text/plain": [
       "True"
      ]
     },
     "execution_count": 136,
     "metadata": {},
     "output_type": "execute_result"
    }
   ],
   "source": [
    "def exists_in(e, seq):\n",
    "    out = False\n",
    "    for i in seq:\n",
    "        if(isinstance(i,tuple)):\n",
    "            out = exists_in(e, i)\n",
    "        else:\n",
    "            if(e==i):\n",
    "                out = True\n",
    "    return(out)"
   ]
  },
  {
   "cell_type": "markdown",
   "metadata": {},
   "source": [
    "c) Write a few representative test cases, as in lab 2A."
   ]
  },
  {
   "cell_type": "code",
   "execution_count": 146,
   "metadata": {},
   "outputs": [
    {
     "name": "stdout",
     "output_type": "stream",
     "text": [
      "--- exists_in finished successfully\n"
     ]
    }
   ],
   "source": [
    "def test_find_anywhere():\n",
    "    tests = (\n",
    "        ((1,(1,)),True,\"test 1\"),\n",
    "        ((10,(1,2,3)), False,\"test 2\"),\n",
    "        ((4,(1,(2,3),4)), True, \"test 3\"),\n",
    "        ((4,(1,(2,4),3)), True, \"test 4\")\n",
    "    )\n",
    "    for args, expected_output, error_msg in tests:\n",
    "        assert exists_in(*args) == expected_output, error_msg\n",
    "        \n",
    "    print(\"--- exists_in finished successfully\")\n",
    "    \n",
    "test_find_anywhere()"
   ]
  },
  {
   "cell_type": "markdown",
   "metadata": {},
   "source": [
    "d) One of the most famous recursive functions is the Quicksort function (https://en.wikipedia.org/wiki/Quicksort). It allows us to sort a sequence, with repeated values, in (amortized) log-linear time and with a logarithmic number of recursive calls. We will start by implementing Quicksort for a tuple of numbers.\n",
    "\n",
    "Note that Wikipedia illustrates a more advanced _in-place_ version of Quicksort, with a more advanced partition function. For the purposes of this assignment, you can simply pass a new tuple or generator to each recursive call to quicksort. You may use eg _filter_ or a comprehension to create the inputs."
   ]
  },
  {
   "cell_type": "code",
   "execution_count": 162,
   "metadata": {},
   "outputs": [
    {
     "name": "stdout",
     "output_type": "stream",
     "text": [
      "(1031, 1532, 1785, 1983, 1952, 1043, 1677, 1535, 1056, 1552, 1433, 1471, 1138, 1499, 1113, 1379, 1539, 1708, 1046, 1077, 1689, 1213, 1953, 1272, 1560, 1446, 1332, 1055, 1648, 1222, 1759, 1788, 1087, 1084, 1386, 1685, 1512, 1182, 1783, 1515, 1309, 1199, 1061, 1464, 1695, 1797, 1640, 1192, 1149, 1645, 1684, 1930, 1188, 1609, 1992, 1511, 1292, 1460, 1593, 1956, 1324, 1830, 1700, 1086, 1177, 1548, 1382, 1032, 1447, 1849, 1094, 1824, 1485, 1454, 1893, 1479, 1622, 1251, 1504, 1873, 1197, 1370, 1136, 1210, 1903, 1101, 1507, 1323, 1295, 1909, 1175, 1682, 1642, 1932, 1013, 1707, 1691, 1840, 1710, 1420, 1946, 1212, 1582, 1051, 1484, 1747, 1293, 1413, 1193, 1745, 1702, 1995, 1888, 1978, 1421, 1455, 1198, 1400, 1098, 1264, 1715, 1821, 1917, 1892, 1078, 1871, 1027, 1276, 1271, 1595, 1883, 1261, 1897, 1602, 1026, 1377, 1753, 1652, 1813, 1554, 1890, 1653, 1854, 1262, 1611, 1990, 1160, 1139, 1732, 1491, 1887, 1974, 1318, 1738, 1503, 1762, 1498, 1957, 1828, 1488, 1167, 1486, 1347, 1185, 1478, 1933, 1394, 1730, 1928, 1221, 1409, 1822, 1725, 1161, 1727, 1211, 1881, 1544, 1092, 1781, 1376, 1360, 1337, 1436, 1829, 1912, 1768, 1423, 1977, 1808, 1962, 1795, 1862, 1414, 1270, 1129, 1402, 1925, 1095, 1799, 1578, 1119, 1572, 1518, 1457, 1118, 1798, 1672, 1283, 1950, 1551, 1581, 1179, 1358, 1634, 1975, 1579, 1706, 1334, 1068, 1266, 1997, 1757, 1107, 1333, 1868, 1269, 1216, 1510, 1432, 1966, 1989, 1303, 1524, 1127, 1422, 1243, 1701, 1060, 1734, 1633, 1395, 1279, 1437, 1236, 1833, 1274, 1363, 1766, 1090, 1587, 1538, 1111, 1528, 1655, 1004, 1248, 1208, 1012, 1028, 1144, 1109, 1014, 1020, 1929, 1848, 1081, 1863, 1229, 1327, 1944, 1265, 1818, 1673, 1103, 1999, 1586, 1869, 1442, 1389, 1329, 1737, 1988, 1576, 1665, 1647, 1841, 1315, 1712, 1189, 1089, 1403, 1856, 1417, 1577, 1907, 1964, 1542, 1994, 1692, 1298, 1735, 1017, 1172, 1174, 1669, 1297, 1228, 1508, 1726, 1612, 1015, 1697, 1170, 1980, 1864, 1794, 1281, 1618, 1773, 1934, 1901, 1834, 1780, 1686, 1936, 1445, 1176, 1571, 1064, 1920, 1660, 1875, 1453, 1378, 1166, 1970, 1159, 1313, 1346, 1986, 1649, 1062, 1431, 1280, 1996, 1567, 1940, 1029, 1300, 1972, 1259, 1366, 1756, 1242, 1148, 1487, 1719, 1220, 1993, 1277, 1385, 1151, 1286, 1561, 1461, 1207, 1330, 1047, 1884, 1733, 1467, 1162, 1865, 1001, 1475, 1590, 1268, 1852, 1157, 1965, 1752, 1987, 1112, 1410, 1459, 1501, 1877, 1496, 1588, 1668, 1373, 1355, 1163, 1639, 1117, 1002, 1894, 1183, 1224, 1374, 1889, 1234, 1529, 1023, 1304, 1651, 1131, 1895, 1635, 1607, 1631, 1835, 1583, 1202, 1171, 1132, 1624, 1943, 1623, 1067, 1218, 1900, 1764, 1354, 1789, 1041, 1030, 1553, 1731, 1699, 1915, 1302, 1615, 1492, 1448, 1601, 1838, 1237, 1146, 1362, 1308, 1388, 1201, 1356, 1480, 1320, 1680, 1351, 1247, 1787, 1880, 1038, 1088, 1034, 1506, 1452, 1482, 1718, 1204, 1898, 1411, 1555, 1973, 1125, 1556, 1121, 1408, 1147, 1367, 1599, 1819, 1690, 1085, 1597, 1124, 1115, 1739, 1853, 1742, 1627, 1963, 1186, 1036, 1505, 1052, 1678, 1021, 1489, 1203, 1918, 1878, 1285, 1024, 1152, 1613, 1456, 1657, 1173, 1375, 1809, 1605, 1241, 1775, 1716, 1418, 1227, 1495, 1331, 1866, 1857, 1770, 1301, 1072, 1008, 1352, 1009, 1758, 1941, 1688, 1244, 1573, 1771, 1748, 1140, 1427, 1837, 1568, 1126, 1383, 1350, 1357, 1335, 1073, 1239, 1390, 1150, 1209, 1476, 1746, 1341, 1591, 1369, 1079, 1961, 1290, 1310, 1570, 1238, 1646, 1537, 1774, 1135, 1705, 1675, 1099, 1722, 1534, 1919, 1976, 1741, 1483, 1891, 1416, 1406, 1527, 1514, 1284, 1397, 1557, 1931, 1694, 1195, 1924, 1959, 1258, 1676, 1405, 1434, 1958, 1839, 1440, 1744, 1516, 1846, 1232, 1450, 1336, 1194, 1817, 1076, 1317, 1426, 1169, 1275, 1670, 1955, 1441, 1368, 1025, 1477, 1319, 1805, 1926, 1481, 1240, 1600, 1949, 1428, 1720, 1074, 1037, 1882, 1743, 1666, 1721, 1380, 1042, 1530, 1035, 1007, 1339, 1322, 1254, 1097, 1349, 1361, 1598, 1545, 1540, 1102, 1145, 1566, 1779, 1564, 1178, 1250, 1658, 1137, 1811, 1696, 1371, 1049, 1939, 1057, 1861, 1066, 1435, 1381, 1823, 1905, 1044, 1827, 1230, 1899, 1058, 1790, 1679, 1526, 1985, 1070, 1287, 1842, 1010, 1772, 1083, 1777, 1404, 1650, 1832, 1858, 1106, 1807, 1814, 1082, 1305, 1687, 1947, 1641, 1711, 1563, 1419, 1273, 1844, 1255, 1968, 1490, 1039, 1585, 1767, 1396, 1589, 1870, 1536, 1342, 1729, 1604, 1546, 1391, 1399, 1664, 1825, 1703, 1810, 1761, 1245, 1006, 1359, 1122, 1000, 1969, 1543, 1249, 1215, 1713, 1850, 1860, 1282, 1981, 1214, 1123, 1533, 1674, 1876, 1951, 1165, 1120, 1851, 1133, 1782, 1592, 1338, 1233, 1458, 1520, 1769, 1886, 1289, 1522, 1299, 1606, 1802, 1231, 1632, 1815, 1525, 1180, 1321, 1910, 1596, 1500, 1235, 1902, 1393, 1625, 1438, 1096, 1345, 1755, 1134, 1610, 1128, 1616, 1343, 1296, 1574, 1473, 1033, 1155, 1022, 1954, 1549, 1425, 1801, 1521, 1643, 1879, 1906, 1226, 1059, 1463, 1353, 1792, 1372, 1803, 1424, 1754, 1998, 1328, 1914, 1656, 1565, 1040, 1559, 1415, 1661, 1603, 1253, 1923, 1114, 1326, 1257, 1751, 1398, 1267, 1466, 1531, 1575, 1698, 1831, 1412, 1982, 1256, 1470, 1003, 1104, 1252, 1619, 1158, 1219, 1288, 1019, 1584, 1859, 1513, 1307, 1760, 1617, 1728, 1626, 1100, 1763, 1497, 1896, 1045, 1153, 1872, 1156, 1048, 1662, 1644, 1168, 1502, 1714, 1105, 1449, 1164, 1812, 1683, 1154, 1637, 1401, 1065, 1063, 1469, 1472, 1765, 1294, 1075, 1945, 1187, 1260, 1608, 1580, 1325, 1671, 1836, 1804, 1776, 1693, 1960, 1874, 1927, 1407, 1191, 1843, 1493, 1509, 1922, 1011, 1141, 1205, 1462, 1911, 1558, 1143, 1663, 1749, 1517, 1723, 1278, 1184, 1629, 1439, 1050, 1080, 1306, 1667, 1387, 1547, 1638, 1110, 1523, 1093, 1979, 1750, 1967, 1223, 1791, 1541, 1847, 1594, 1474, 1935, 1246, 1885, 1908, 1845, 1904, 1206, 1948, 1659, 1796, 1778, 1430, 1217, 1429, 1938, 1942, 1519, 1681, 1913, 1636, 1443, 1142, 1569, 1263, 1614, 1392, 1826, 1621, 1291, 1971, 1053, 1016, 1806, 1364, 1628, 1018, 1717, 1468, 1312, 1196, 1991, 1654, 1054, 1937, 1786, 1384, 1620, 1867, 1816, 1108, 1736, 1562, 1740, 1340, 1494, 1444, 1071, 1916, 1800, 1784, 1451, 1190, 1344, 1465, 1820, 1181, 1704, 1091, 1311, 1365, 1225, 1921, 1855, 1348, 1200, 1116, 1984, 1005, 1314, 1069, 1130, 1709, 1724, 1630, 1316, 1793, 1550)\n",
      "[1000, 1001, 1002, 1003, 1004, 1005, 1006, 1007, 1008, 1009, 1010, 1011, 1012, 1013, 1014, 1015, 1016, 1017, 1018, 1019, 1020, 1021, 1022, 1023, 1024, 1025, 1026, 1027, 1028, 1029, 1030, 1031, 1032, 1033, 1034, 1035, 1036, 1037, 1038, 1039, 1040, 1041, 1042, 1043, 1044, 1045, 1046, 1047, 1048, 1049, 1050, 1051, 1052, 1053, 1054, 1055, 1056, 1057, 1058, 1059, 1060, 1061, 1062, 1063, 1064, 1065, 1066, 1067, 1068, 1069, 1070, 1071, 1072, 1073, 1074, 1075, 1076, 1077, 1078, 1079, 1080, 1081, 1082, 1083, 1084, 1085, 1086, 1087, 1088, 1089, 1090, 1091, 1092, 1093, 1094, 1095, 1096, 1097, 1098, 1099, 1100, 1101, 1102, 1103, 1104, 1105, 1106, 1107, 1108, 1109, 1110, 1111, 1112, 1113, 1114, 1115, 1116, 1117, 1118, 1119, 1120, 1121, 1122, 1123, 1124, 1125, 1126, 1127, 1128, 1129, 1130, 1131, 1132, 1133, 1134, 1135, 1136, 1137, 1138, 1139, 1140, 1141, 1142, 1143, 1144, 1145, 1146, 1147, 1148, 1149, 1150, 1151, 1152, 1153, 1154, 1155, 1156, 1157, 1158, 1159, 1160, 1161, 1162, 1163, 1164, 1165, 1166, 1167, 1168, 1169, 1170, 1171, 1172, 1173, 1174, 1175, 1176, 1177, 1178, 1179, 1180, 1181, 1182, 1183, 1184, 1185, 1186, 1187, 1188, 1189, 1190, 1191, 1192, 1193, 1194, 1195, 1196, 1197, 1198, 1199, 1200, 1201, 1202, 1203, 1204, 1205, 1206, 1207, 1208, 1209, 1210, 1211, 1212, 1213, 1214, 1215, 1216, 1217, 1218, 1219, 1220, 1221, 1222, 1223, 1224, 1225, 1226, 1227, 1228, 1229, 1230, 1231, 1232, 1233, 1234, 1235, 1236, 1237, 1238, 1239, 1240, 1241, 1242, 1243, 1244, 1245, 1246, 1247, 1248, 1249, 1250, 1251, 1252, 1253, 1254, 1255, 1256, 1257, 1258, 1259, 1260, 1261, 1262, 1263, 1264, 1265, 1266, 1267, 1268, 1269, 1270, 1271, 1272, 1273, 1274, 1275, 1276, 1277, 1278, 1279, 1280, 1281, 1282, 1283, 1284, 1285, 1286, 1287, 1288, 1289, 1290, 1291, 1292, 1293, 1294, 1295, 1296, 1297, 1298, 1299, 1300, 1301, 1302, 1303, 1304, 1305, 1306, 1307, 1308, 1309, 1310, 1311, 1312, 1313, 1314, 1315, 1316, 1317, 1318, 1319, 1320, 1321, 1322, 1323, 1324, 1325, 1326, 1327, 1328, 1329, 1330, 1331, 1332, 1333, 1334, 1335, 1336, 1337, 1338, 1339, 1340, 1341, 1342, 1343, 1344, 1345, 1346, 1347, 1348, 1349, 1350, 1351, 1352, 1353, 1354, 1355, 1356, 1357, 1358, 1359, 1360, 1361, 1362, 1363, 1364, 1365, 1366, 1367, 1368, 1369, 1370, 1371, 1372, 1373, 1374, 1375, 1376, 1377, 1378, 1379, 1380, 1381, 1382, 1383, 1384, 1385, 1386, 1387, 1388, 1389, 1390, 1391, 1392, 1393, 1394, 1395, 1396, 1397, 1398, 1399, 1400, 1401, 1402, 1403, 1404, 1405, 1406, 1407, 1408, 1409, 1410, 1411, 1412, 1413, 1414, 1415, 1416, 1417, 1418, 1419, 1420, 1421, 1422, 1423, 1424, 1425, 1426, 1427, 1428, 1429, 1430, 1431, 1432, 1433, 1434, 1435, 1436, 1437, 1438, 1439, 1440, 1441, 1442, 1443, 1444, 1445, 1446, 1447, 1448, 1449, 1450, 1451, 1452, 1453, 1454, 1455, 1456, 1457, 1458, 1459, 1460, 1461, 1462, 1463, 1464, 1465, 1466, 1467, 1468, 1469, 1470, 1471, 1472, 1473, 1474, 1475, 1476, 1477, 1478, 1479, 1480, 1481, 1482, 1483, 1484, 1485, 1486, 1487, 1488, 1489, 1490, 1491, 1492, 1493, 1494, 1495, 1496, 1497, 1498, 1499, 1500, 1501, 1502, 1503, 1504, 1505, 1506, 1507, 1508, 1509, 1510, 1511, 1512, 1513, 1514, 1515, 1516, 1517, 1518, 1519, 1520, 1521, 1522, 1523, 1524, 1525, 1526, 1527, 1528, 1529, 1530, 1531, 1532, 1533, 1534, 1535, 1536, 1537, 1538, 1539, 1540, 1541, 1542, 1543, 1544, 1545, 1546, 1547, 1548, 1549, 1550, 1551, 1552, 1553, 1554, 1555, 1556, 1557, 1558, 1559, 1560, 1561, 1562, 1563, 1564, 1565, 1566, 1567, 1568, 1569, 1570, 1571, 1572, 1573, 1574, 1575, 1576, 1577, 1578, 1579, 1580, 1581, 1582, 1583, 1584, 1585, 1586, 1587, 1588, 1589, 1590, 1591, 1592, 1593, 1594, 1595, 1596, 1597, 1598, 1599, 1600, 1601, 1602, 1603, 1604, 1605, 1606, 1607, 1608, 1609, 1610, 1611, 1612, 1613, 1614, 1615, 1616, 1617, 1618, 1619, 1620, 1621, 1622, 1623, 1624, 1625, 1626, 1627, 1628, 1629, 1630, 1631, 1632, 1633, 1634, 1635, 1636, 1637, 1638, 1639, 1640, 1641, 1642, 1643, 1644, 1645, 1646, 1647, 1648, 1649, 1650, 1651, 1652, 1653, 1654, 1655, 1656, 1657, 1658, 1659, 1660, 1661, 1662, 1663, 1664, 1665, 1666, 1667, 1668, 1669, 1670, 1671, 1672, 1673, 1674, 1675, 1676, 1677, 1678, 1679, 1680, 1681, 1682, 1683, 1684, 1685, 1686, 1687, 1688, 1689, 1690, 1691, 1692, 1693, 1694, 1695, 1696, 1697, 1698, 1699, 1700, 1701, 1702, 1703, 1704, 1705, 1706, 1707, 1708, 1709, 1710, 1711, 1712, 1713, 1714, 1715, 1716, 1717, 1718, 1719, 1720, 1721, 1722, 1723, 1724, 1725, 1726, 1727, 1728, 1729, 1730, 1731, 1732, 1733, 1734, 1735, 1736, 1737, 1738, 1739, 1740, 1741, 1742, 1743, 1744, 1745, 1746, 1747, 1748, 1749, 1750, 1751, 1752, 1753, 1754, 1755, 1756, 1757, 1758, 1759, 1760, 1761, 1762, 1763, 1764, 1765, 1766, 1767, 1768, 1769, 1770, 1771, 1772, 1773, 1774, 1775, 1776, 1777, 1778, 1779, 1780, 1781, 1782, 1783, 1784, 1785, 1786, 1787, 1788, 1789, 1790, 1791, 1792, 1793, 1794, 1795, 1796, 1797, 1798, 1799, 1800, 1801, 1802, 1803, 1804, 1805, 1806, 1807, 1808, 1809, 1810, 1811, 1812, 1813, 1814, 1815, 1816, 1817, 1818, 1819, 1820, 1821, 1822, 1823, 1824, 1825, 1826, 1827, 1828, 1829, 1830, 1831, 1832, 1833, 1834, 1835, 1836, 1837, 1838, 1839, 1840, 1841, 1842, 1843, 1844, 1845, 1846, 1847, 1848, 1849, 1850, 1851, 1852, 1853, 1854, 1855, 1856, 1857, 1858, 1859, 1860, 1861, 1862, 1863, 1864, 1865, 1866, 1867, 1868, 1869, 1870, 1871, 1872, 1873, 1874, 1875, 1876, 1877, 1878, 1879, 1880, 1881, 1882, 1883, 1884, 1885, 1886, 1887, 1888, 1889, 1890, 1891, 1892, 1893, 1894, 1895, 1896, 1897, 1898, 1899, 1900, 1901, 1902, 1903, 1904, 1905, 1906, 1907, 1908, 1909, 1910, 1911, 1912, 1913, 1914, 1915, 1916, 1917, 1918, 1919, 1920, 1921, 1922, 1923, 1924, 1925, 1926, 1927, 1928, 1929, 1930, 1931, 1932, 1933, 1934, 1935, 1936, 1937, 1938, 1939, 1940, 1941, 1942, 1943, 1944, 1945, 1946, 1947, 1948, 1949, 1950, 1951, 1952, 1953, 1954, 1955, 1956, 1957, 1958, 1959, 1960, 1961, 1962, 1963, 1964, 1965, 1966, 1967, 1968, 1969, 1970, 1971, 1972, 1973, 1974, 1975, 1976, 1977, 1978, 1979, 1980, 1981, 1982, 1983, 1984, 1985, 1986, 1987, 1988, 1989, 1990, 1991, 1992, 1993, 1994, 1995, 1996, 1997, 1998, 1999]\n"
     ]
    }
   ],
   "source": [
    "from random import sample, choice\n",
    "\n",
    "# Write quicksort here:\n",
    "###############################################\n",
    "def quicksort(q):\n",
    "    if(len(q)<=1):\n",
    "        return(q)\n",
    "    else:\n",
    "        pivot = choice(q)\n",
    "        less = []\n",
    "        greater = []\n",
    "        for i in q:\n",
    "            if(i<pivot):\n",
    "                less.extend([i,])\n",
    "            else:\n",
    "                greater.extend([i,])\n",
    "        less = (quicksort(less))\n",
    "        less.extend(quicksort(greater))\n",
    "        return(less)\n",
    "################################################\n",
    "    \n",
    "a = tuple(sample(range(1000,2000), 1000))\n",
    "print(a)\n",
    "b = quicksort(a)\n",
    "print(b)"
   ]
  },
  {
   "cell_type": "markdown",
   "metadata": {},
   "source": [
    "## 3 Higher order functions (HOF)\n",
    " \n",
    "A _higher-order function_ is a function which operates on other functions. What this means exactly is disputed, but we will call any function which returns a function or takes a function as an argument a higher-order function. (Conversely, a function neither taking another function as input nor returning a function we will refer to as a _first-order function_)\n",
    "\n",
    "In R you have encountered these when, for instance, using the `apply` family of functions, which are all versions of what is called a `map` function in functional programming (see below).\n",
    "\n",
    "When using higher-order functions, it is often useful to create simple anonymous functions at the place in the code where they are used, rather than defining a new named function in one place only to call it in a single other place. In R, all functions are created in this way with the `function` keyword, but they are usually assigned to global names with standard assignment (`<-`). Python provides similar functionality using the `lambda` keyword (name inspired by Alonzo Church's [$\\lambda$-calculus](https://www.youtube.com/watch?v=eis11j_iGMs) which has inspired much of functional programming) with which we can create anonymous functions. Of course, we can also pass named functions to higher-order functions, which is usually the case when the function is predefined, general enough to be used in more than one place, or complex enough to warrant separate definition and documentation for the sake of clarity."
   ]
  },
  {
   "cell_type": "markdown",
   "metadata": {},
   "source": [
    "## 3.1 The three standard functions `map`, `reduce` and `filter`\n",
    "\n",
    "There are three standard cases which are widely applicable and many other higher-order functions are special cases or combinations of these. They are: `map`, apply a function on each element in a sequence, `filter`, keep (or conversely, remove) elements from a sequence according to some condition, and `reduce`, combine the elements in a sequence. The `map` function takes a sequence and a function (usually of 1 parameter) which is to be applied to each element of the sequence and might return anything, this function is assumed not to have side effects. The `filter` function takes a function (usually of 1 parameter) which returns a boolean value used to indicate which elements are to be kept. The `reduce` function takes a function (usually of 2 parameters) which is used to combine the elements in the sequence.\n",
    "\n",
    "In Python, `map` and `filter` are standard built-in functions. Since Python 3, the `reduce` function needs to be imported from the `functools` module.\n",
    "\n",
    "Many more advanced functions, of any order, can be created by combining these three higher-order functions.\n",
    "\n",
    "A note from last year: usually, the `reduce` function is more difficult to grasp than `map` and `filter` but I found this blog-post by André Burgaud to be a nice introduction to `reduce`. Note that Burgaud talks about the more general _fold_ concept rather than `reduce`, which is a special case of fold often called _left fold_ (this is covered in more detail in the post). https://www.burgaud.com/foldl-foldr-python/"
   ]
  },
  {
   "cell_type": "markdown",
   "metadata": {},
   "source": [
    "a) Implement a function `mysum` which computes the sum of a list or tuple of numbers using the reduce function and a lambda function."
   ]
  },
  {
   "cell_type": "code",
   "execution_count": 5,
   "metadata": {},
   "outputs": [
    {
     "data": {
      "text/plain": [
       "12"
      ]
     },
     "execution_count": 5,
     "metadata": {},
     "output_type": "execute_result"
    }
   ],
   "source": [
    "from functools import reduce\n",
    "\n",
    "def mysum(seq):\n",
    "    return reduce(lambda x,y: x+y, seq)\n",
    "\n",
    "mysum((4, 7, 1))"
   ]
  },
  {
   "cell_type": "markdown",
   "metadata": {},
   "source": [
    "b) Implement a function `mylength` which uses `map` and `reduce` to compute the length of a sequence. The use of the `len` function is not allowed.\n",
    "\n",
    "[Hint: Use `map` to convert the input to something which can easily be `reduce`:d.]"
   ]
  },
  {
   "cell_type": "code",
   "execution_count": 13,
   "metadata": {},
   "outputs": [
    {
     "name": "stdout",
     "output_type": "stream",
     "text": [
      "5\n",
      "4\n",
      "9\n",
      "42\n"
     ]
    }
   ],
   "source": [
    "def mylength(seq):\n",
    "    return (reduce(lambda count, item: count+1, seq, 0) )\n",
    "    \n",
    "print(mylength((4, 2, 5, 2, 5)))\n",
    "print(mylength(\"test\"))\n",
    "print(mylength((5656,33,2,5,65,90,2,4,132)))\n",
    "print(mylength(\"We are the hollow men we are the dead men!\"))\n"
   ]
  },
  {
   "cell_type": "markdown",
   "metadata": {},
   "source": [
    "## 3.2 Building your own higher order functions"
   ]
  },
  {
   "cell_type": "markdown",
   "metadata": {},
   "source": [
    "a) Re-implement the three basic functional helper functions `map`, `filter` and `reduce` **as purely functional recursive functions**. You may not express this as eg comprehensions; the task is to practice figuring out this type of logic.\n",
    "\n",
    "Note that the built-in versions of these functions work on multiple sequences of equal length if supplied, however, you can assume a single sequence as second parameter, i.e. you can also skip the third parameter to reduce."
   ]
  },
  {
   "cell_type": "code",
   "execution_count": 61,
   "metadata": {},
   "outputs": [
    {
     "data": {
      "text/plain": [
       "(0, 1, 4, 9, 16, 25, 36, 49, 64, 81)"
      ]
     },
     "execution_count": 61,
     "metadata": {},
     "output_type": "execute_result"
    }
   ],
   "source": [
    "def mymap(f, seq):\n",
    "    seq = list(seq)             # list\n",
    "    out = (f(seq[0]),)          # tuple\n",
    "    del seq[0]\n",
    "    if(len(seq)>0):\n",
    "        return( out+mymap(f,seq)  )\n",
    "    else:\n",
    "        return(out)\n",
    "\n",
    "mymap(lambda x:x**2, tuple(range(10)))"
   ]
  },
  {
   "cell_type": "code",
   "execution_count": 66,
   "metadata": {},
   "outputs": [
    {
     "data": {
      "text/plain": [
       "(0, 2, 4, 6, 8)"
      ]
     },
     "execution_count": 66,
     "metadata": {},
     "output_type": "execute_result"
    }
   ],
   "source": [
    "def myfilter(f, seq):\n",
    "    seq = list(seq)\n",
    "    out = ()\n",
    "    if f(seq[0]):\n",
    "        out = out+(seq[0],)\n",
    "    del seq[0]\n",
    "    if(len(seq)>0):\n",
    "        return( out+myfilter(f,seq) )\n",
    "    else:\n",
    "        return(out)\n",
    "\n",
    "myfilter(lambda x:x%2==0, tuple(range(10)))"
   ]
  },
  {
   "cell_type": "markdown",
   "metadata": {},
   "source": [
    "You might note the similarities with how you implemented `sum_even`."
   ]
  },
  {
   "cell_type": "code",
   "execution_count": 74,
   "metadata": {},
   "outputs": [
    {
     "data": {
      "text/plain": [
       "24"
      ]
     },
     "execution_count": 74,
     "metadata": {},
     "output_type": "execute_result"
    }
   ],
   "source": [
    "def myreduce(f, seq):\n",
    "    seq = list(seq)\n",
    "    out = f(seq[0],seq[1])\n",
    "    if len(seq)>2:\n",
    "        del seq[0]\n",
    "        seq[0] = out\n",
    "        return(myreduce(f,seq))\n",
    "    else:\n",
    "        return(out)\n",
    "\n",
    "myreduce(lambda x, y: x*y, tuple(range(1,5)))"
   ]
  },
  {
   "cell_type": "markdown",
   "metadata": {},
   "source": [
    "## 3.3 Returning functions\n",
    "\n",
    "The previous section covered functions which take other functions as input, but what about the opposite, functions returning functions as output?"
   ]
  },
  {
   "cell_type": "markdown",
   "metadata": {},
   "source": [
    "a) Function composition is a common in both maths and programming. Write a function `compose` which takes two functions, $f$ and $g$, and produces the _composite_ function $f \\circ g$, where $(f \\circ g)(x) \\Leftrightarrow f(g(x))$. Example use is given below."
   ]
  },
  {
   "cell_type": "code",
   "execution_count": 6,
   "metadata": {
    "scrolled": true
   },
   "outputs": [
    {
     "name": "stdout",
     "output_type": "stream",
     "text": [
      "[-1.507556722888818, -1.2060453783110545, -0.9045340337332909, -0.6030226891555273, -0.30151134457776363, 0.0, 0.30151134457776363, 0.6030226891555273, 0.9045340337332909, 1.2060453783110545, 1.507556722888818]\n"
     ]
    }
   ],
   "source": [
    "from statistics import stdev, mean\n",
    "\n",
    "#######################################\n",
    "def compose(f, g):\n",
    "    return(lambda x:f(g(x)))\n",
    "#######################################\n",
    "\n",
    "def myscale(vals):\n",
    "    return [x/stdev(vals) for x in vals]\n",
    "\n",
    "def myshift(vals):\n",
    "    return [x-mean(vals) for x in vals]\n",
    "\n",
    "standardize = compose(myscale, myshift)\n",
    "\n",
    "print(standardize(range(-3, 8)))"
   ]
  },
  {
   "cell_type": "markdown",
   "metadata": {},
   "source": [
    "b) Create a function `composition(*funs)` which takes a non-empty sequence of functions of one argument and returns their sequential composition. That is $composition(f_0,f_1, \\ldots, f_n) = f_0 \\circ f_1 \\circ\\ldots \\circ f_n$. (The question of if $f\\circ g \\circ h$ should be read $f\\circ (g\\circ h)$ or $(f \\circ g) \\circ h$ is perfectly valid, but they turn out to be the same. That is, $\\circ$ is associative.)"
   ]
  },
  {
   "cell_type": "code",
   "execution_count": 31,
   "metadata": {},
   "outputs": [
    {
     "name": "stdout",
     "output_type": "stream",
     "text": [
      "[3.4924432771111817, 3.7939546216889455, 4.095465966266709, 4.3969773108444725, 4.698488655422237, 5.0, 5.301511344577763, 5.6030226891555275, 5.904534033733291, 6.206045378311055, 6.507556722888818]\n"
     ]
    }
   ],
   "source": [
    "###############################################\n",
    "def composition(*funs):\n",
    "    return(reduce(compose, funs, lambda f:f))\n",
    "###############################################\n",
    "\n",
    "def add1(vals):\n",
    "    return [x+5 for x in vals]\n",
    "\n",
    "standardize = composition(add1, myscale, myshift)\n",
    "print(standardize(range(-3, 8)))"
   ]
  },
  {
   "cell_type": "markdown",
   "metadata": {},
   "source": [
    "Hint: Don't remember what can be found in `*funs`? Print it! Don't know how the values should be combined? Write out some simple example on paper."
   ]
  },
  {
   "cell_type": "markdown",
   "metadata": {},
   "source": [
    "Note: This task demonstrates the generality of our constructs. Previously we worked with sequences of numbers and the like. Now we lift this to the level of working with functions as values, and instead of using combinators which work on numbers, we use function combinators in conjunction with our known patterns."
   ]
  },
  {
   "cell_type": "markdown",
   "metadata": {},
   "source": [
    "### Voluntary task: pipelining\n",
    "\n",
    "When doing data analysis, one very important part is pre-processing. Often, data goes through a number of steps of preprocessing, sometimes called a pipeline. The function composition example above can be seen as a special case of such a pipeline for only two functions. By clever use of higher order functions, we can build a pipeline function which takes a list or tuple of data transforming functions and creates a function which applies these sequentially. Construct such a function called `make_pipeline`. In order to focus on the primary purpose of the `make_pipeline` function, we will perform a very simple set of transformations, increment each value by 1, take the absolute value, and then take the square root. Usage example and code for the `inc` function is supplied below.\n",
    "\n",
    "You may want to use functions you have defined above."
   ]
  },
  {
   "cell_type": "code",
   "execution_count": 1,
   "metadata": {
    "scrolled": false
   },
   "outputs": [
    {
     "ename": "IndentationError",
     "evalue": "expected an indented block (<ipython-input-1-819265068c05>, line 12)",
     "output_type": "error",
     "traceback": [
      "\u001b[1;36m  File \u001b[1;32m\"<ipython-input-1-819265068c05>\"\u001b[1;36m, line \u001b[1;32m12\u001b[0m\n\u001b[1;33m    def inc(x):\u001b[0m\n\u001b[1;37m      ^\u001b[0m\n\u001b[1;31mIndentationError\u001b[0m\u001b[1;31m:\u001b[0m expected an indented block\n"
     ]
    }
   ],
   "source": [
    "from functools import reduce, partial\n",
    "from math import sqrt \n",
    "\n",
    "\n",
    "def make_pipeline(*funs):\n",
    "    return (lambda vals: ???)\n",
    "###################################################################################################################\n",
    "#     return (lambda vals: reduce(partial(composition),funs) )\n",
    "\n",
    "# We can even drop the lambda vals : bit, using partial\n",
    "# evaluation (see the help for functools.partial!)\n",
    "def inc(x):\n",
    "    return x+1\n",
    "\n",
    "pipeline = make_pipeline(inc, abs, sqrt)\n",
    "tuple(pipeline(range(-5,5)))"
   ]
  },
  {
   "cell_type": "markdown",
   "metadata": {},
   "source": [
    "## 4. Simple declarative Pythonic patterns (involing HOF)"
   ]
  },
  {
   "cell_type": "markdown",
   "metadata": {},
   "source": [
    "a) As preparation, create a named tuple type \"coord\" which has fields `x` and `y`."
   ]
  },
  {
   "cell_type": "code",
   "execution_count": 9,
   "metadata": {},
   "outputs": [],
   "source": [
    "# Add the requisite import statement here\n",
    "from collections import namedtuple\n",
    "coord = namedtuple('tuple','x y')\n",
    "\n",
    "five_three = coord(5,3)\n",
    "assert five_three.x == 5, \"first element is the x coordinate\"\n",
    "assert five_three.y == 3, \"the second element is the y coordinate\""
   ]
  },
  {
   "cell_type": "markdown",
   "metadata": {},
   "source": [
    "b) Generate a $10^7$ random coordinates, with $x$ and $y$ coordinates drawn uniformly from [-1000,1000]. Save the tuple of those with $x + y > 0$ as `rnd_coords`. How many are there?"
   ]
  },
  {
   "cell_type": "code",
   "execution_count": 4,
   "metadata": {},
   "outputs": [
    {
     "name": "stdout",
     "output_type": "stream",
     "text": [
      "((595.4031511250205, 141.25352046728608), (159.50057509032376, 55.32983668637712), (-347.2878513265048, 748.3720842509638), (-779.7518561206957, 949.6727170093031), (75.16486979977799, 694.2901282288078), (374.3445315050815, 421.24836057660355), (-652.118742017312, 890.623871939543), (460.0932212126138, 274.4477595114722), (636.830418272988, 300.59975528851896), (591.5510534130256, -551.4860085254645), (-609.5964098945979, 883.5366251690159), (713.8679910252454, -646.7514425387628), (-819.9180572728206, 897.5959785748535), (959.5970423386684, -497.7332044747076), (808.9173938367824, 652.3791581618668), (-357.72727599677773, 764.69242264676), (-165.7157486971936, 543.1243041005673), (-879.083004708563, 904.2609311046765), (969.5287766493291, 423.5899765521408), (369.7276195568297, -88.7773332893629), (892.5005748525787, -745.2067142271342), (325.86294619003866, 558.6037471434315), (863.129133061113, 127.460852754509), (923.0348000175409, 374.15075823535426), (633.2868440997422, 649.2890838379622), (634.3472398906749, -574.5273378494485), (-113.30564540364696, 457.88519062651585), (787.0240858469372, -76.56307331224912), (145.0856387962774, 6.534285872022565))\n"
     ]
    }
   ],
   "source": [
    "from random import uniform\n",
    " # Your code here\n",
    "def random_coords(n,a,b):\n",
    "    x=[uniform(a,b) for _ in range(n)] \n",
    "    y=[uniform(a,b) for _ in range(n)]\n",
    "    rnd_coordinates= [ (f,b) for f, b in zip(x, y) if f+b>0 ]\n",
    "    return(tuple(rnd_coordinates))\n",
    "\n",
    "rnd_coords=random_coords(10**7,-1000,1000)\n",
    "print(rnd_coords[1:30])"
   ]
  },
  {
   "cell_type": "markdown",
   "metadata": {},
   "source": [
    "[Note: If this takes a while, you might want to consider when the elements are generated and saved.]"
   ]
  },
  {
   "cell_type": "markdown",
   "metadata": {},
   "source": [
    "**Before having solved the tasks below, consider setting `coords` to a smaller set (eg generate $10^3$ elements instead of $10^7$ to start with).**"
   ]
  },
  {
   "cell_type": "markdown",
   "metadata": {},
   "source": [
    "c) Let `sorted_rnd` be the coordinated sorted first by the `x` component and then the `y`. Use a built-in Python sorting function. Do you need any extra parameters? Why? Why not? How would you find out where the order comes from (and might it be consistent but useless, eg sorting the elements by memory location)?"
   ]
  },
  {
   "cell_type": "code",
   "execution_count": 6,
   "metadata": {},
   "outputs": [
    {
     "name": "stdout",
     "output_type": "stream",
     "text": [
      "((-32.12056046300722, 335.2941981748834), (361.6446729531722, 790.9883462510686), (648.0788630623808, -361.6277287264487), (916.6520080959763, -241.17282829706937), (587.1029885715848, -115.81860660827874), (402.98090198582145, -87.30293513767015), (980.7536645311586, -283.8421337898793), (974.7673370837801, 163.21894705288537), (498.0969309408804, -219.80919815575555), (211.93354484605356, 262.3957544457421), (302.0078832845527, 268.40390562991024), (749.358014487837, 214.60611157003154), (933.2671142324482, -294.21813615669976), (302.74394245298936, 293.98632849935984), (617.2974174037556, -56.046665035263345), (654.5511450726444, 853.7703977182057), (976.4814276690468, 179.45921233531772), (-735.9449171357204, 827.0535640228736), (-721.9097255380102, 731.4735965476182), (972.0018965939912, 35.83260297952552))\n",
      "\n",
      "\n",
      "[(917.6326219979992, -913.4941304053951), (977.8187299173301, -865.0409983560894), (815.5252698527224, -815.4853068754952), (790.9542327643403, -755.0138952784307), (875.2550375206574, -738.4321474735755), (759.1158717941896, -728.0444176009306), (906.6669955868788, -720.0771880316481), (979.1526395592866, -679.523536840429), (958.5364566346864, -677.8996087158687), (794.5689055651239, -673.1903627997326), (859.4927793125462, -668.5404783657269), (861.9621049001239, -664.3154951958818), (749.1654024553507, -660.3900389313216), (810.2275213853711, -628.0512796919868), (732.1849653459351, -627.0517043908912), (884.0302755631535, -597.6974822336404), (922.1752142696953, -596.0198734733666), (888.1602242061228, -590.609680309675), (805.034448591472, -583.3116842281883), (720.153390779212, -579.9934775944054)]\n"
     ]
    }
   ],
   "source": [
    "\n",
    "s_rnd = random_coords(10**3,-1000,1000) # your code here\n",
    "sorted_rnd =sorted(s_rnd, key=lambda x: (x[0]))\n",
    "sorted_rnd =sorted(s_rnd, key=lambda x:(x[1]))\n",
    "\n",
    "print(s_rnd[0:20])\n",
    "print(\"\\n\")\n",
    "print(sorted_rnd[0:20])"
   ]
  },
  {
   "cell_type": "markdown",
   "metadata": {},
   "source": [
    "[General words of advice:\n",
    "\n",
    "* During testing, you might want to use a smaller data set (and then try it out at a larger set).\n",
    "* You might not want to display the entire list to see if you're right all the time. Slicing out the first and last elements, say the first or last 10, might provide some hints.\n",
    "* You could naturally define a function which checks that the list is in order (or performs some probabilistic sampling test), to test this.]"
   ]
  },
  {
   "cell_type": "markdown",
   "metadata": {},
   "source": [
    "d) Sort the values (in the sense of returning a new sorted tuple) by their Euclidean distance to the point (5,3). Continue using a built-in Python sorting function."
   ]
  },
  {
   "cell_type": "code",
   "execution_count": 7,
   "metadata": {},
   "outputs": [
    {
     "name": "stdout",
     "output_type": "stream",
     "text": [
      "[(36.446607663029454, 51.91432099090207), (-31.233922610499803, 50.86767885367226), (-26.340990297480516, 81.57285853418284), (6.2785763835266835, 89.61064193159359), (59.27871238335433, 79.33722378457537), (-58.90035951974812, 84.23495013637307), (115.93934930110868, -3.3381736656026533), (96.8566559278147, 99.38791211699981), (15.124722831732583, 138.4124726254629), (148.25213315225255, -51.841783216492786), (100.73299579402601, 129.51484115787525), (-76.69437093306271, 139.6832036113508), (-19.74105207087871, 169.68513320587022), (102.02589965349898, 141.24176509581662), (118.24368560924927, 129.31895025656308), (134.11976595101305, 122.60888818553394), (-84.77373299374119, 155.6882140884618), (148.21445304194526, 110.27951622402225), (194.08837691309373, 83.44866418112838), (152.1992802618745, 171.52093379866074), (231.78780488065217, -23.870576668399508), (234.3355854160318, 24.89506882018759), (-0.9661552896671992, 252.9176279321232), (213.97566898414107, -142.85739551081406), (266.97717177280833, 10.041665860436751), (-158.3257772520144, 209.48596876116267), (269.5953052040934, 20.08725346510505), (266.8784474122799, 54.75832555112402), (259.4593634076855, 96.16860894388378)]\n"
     ]
    }
   ],
   "source": [
    "import numpy as np\n",
    "\n",
    "#eucl_dist=list(map(lambda x : sqrt((x[0]-5)**2+(x[1]-3)**2),sorted_rnd ))\n",
    "eucl_dist=[np.linalg.norm(np.array(five_three)-np.array(element)) for element in sorted_rnd]\n",
    "\n",
    "d=dict(zip(eucl_dist,sorted_rnd))  # k:dist, v:coords\n",
    "d_ord=dict(sorted(d.items()))\n",
    "\n",
    "pts_near_53=list(d_ord.values())\n",
    "\n",
    "print(pts_near_53[1:30])\n"
   ]
  },
  {
   "cell_type": "markdown",
   "metadata": {},
   "source": [
    "Note: here we customise the behaviour of a built-in function by passing it information about our intended ordering."
   ]
  },
  {
   "cell_type": "markdown",
   "metadata": {},
   "source": [
    "d) Define the function `sorted_by_distance(origo)` which takes a coordinate `origo` and returns a function which sorts the sequence by the euclidean distance to `origo`. (Ie those closest to origo come first in the list.)"
   ]
  },
  {
   "cell_type": "code",
   "execution_count": 16,
   "metadata": {},
   "outputs": [],
   "source": [
    "###########################################################\n",
    "def sorted_by_distance(origo):\n",
    "    def f(sorted_rnd):\n",
    "        eucl_dist=[np.linalg.norm(np.array(origo)-np.array(element)) for element in sorted_rnd]\n",
    "        d=dict(zip(eucl_dist,sorted_rnd))   # k:dist, v:coords\n",
    "        d_ord=dict(sorted(d.items()))\n",
    "        pts_near_53=list(d_ord.values())\n",
    "        \n",
    "        return(pts_near_53)\n",
    "    return(f)\n",
    "############################################################\n",
    "\n",
    "ordered_by_closeness_to_53 = sorted_by_distance(coord(5,3))   # Return the function.\n",
    "pts_near_53_2 = ordered_by_closeness_to_53(sorted_rnd)     # Applying the function \n",
    "\n",
    "assert pts_near_53 == pts_near_53_2"
   ]
  },
  {
   "cell_type": "markdown",
   "metadata": {},
   "source": [
    "[Note: Here we extend the work above to a higher-order function, which uses the local value of `origo`. In essence, this task summarises higher order functionality - we create a closure, return a function and use a custom ordering ]"
   ]
  },
  {
   "cell_type": "markdown",
   "metadata": {},
   "source": [
    "e) So far in the course, we have seen, and possibly used `enumerate`, `range`, `zip`, `map` and `filter` as declarative constructs (along with the general comprehension syntax). Now we introduce a further useful iterator construct. Construct something called `reverse_squared` which when prompted would give us the squares of elements 0,...,N _but in reverse_ (that is $N^2, (N-1)^2, ..., 2^2, 1^2, 0^2$)."
   ]
  },
  {
   "cell_type": "code",
   "execution_count": 63,
   "metadata": {},
   "outputs": [
    {
     "name": "stdout",
     "output_type": "stream",
     "text": [
      "[998001, 996004, 994009, 992016, 990025, 988036, 986049, 984064, 982081, 980100, 978121, 976144, 974169, 972196, 970225, 968256, 966289, 964324, 962361, 960400, 958441, 956484, 954529, 952576, 950625, 948676, 946729, 944784, 942841, 940900, 938961, 937024, 935089, 933156, 931225, 929296, 927369, 925444, 923521, 921600, 919681, 917764, 915849, 913936, 912025, 910116, 908209, 906304, 904401, 902500, 900601, 898704, 896809, 894916, 893025, 891136, 889249, 887364, 885481, 883600, 881721, 879844, 877969, 876096, 874225, 872356, 870489, 868624, 866761, 864900, 863041, 861184, 859329, 857476, 855625, 853776, 851929, 850084, 848241, 846400, 844561, 842724, 840889, 839056, 837225, 835396, 833569, 831744, 829921, 828100, 826281, 824464, 822649, 820836, 819025, 817216, 815409, 813604, 811801, 810000, 808201, 806404, 804609, 802816, 801025, 799236, 797449, 795664, 793881, 792100, 790321, 788544, 786769, 784996, 783225, 781456, 779689, 777924, 776161, 774400, 772641, 770884, 769129, 767376, 765625, 763876, 762129, 760384, 758641, 756900, 755161, 753424, 751689, 749956, 748225, 746496, 744769, 743044, 741321, 739600, 737881, 736164, 734449, 732736, 731025, 729316, 727609, 725904, 724201, 722500, 720801, 719104, 717409, 715716, 714025, 712336, 710649, 708964, 707281, 705600, 703921, 702244, 700569, 698896, 697225, 695556, 693889, 692224, 690561, 688900, 687241, 685584, 683929, 682276, 680625, 678976, 677329, 675684, 674041, 672400, 670761, 669124, 667489, 665856, 664225, 662596, 660969, 659344, 657721, 656100, 654481, 652864, 651249, 649636, 648025, 646416, 644809, 643204, 641601, 640000, 638401, 636804, 635209, 633616, 632025, 630436, 628849, 627264, 625681, 624100, 622521, 620944, 619369, 617796, 616225, 614656, 613089, 611524, 609961, 608400, 606841, 605284, 603729, 602176, 600625, 599076, 597529, 595984, 594441, 592900, 591361, 589824, 588289, 586756, 585225, 583696, 582169, 580644, 579121, 577600, 576081, 574564, 573049, 571536, 570025, 568516, 567009, 565504, 564001, 562500, 561001, 559504, 558009, 556516, 555025, 553536, 552049, 550564, 549081, 547600, 546121, 544644, 543169, 541696, 540225, 538756, 537289, 535824, 534361, 532900, 531441, 529984, 528529, 527076, 525625, 524176, 522729, 521284, 519841, 518400, 516961, 515524, 514089, 512656, 511225, 509796, 508369, 506944, 505521, 504100, 502681, 501264, 499849, 498436, 497025, 495616, 494209, 492804, 491401, 490000, 488601, 487204, 485809, 484416, 483025, 481636, 480249, 478864, 477481, 476100, 474721, 473344, 471969, 470596, 469225, 467856, 466489, 465124, 463761, 462400, 461041, 459684, 458329, 456976, 455625, 454276, 452929, 451584, 450241, 448900, 447561, 446224, 444889, 443556, 442225, 440896, 439569, 438244, 436921, 435600, 434281, 432964, 431649, 430336, 429025, 427716, 426409, 425104, 423801, 422500, 421201, 419904, 418609, 417316, 416025, 414736, 413449, 412164, 410881, 409600, 408321, 407044, 405769, 404496, 403225, 401956, 400689, 399424, 398161, 396900, 395641, 394384, 393129, 391876, 390625, 389376, 388129, 386884, 385641, 384400, 383161, 381924, 380689, 379456, 378225, 376996, 375769, 374544, 373321, 372100, 370881, 369664, 368449, 367236, 366025, 364816, 363609, 362404, 361201, 360000, 358801, 357604, 356409, 355216, 354025, 352836, 351649, 350464, 349281, 348100, 346921, 345744, 344569, 343396, 342225, 341056, 339889, 338724, 337561, 336400, 335241, 334084, 332929, 331776, 330625, 329476, 328329, 327184, 326041, 324900, 323761, 322624, 321489, 320356, 319225, 318096, 316969, 315844, 314721, 313600, 312481, 311364, 310249, 309136, 308025, 306916, 305809, 304704, 303601, 302500, 301401, 300304, 299209, 298116, 297025, 295936, 294849, 293764, 292681, 291600, 290521, 289444, 288369, 287296, 286225, 285156, 284089, 283024, 281961, 280900, 279841, 278784, 277729, 276676, 275625, 274576, 273529, 272484, 271441, 270400, 269361, 268324, 267289, 266256, 265225, 264196, 263169, 262144, 261121, 260100, 259081, 258064, 257049, 256036, 255025, 254016, 253009, 252004, 251001, 250000, 249001, 248004, 247009, 246016, 245025, 244036, 243049, 242064, 241081, 240100, 239121, 238144, 237169, 236196, 235225, 234256, 233289, 232324, 231361, 230400, 229441, 228484, 227529, 226576, 225625, 224676, 223729, 222784, 221841, 220900, 219961, 219024, 218089, 217156, 216225, 215296, 214369, 213444, 212521, 211600, 210681, 209764, 208849, 207936, 207025, 206116, 205209, 204304, 203401, 202500, 201601, 200704, 199809, 198916, 198025, 197136, 196249, 195364, 194481, 193600, 192721, 191844, 190969, 190096, 189225, 188356, 187489, 186624, 185761, 184900, 184041, 183184, 182329, 181476, 180625, 179776, 178929, 178084, 177241, 176400, 175561, 174724, 173889, 173056, 172225, 171396, 170569, 169744, 168921, 168100, 167281, 166464, 165649, 164836, 164025, 163216, 162409, 161604, 160801, 160000, 159201, 158404, 157609, 156816, 156025, 155236, 154449, 153664, 152881, 152100, 151321, 150544, 149769, 148996, 148225, 147456, 146689, 145924, 145161, 144400, 143641, 142884, 142129, 141376, 140625, 139876, 139129, 138384, 137641, 136900, 136161, 135424, 134689, 133956, 133225, 132496, 131769, 131044, 130321, 129600, 128881, 128164, 127449, 126736, 126025, 125316, 124609, 123904, 123201, 122500, 121801, 121104, 120409, 119716, 119025, 118336, 117649, 116964, 116281, 115600, 114921, 114244, 113569, 112896, 112225, 111556, 110889, 110224, 109561, 108900, 108241, 107584, 106929, 106276, 105625, 104976, 104329, 103684, 103041, 102400, 101761, 101124, 100489, 99856, 99225, 98596, 97969, 97344, 96721, 96100, 95481, 94864, 94249, 93636, 93025, 92416, 91809, 91204, 90601, 90000, 89401, 88804, 88209, 87616, 87025, 86436, 85849, 85264, 84681, 84100, 83521, 82944, 82369, 81796, 81225, 80656, 80089, 79524, 78961, 78400, 77841, 77284, 76729, 76176, 75625, 75076, 74529, 73984, 73441, 72900, 72361, 71824, 71289, 70756, 70225, 69696, 69169, 68644, 68121, 67600, 67081, 66564, 66049, 65536, 65025, 64516, 64009, 63504, 63001, 62500, 62001, 61504, 61009, 60516, 60025, 59536, 59049, 58564, 58081, 57600, 57121, 56644, 56169, 55696, 55225, 54756, 54289, 53824, 53361, 52900, 52441, 51984, 51529, 51076, 50625, 50176, 49729, 49284, 48841, 48400, 47961, 47524, 47089, 46656, 46225, 45796, 45369, 44944, 44521, 44100, 43681, 43264, 42849, 42436, 42025, 41616, 41209, 40804, 40401, 40000, 39601, 39204, 38809, 38416, 38025, 37636, 37249, 36864, 36481, 36100, 35721, 35344, 34969, 34596, 34225, 33856, 33489, 33124, 32761, 32400, 32041, 31684, 31329, 30976, 30625, 30276, 29929, 29584, 29241, 28900, 28561, 28224, 27889, 27556, 27225, 26896, 26569, 26244, 25921, 25600, 25281, 24964, 24649, 24336, 24025, 23716, 23409, 23104, 22801, 22500, 22201, 21904, 21609, 21316, 21025, 20736, 20449, 20164, 19881, 19600, 19321, 19044, 18769, 18496, 18225, 17956, 17689, 17424, 17161, 16900, 16641, 16384, 16129, 15876, 15625, 15376, 15129, 14884, 14641, 14400, 14161, 13924, 13689, 13456, 13225, 12996, 12769, 12544, 12321, 12100, 11881, 11664, 11449, 11236, 11025, 10816, 10609, 10404, 10201, 10000, 9801, 9604, 9409, 9216, 9025, 8836, 8649, 8464, 8281, 8100, 7921, 7744, 7569, 7396, 7225, 7056, 6889, 6724, 6561, 6400, 6241, 6084, 5929, 5776, 5625, 5476, 5329, 5184, 5041, 4900, 4761, 4624, 4489, 4356, 4225, 4096, 3969, 3844, 3721, 3600, 3481, 3364, 3249, 3136, 3025, 2916, 2809, 2704, 2601, 2500, 2401, 2304, 2209, 2116, 2025, 1936, 1849, 1764, 1681, 1600, 1521, 1444, 1369, 1296, 1225, 1156, 1089, 1024, 961, 900, 841, 784, 729, 676, 625, 576, 529, 484, 441, 400, 361, 324, 289, 256, 225, 196, 169, 144, 121, 100, 81, 64, 49, 36, 25, 16, 9, 4, 1, 0]\n"
     ]
    }
   ],
   "source": [
    "# The time it takes to run this shouldn't really depend on if you use SMALL_N or BIG_N.\n",
    "\n",
    "BIG_N = 99999999\n",
    "SMALL_N = 999\n",
    "\n",
    "N = SMALL_N    # change this to test later on\n",
    "\n",
    "reverse_squares = list(map(lambda x :x*x ,range(N,-1,-1)))# your code here\n",
    "# reverse_squares = list(map(lambda x :x*x ,range(N)[::-1]  ))\n",
    "\n",
    "print(reverse_squares)"
   ]
  },
  {
   "cell_type": "code",
   "execution_count": 64,
   "metadata": {
    "scrolled": true
   },
   "outputs": [
    {
     "name": "stdout",
     "output_type": "stream",
     "text": [
      "Did we find it?  True\n",
      "         65 function calls in 0.000 seconds\n",
      "\n",
      "   Ordered by: standard name\n",
      "\n",
      "   ncalls  tottime  percall  cumtime  percall filename:lineno(function)\n",
      "        5    0.000    0.000    0.000    0.000 :0(acquire)\n",
      "        5    0.000    0.000    0.000    0.000 :0(append)\n",
      "        1    0.000    0.000    0.000    0.000 :0(exec)\n",
      "        4    0.000    0.000    0.000    0.000 :0(getpid)\n",
      "        4    0.000    0.000    0.000    0.000 :0(isinstance)\n",
      "        1    0.000    0.000    0.000    0.000 :0(print)\n",
      "        1    0.000    0.000    0.000    0.000 :0(setprofile)\n",
      "        1    0.000    0.000    0.000    0.000 <string>:1(<module>)\n",
      "        5    0.000    0.000    0.000    0.000 iostream.py:195(schedule)\n",
      "        4    0.000    0.000    0.000    0.000 iostream.py:300(_is_master_process)\n",
      "        4    0.000    0.000    0.000    0.000 iostream.py:313(_schedule_flush)\n",
      "        4    0.000    0.000    0.000    0.000 iostream.py:366(write)\n",
      "        5    0.000    0.000    0.000    0.000 iostream.py:93(_event_pipe)\n",
      "        1    0.000    0.000    0.000    0.000 profile:0(print('Did we find it? ', 998001 in reverse_squares))\n",
      "        0    0.000             0.000          profile:0(profiler)\n",
      "        5    0.000    0.000    0.000    0.000 socket.py:333(send)\n",
      "        5    0.000    0.000    0.000    0.000 threading.py:1062(_wait_for_tstate_lock)\n",
      "        5    0.000    0.000    0.000    0.000 threading.py:1104(is_alive)\n",
      "        5    0.000    0.000    0.000    0.000 threading.py:506(is_set)\n",
      "\n",
      "\n"
     ]
    }
   ],
   "source": [
    "# Experimentation: copy and paste your code from above into this cell.\n",
    "# This is rather crude, but we want you to to be able to trust that any\n",
    "# slowness in the cell above can be found by reference to that code, not the\n",
    "# profiling code below.\n",
    "\n",
    "# Copy-pasting as it might be useful to have fresh maps.\n",
    "\n",
    "\n",
    "import profile\n",
    "\n",
    "# We cut and paste this code \n",
    "BIG_N = 99999999\n",
    "SMALL_N = 999\n",
    "\n",
    "N = SMALL_N    \n",
    "# Look at the run time. Switching from BIG_N to SMALL_N shouldn't really matter.\n",
    "# This suggests that we have quick access to elements at the end of our (squared) range.\n",
    "\n",
    "reverse_squares=list(map(lambda x :x*x ,range(N,-1,-1)))  # <<----------- Your code from the cell above goes here.\n",
    "\n",
    "\n",
    "profile.run(\"print('Did we find it? ', {} in reverse_squares)\".format( N**2 ))"
   ]
  },
  {
   "cell_type": "markdown",
   "metadata": {},
   "source": [
    "Note: once you know of the construct, this task is extremely simple. It mostly serves as a demonstration of the availability of these constructs, and how they can be combined. Also, it points to efficiency considerations when using declarative iterator constructs as opposed to fixed computed structures.\n",
    "\n",
    "As the profiling code above suggests, where we redefine the object in every run, we do not have a purely functional construct. In that case, we wouldn't be able to exhaust the values."
   ]
  },
  {
   "cell_type": "markdown",
   "metadata": {},
   "source": [
    "[Additional reading: some additional tools are available in the `itertools` module.]"
   ]
  },
  {
   "cell_type": "markdown",
   "metadata": {},
   "source": [
    "## 5 Mutating function state\n",
    "\n",
    "A function always has access to the environment in which it was created. Usually, this means that the function can access global variables. It also means that it can access and modify local bindings from where it was created.\n",
    "\n",
    "A closure is a function which has access to an environment which is not accessible from outside the function (but which is not destroyed when the function returns). I.e. it is a way to introduce a small measure of statefulness into functional programming. In Python, iterators and generators work much like this. However, we can use the general concept in many cases."
   ]
  },
  {
   "cell_type": "markdown",
   "metadata": {},
   "source": [
    "a) Implement a function `make_counter` which has a single parameter `n` which acts as the initial value for a counter. The function should return a function with no parameters which, when called, increments the value of `n` by 1 and returns the new value."
   ]
  },
  {
   "cell_type": "code",
   "execution_count": 68,
   "metadata": {},
   "outputs": [
    {
     "name": "stdout",
     "output_type": "stream",
     "text": [
      "To show that the functions do not affect each others' states, consider the printout:\n",
      "counter_A returns: 1\n",
      "counter_A returns: 2\n",
      "counter_B returns: 16\n",
      "counter_A returns: 3 (was it affected by the call to counter_B?)\n"
     ]
    }
   ],
   "source": [
    "def make_counter(n):\n",
    "    count = n\n",
    "    def minus1():\n",
    "        nonlocal count\n",
    "        count += 1 \n",
    "        return(count)\n",
    "    \n",
    "    return minus1\n",
    "\n",
    "counter_A = make_counter(0)\n",
    "counter_B = make_counter(15)\n",
    "print(\"To show that the functions do not affect each others' states, consider the printout:\")\n",
    "print(\"counter_A returns: {}\".format(counter_A()))\n",
    "print(\"counter_A returns: {}\".format(counter_A()))\n",
    "print(\"counter_B returns: {}\".format(counter_B()))\n",
    "print(\"counter_A returns: {} (was it affected by the call to counter_B?)\".format(counter_A()))"
   ]
  },
  {
   "cell_type": "markdown",
   "metadata": {},
   "source": [
    "## 6. Use case: parametrisation\n",
    "\n",
    "Above, we see how `sorted` can be parametrised with information about the intended order. We want to extend our `quicksort` to work the same way. We should be able to provide the way for it to tell if object A in the tuple should come before object B, or after. This is done by mapping the objects onto something where we do have an order."
   ]
  },
  {
   "cell_type": "markdown",
   "metadata": {},
   "source": [
    "a) Copy your code from the `quicksort` task above, and extend it. Call the function `quicksort_param` for parametrised, and allow a key parameter to be passed in (like in `sorted`). Note that the key function should be optional. We thus want default arguments."
   ]
  },
  {
   "cell_type": "code",
   "execution_count": 107,
   "metadata": {},
   "outputs": [
    {
     "name": "stdout",
     "output_type": "stream",
     "text": [
      "((0.8334861454888004, 0.8055651906324874, 0.26992551625794114), (0.5879270050797308, 0.8971394298831729, 0.9437707440606743), (0.5816219140536405, 0.2129269700370776, 0.7829621242035527), (0.47183655998415575, 0.017433900641832034, 0.314265614570982), (0.1424661100677166, 0.7611473742911552, 0.1894825001649726), (0.8704900023964565, 0.40128824687744535, 0.8474978715454016), (0.9531858552206058, 0.4354521488093991, 0.777474964225586), (0.028230013128629716, 0.8270635777410312, 0.6379009937867636), (0.021052796508172933, 0.030359071360820833, 0.34517566539233413), (0.428242716012454, 0.08516215672756633, 0.3751542549636422))\n",
      "[(0.021052796508172933, 0.030359071360820833, 0.34517566539233413), (0.47183655998415575, 0.017433900641832034, 0.314265614570982), (0.428242716012454, 0.08516215672756633, 0.3751542549636422), (0.1424661100677166, 0.7611473742911552, 0.1894825001649726), (0.028230013128629716, 0.8270635777410312, 0.6379009937867636), (0.5816219140536405, 0.2129269700370776, 0.7829621242035527), (0.8334861454888004, 0.8055651906324874, 0.26992551625794114), (0.8704900023964565, 0.40128824687744535, 0.8474978715454016), (0.9531858552206058, 0.4354521488093991, 0.777474964225586), (0.5879270050797308, 0.8971394298831729, 0.9437707440606743)]\n",
      "[[2], [5], [9], [200]]\n"
     ]
    }
   ],
   "source": [
    "from random import random, choice\n",
    "# Write quicksort_param here:\n",
    "###############################################\n",
    "def quicksort_param(q, f = sum):\n",
    "    if(len(q)<=1):\n",
    "        return(q)\n",
    "    else:\n",
    "        pivot = choice(q)\n",
    "        if isinstance(pivot, int):\n",
    "            pivot = [pivot,]             # change int to list(iterable)\n",
    "        less = []\n",
    "        greater = []\n",
    "        for i in q:\n",
    "            if isinstance(i,int):\n",
    "                i = [i,]                  # change int to list(iterable)\n",
    "            \n",
    "            if(f(i)<f(pivot)):\n",
    "                less.extend([i,])\n",
    "            else:\n",
    "                greater.extend([i,])\n",
    "        less = (quicksort_param(less,f))\n",
    "        less.extend(quicksort_param(greater,f))\n",
    "        return(less)\n",
    "################################################\n",
    "\n",
    "a = tuple(tuple(random() for i in range(3)) for j in range(10))\n",
    "print(a)\n",
    "b = quicksort_param(a, sum)   # Elements are three-tuples. Those with smallest sums of values should come first.\n",
    "print(b)\n",
    "print(quicksort_param([5,2,9,200]))   # No key function provided."
   ]
  },
  {
   "cell_type": "markdown",
   "metadata": {},
   "source": [
    "## Attribution\n",
    "\n",
    "Lab by Johan Falkenjack (2018), extended and rewritten by Anders Märak Leffler (2019).\n",
    "\n",
    "License [CC-BY-SA 4.0](https://creativecommons.org/licenses/by-sa/4.0/)"
   ]
  }
 ],
 "metadata": {
  "kernelspec": {
   "display_name": "Python 3",
   "language": "python",
   "name": "python3"
  },
  "language_info": {
   "codemirror_mode": {
    "name": "ipython",
    "version": 3
   },
   "file_extension": ".py",
   "mimetype": "text/x-python",
   "name": "python",
   "nbconvert_exporter": "python",
   "pygments_lexer": "ipython3",
   "version": "3.6.5"
  }
 },
 "nbformat": 4,
 "nbformat_minor": 2
}
