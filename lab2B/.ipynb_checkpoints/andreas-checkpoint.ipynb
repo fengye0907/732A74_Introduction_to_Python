{
 "cells": [
  {
   "cell_type": "markdown",
   "metadata": {},
   "source": [
    "# Lab 2B: Functional programming, and declarative patterns\n"
   ]
  },
  {
   "cell_type": "markdown",
   "metadata": {},
   "source": [
    "__Student:__ abcde123\n",
    "\n",
    "__Student:__ abcde123"
   ]
  },
  {
   "cell_type": "markdown",
   "metadata": {},
   "source": [
    "Disclaimer: Functional programming in Python does not always lead to the fastest possible code, and is often not considered the *pythonic* approach. However, functional programming is the basis for many concurrent systems (the MapReduce programming model which many big data systems, e.g. Hadoop, relies on gets its name from the *map* and *reduce* functions mentioned below). Python is a multi-paradigm language, and functional programming is one of the main paradigms one can use. To understand how and when to do this, it is necessary to do things in a non-*pythonic* way in order to cover the basics."
   ]
  },
  {
   "cell_type": "markdown",
   "metadata": {},
   "source": [
    "## General instructions\n",
    "\n",
    "In this lab there are some general rules you should keep in mind to make sure you are on the correct path in your solutions.\n",
    "\n",
    "#### Rules\n",
    "1. You are not allowed to use `while` or `for` statements unless this is explicitly allowed in the task.\n",
    "2. You are not allowed to use global variables (other than for functions defined in the global environment).\n",
    "3. Code stubs should be viewed as fixed, you are only allowed to add code, the only code you are allowed to change is `pass` statements, which you should remove.\n",
    "4. You should refrain from using the `list` datatype unless otherwise specified and instead use `tuple`. One of the strengths of functional programming is its focus on immutable data types (this is why functional programming and concurrency goes so well together). Incidentally, one might find speedups when using the immutable tuples instead of lists.\n",
    "\n",
    "#### Advice\n",
    "1. Avoid local variables unless you are certain they are necessary, in most cases you won't need to use local variables. (altermatively, use local variables to your hearts content, but when your solution works, try to eliminate them, you should be able to eliminate most of them, over time, you might find that you don't need them.)"
   ]
  },
  {
   "cell_type": "markdown",
   "metadata": {},
   "source": [
    "# 2 Recursion\n",
    "\n",
    "As an introduction to linear recursion, read the introductory note on the course webpage. This might help explain terms that you may not know (even if the concept is previously known)."
   ]
  },
  {
   "cell_type": "markdown",
   "metadata": {},
   "source": [
    "## 2.1 Linear recursion"
   ]
  },
  {
   "cell_type": "markdown",
   "metadata": {},
   "source": [
    "a) Write a recursive function `sum_even(n)` that takes a natural number $n\\geq 0$ and returns the sum of all even numbers $0,...,n$. It should be linear-recursive with delayed computations."
   ]
  },
  {
   "cell_type": "code",
   "execution_count": 1,
   "metadata": {},
   "outputs": [
    {
     "ename": "SyntaxError",
     "evalue": "invalid syntax (<ipython-input-1-e3c98b32e552>, line 6)",
     "output_type": "error",
     "traceback": [
      "\u001b[1;36m  File \u001b[1;32m\"<ipython-input-1-e3c98b32e552>\"\u001b[1;36m, line \u001b[1;32m6\u001b[0m\n\u001b[1;33m    sum_even(10)\u001b[0m\n\u001b[1;37m           ^\u001b[0m\n\u001b[1;31mSyntaxError\u001b[0m\u001b[1;31m:\u001b[0m invalid syntax\n"
     ]
    }
   ],
   "source": [
    "#def sum_even(n):\n",
    " #   i=0\n",
    "  #  for i in range(n+1):\n",
    "   #     return (sum_even(i)\n",
    "    \n",
    "#sum_even(10)"
   ]
  },
  {
   "cell_type": "markdown",
   "metadata": {},
   "source": [
    "b) Write `sum_even_it(n)` according to the same specification. In this case, the solution should be tail recursive."
   ]
  },
  {
   "cell_type": "code",
   "execution_count": 12,
   "metadata": {},
   "outputs": [
    {
     "data": {
      "text/plain": [
       "156"
      ]
     },
     "execution_count": 12,
     "metadata": {},
     "output_type": "execute_result"
    }
   ],
   "source": [
    "# Your code here.\n",
    "def sum_even_it(n):\n",
    "    if n <= 0:\n",
    "        return 0\n",
    "    if n % 2 == 0:\n",
    "        return(sum_even_it(n-2)+n)\n",
    "    else :\n",
    "        return((n-1)+sum_even_it(n-3))\n",
    "    \n",
    "sum_even_it(25)   "
   ]
  },
  {
   "cell_type": "markdown",
   "metadata": {},
   "source": [
    "c) We can of course express this in a declarative and Pythonic way, which is non-recursive. Write a function `sum_even_py` which returns the same result as above, but using comprehension or filter/map/reduce construct."
   ]
  },
  {
   "cell_type": "code",
   "execution_count": 13,
   "metadata": {},
   "outputs": [
    {
     "data": {
      "text/plain": [
       "156"
      ]
     },
     "execution_count": 13,
     "metadata": {},
     "output_type": "execute_result"
    }
   ],
   "source": [
    "from functools import reduce\n",
    "def sum_even_py(n) :\n",
    "    even_sum=reduce(lambda x,y: x+y, [x for x in range(0,n+1,2)])\n",
    "    return(even_sum)\n",
    "\n",
    "sum_even_py(25)"
   ]
  },
  {
   "cell_type": "markdown",
   "metadata": {},
   "source": [
    "## 2.2 Double/tree recursion"
   ]
  },
  {
   "cell_type": "markdown",
   "metadata": {},
   "source": [
    "Sometimes we might find ourselves with branching structures, where there are several \"smaller\" cases to recurse over. This might for instance be the case when we have trees, lists-within-lists or the like."
   ]
  },
  {
   "cell_type": "markdown",
   "metadata": {},
   "source": [
    "[Note: In the tasks below, it might be helpful to gain an understanding of `isinstance`. See the documentation!]"
   ]
  },
  {
   "cell_type": "markdown",
   "metadata": {},
   "source": [
    "a) One common use of recursion is to traverse recursive data structures. One exercise might be to _flatten_ nested lists or tuples. This is relatively simple with only one level of nesting, or when the structure follows a strict pattern, but for arbitrary nested sequences, a recursive approach is more natural. Implement a recursive function `myflatten` which can take an arbitrary structure of nested tuples and flattens it (in the sense of returning a new non-nested tuple with the same elements in the same order)."
   ]
  },
  {
   "cell_type": "code",
   "execution_count": 17,
   "metadata": {},
   "outputs": [
    {
     "name": "stdout",
     "output_type": "stream",
     "text": [
      "Test passed godlike!\n"
     ]
    }
   ],
   "source": [
    "\n",
    "def myflatten(seq):\n",
    "    res = []\n",
    "    for el in seq:\n",
    "        if isinstance(el, (tuple)):\n",
    "            res.extend(myflatten(el))\n",
    "            continue\n",
    "            res.append(el)\n",
    "        else:\n",
    "            res.append(el)\n",
    "    return tuple(res)\n",
    "    \n",
    "    \n",
    "\n",
    "def test_myflatten():\n",
    "    tests = (\n",
    "     ((), (), \"the empty tuple\"), \n",
    "     ((1,2,3), (1,2,3), \"flat tuples invariant under flattening\"), \n",
    "     ( (1, (2), 3, (4, 5, (6), 7), 8), (1, 2, 3, 4, 5, 6, 7, 8), \"Arbitrarily nested tuples.\")\n",
    "    )\n",
    "    for arg, expected_output, error_msg in tests:\n",
    "        assert myflatten(arg) == expected_output, error_msg\n",
    "    print(\"Test passed with sucess!\")\n",
    "\n",
    "test_myflatten()    # Uncomment this line to run tests.\n",
    "\n"
   ]
  },
  {
   "cell_type": "markdown",
   "metadata": {},
   "source": [
    "b) Implement a function `exists_in(e, seq)` which returns `True` if the element `e` exists somewhere in the tuple `seq` (and `False` otherwise). `seq` might be nested and contain tuples-within-tuples."
   ]
  },
  {
   "cell_type": "code",
   "execution_count": 161,
   "metadata": {},
   "outputs": [
    {
     "name": "stdout",
     "output_type": "stream",
     "text": [
      "The value of 2 found 3 times!\n",
      "\n",
      "\n",
      "The value of 13 found 4 times!\n",
      "\n",
      "\n",
      "The value of 91 not found!\n"
     ]
    },
    {
     "data": {
      "text/plain": [
       "False"
      ]
     },
     "execution_count": 161,
     "metadata": {},
     "output_type": "execute_result"
    }
   ],
   "source": [
    "def n_count(e,seq ):\n",
    "    return (seq.count(e) + sum(\n",
    "        n_count(e,elm) for elm in seq if isinstance(elm,tuple)))     \n",
    "            \n",
    "def exists_in(e,seq):\n",
    "    result=n_count(e,seq)\n",
    "    if result==0:\n",
    "        print(\"The value of {0} not found!\".format(e))\n",
    "        return(False)\n",
    "    else :\n",
    "        print(\"The value of {0} found {1} times!\".format(e,result))\n",
    "        return(True)\n",
    "            \n",
    "    \n",
    "l= (1, ((2), (3,(4,8,5),(2)), (4, 5, (6), 7),(25,34,(2)) ) )   \n",
    "l1= (1, (2), 3, (4, 5, (6), 7), 8,13,(23,44,(9,13)) , (25,55,(64,19,(13,91,(13)))))\n",
    "l3=( 2, (1, (2), (3,(4,8,5),(2)), (4, 5, (6), 7), 8))\n",
    "\n",
    "exists_in(2,l)\n",
    "print(\"\\n\")\n",
    "exists_in(13,l1)\n",
    "print(\"\\n\")\n",
    "exists_in(91,l3)    \n",
    "\n"
   ]
  },
  {
   "cell_type": "markdown",
   "metadata": {},
   "source": [
    "c) Write a few representative test cases, as in lab 2A."
   ]
  },
  {
   "cell_type": "code",
   "execution_count": 169,
   "metadata": {},
   "outputs": [
    {
     "name": "stdout",
     "output_type": "stream",
     "text": [
      "The value of 2 found 3 times!\n",
      "The value of 3 found 1 times!\n",
      "The value of 91 not found!\n",
      "Test passed with sucess!\n"
     ]
    }
   ],
   "source": [
    "l= (1, ((2), (3,(4,8,5),(2)), (4, 5, (6), 7),(25,34,(2)) ) )   \n",
    "l1= (1, (2), 3, (4, 5, (6), 7), 8,13,(23,44,(9,13)) , (25,55,(64,19,(13,91,(13)))))\n",
    "l2=( 2, (1, (2), (3,(4,8,5),(2)), (4, 5, (6), 7), 8))\n",
    "\n",
    "\n",
    "def test_exists_in():\n",
    "    tests = (\n",
    "     ( (2, l),True , \"Number 2 exists 3 times in the nested tuple\"), \n",
    "     ( (3,l1),True, \"Number 3 exists 4 times in nested tuple\"), \n",
    "     ( (91, l2),False, \"The value doesn't exists in tuple\")\n",
    "    )\n",
    "    for (arg1,arg2), expected_output, error_msg in tests:\n",
    "        assert exists_in(arg1,arg2) == expected_output, error_msg\n",
    "    print(\"Test passed with sucess!\")\n",
    "    \n",
    "    \n",
    "test_exists_in()"
   ]
  },
  {
   "cell_type": "markdown",
   "metadata": {},
   "source": [
    "d) One of the most famous recursive functions is the Quicksort function (https://en.wikipedia.org/wiki/Quicksort). It allows us to sort a sequence, with repeated values, in (amortized) log-linear time and with a logarithmic number of recursive calls. We will start by implementing Quicksort for a tuple of numbers.\n",
    "\n",
    "Note that Wikipedia illustrates a more advanced _in-place_ version of Quicksort, with a more advanced partition function. For the purposes of this assignment, you can simply pass a new tuple or generator to each recursive call to quicksort. You may use eg _filter_ or a comprehension to create the inputs."
   ]
  },
  {
   "cell_type": "code",
   "execution_count": null,
   "metadata": {},
   "outputs": [],
   "source": [
    "from random import sample, choice\n",
    "\n",
    "# Write quicksort here:\n",
    "\n",
    "\n",
    "\n",
    "\n",
    "a = tuple(sample(range(1000,2000), 1000))\n",
    "print(a)\n",
    "b = quicksort(a)\n",
    "print(b)"
   ]
  },
  {
   "cell_type": "markdown",
   "metadata": {},
   "source": [
    "## 3 Higher order functions (HOF)\n",
    " \n",
    "A _higher-order function_ is a function which operates on other functions. What this means exactly is disputed, but we will call any function which returns a function or takes a function as an argument a higher-order function. (Conversely, a function neither taking another function as input nor returning a function we will refer to as a _first-order function_)\n",
    "\n",
    "In R you have encountered these when, for instance, using the `apply` family of functions, which are all versions of what is called a `map` function in functional programming (see below).\n",
    "\n",
    "When using higher-order functions, it is often useful to create simple anonymous functions at the place in the code where they are used, rather than defining a new named function in one place only to call it in a single other place. In R, all functions are created in this way with the `function` keyword, but they are usually assigned to global names with standard assignment (`<-`). Python provides similar functionality using the `lambda` keyword (name inspired by Alonzo Church's [$\\lambda$-calculus](https://www.youtube.com/watch?v=eis11j_iGMs) which has inspired much of functional programming) with which we can create anonymous functions. Of course, we can also pass named functions to higher-order functions, which is usually the case when the function is predefined, general enough to be used in more than one place, or complex enough to warrant separate definition and documentation for the sake of clarity."
   ]
  },
  {
   "cell_type": "markdown",
   "metadata": {},
   "source": [
    "## 3.1 The three standard functions `map`, `reduce` and `filter`\n",
    "\n",
    "There are three standard cases which are widely applicable and many other higher-order functions are special cases or combinations of these. They are: `map`, apply a function on each element in a sequence, `filter`, keep (or conversely, remove) elements from a sequence according to some condition, and `reduce`, combine the elements in a sequence. The `map` function takes a sequence and a function (usually of 1 parameter) which is to be applied to each element of the sequence and might return anything, this function is assumed not to have side effects. The `filter` function takes a function (usually of 1 parameter) which returns a boolean value used to indicate which elements are to be kept. The `reduce` function takes a function (usually of 2 parameters) which is used to combine the elements in the sequence.\n",
    "\n",
    "In Python, `map` and `filter` are standard built-in functions. Since Python 3, the `reduce` function needs to be imported from the `functools` module.\n",
    "\n",
    "Many more advanced functions, of any order, can be created by combining these three higher-order functions.\n",
    "\n",
    "A note from last year: usually, the `reduce` function is more difficult to grasp than `map` and `filter` but I found this blog-post by André Burgaud to be a nice introduction to `reduce`. Note that Burgaud talks about the more general _fold_ concept rather than `reduce`, which is a special case of fold often called _left fold_ (this is covered in more detail in the post). https://www.burgaud.com/foldl-foldr-python/"
   ]
  },
  {
   "cell_type": "markdown",
   "metadata": {},
   "source": [
    "a) Implement a function `mysum` which computes the sum of a list or tuple of numbers using the reduce function and a lambda function."
   ]
  },
  {
   "cell_type": "code",
   "execution_count": 172,
   "metadata": {},
   "outputs": [
    {
     "data": {
      "text/plain": [
       "12"
      ]
     },
     "execution_count": 172,
     "metadata": {},
     "output_type": "execute_result"
    }
   ],
   "source": [
    "from functools import reduce\n",
    "\n",
    "def mysum(seq):\n",
    "    return reduce(lambda x,y : x+y, seq)\n",
    "\n",
    "mysum((4, 7, 1))"
   ]
  },
  {
   "cell_type": "markdown",
   "metadata": {},
   "source": [
    "b) Implement a function `mylength` which uses `map` and `reduce` to compute the length of a sequence. The use of the `len` function is not allowed.\n",
    "\n",
    "[Hint: Use `map` to convert the input to something which can easily be `reduce`:d.]"
   ]
  },
  {
   "cell_type": "code",
   "execution_count": 210,
   "metadata": {},
   "outputs": [
    {
     "name": "stdout",
     "output_type": "stream",
     "text": [
      "5\n",
      "4\n",
      "9\n",
      "42\n"
     ]
    }
   ],
   "source": [
    "import functools\n",
    "\n",
    "def mylength(seq):\n",
    "    return (reduce(lambda count, item : count+1 , seq,0))\n",
    "    \n",
    "print(mylength((4, 2, 5, 2, 5)))\n",
    "print(mylength(\"test\"))\n",
    "print(mylength((5656,33,2,5,65,90,2,4,132)))\n",
    "print(mylength(\"We are the hollow men we are the dead men!\"))\n"
   ]
  },
  {
   "cell_type": "markdown",
   "metadata": {},
   "source": [
    "## 3.2 Building your own higher order functions"
   ]
  },
  {
   "cell_type": "markdown",
   "metadata": {},
   "source": [
    "a) Re-implement the three basic functional helper functions `map`, `filter` and `reduce` **as purely functional recursive functions**. You may not express this as eg comprehensions; the task is to practice figuring out this type of logic.\n",
    "\n",
    "Note that the built-in versions of these functions work on multiple sequences of equal length if supplied, however, you can assume a single sequence as second parameter, i.e. you can also skip the third parameter to reduce."
   ]
  },
  {
   "cell_type": "code",
   "execution_count": 293,
   "metadata": {},
   "outputs": [
    {
     "name": "stdout",
     "output_type": "stream",
     "text": [
      "(0, 1, 4, 9, 16, 25, 36, 49, 64, 81, 100)\n",
      "\n",
      "\n",
      "[3, 4, 5, 6, 7, 8, 9, 10, 11, 12, 13]\n",
      "\n",
      "\n",
      "['sss', 'ttt', 'rrr', 'iii', 'nnn', 'ggg', '   ', 'ttt', 'ooo', '   ', 'ttt', 'eee', 'sss', 'ttt']\n",
      "\n",
      "\n",
      "[1, 1, 1, 1, 1, 1]\n",
      "\n",
      "\n",
      "Canot apply this function to iterable!\n",
      "None\n"
     ]
    }
   ],
   "source": [
    "def mymap(f, seq):\n",
    "    try :\n",
    "        if isinstance(seq,list):\n",
    "            l=[]\n",
    "            for x in seq:\n",
    "                l.append(f(x))\n",
    "            return(l)\n",
    "        elif isinstance(seq,tuple) :\n",
    "            t=()\n",
    "            for x in seq:\n",
    "                t= (*t, f(x))\n",
    "            return (t) \n",
    "        else :\n",
    "            mystring=[]\n",
    "            for x in seq:\n",
    "                mystring.append(f(x))\n",
    "            return (mystring)\n",
    "        \n",
    "    except TypeError :\n",
    "        print(\"Canot apply this function to iterable!\")\n",
    "                \n",
    "            \n",
    "\n",
    "print(mymap(lambda x:x**2, tuple(range(11))))\n",
    "print(\"\\n\")\n",
    "print(mymap(lambda x:x+3,list(range(11))))\n",
    "print(\"\\n\")\n",
    "print(mymap(lambda x:x*3,\"string to test\"))\n",
    "print(\"\\n\")\n",
    "print(mymap(len,\"string\"))\n",
    "print(\"\\n\")\n",
    "print(mymap(len,range(10)))"
   ]
  },
  {
   "cell_type": "code",
   "execution_count": 294,
   "metadata": {},
   "outputs": [
    {
     "name": "stdout",
     "output_type": "stream",
     "text": [
      "(0, 2, 4, 6, 8)\n",
      "\n",
      "\n",
      "[]\n",
      "\n",
      "\n",
      "Canot apply this function to iterable!\n",
      "None\n",
      "\n",
      "\n",
      "['your']\n"
     ]
    }
   ],
   "source": [
    "def myfilter(f, seq):\n",
    "    try :\n",
    "        if isinstance(seq,list):\n",
    "            l=[]\n",
    "            for x in seq:\n",
    "                if f(x)==True:\n",
    "                    l.append(x)\n",
    "                else :\n",
    "                    continue\n",
    "            return(l)\n",
    "        elif isinstance(seq,tuple) :\n",
    "            t=()\n",
    "            for x in seq:\n",
    "                if f(x)==True:\n",
    "                    t= (*t, x)\n",
    "                else :\n",
    "                    continue\n",
    "            return (t) \n",
    "        else :\n",
    "            mystring=[]\n",
    "            for x in seq.split():\n",
    "                if f(x)==True:\n",
    "                    mystring.append(x)\n",
    "                else:\n",
    "                    continue\n",
    "            return (mystring)\n",
    "    except TypeError :\n",
    "        print(\"Canot apply this function to iterable!\")\n",
    "                   \n",
    "\n",
    "print(myfilter(lambda x:x%2==0, tuple(range(10))))\n",
    "print(\"\\n\")\n",
    "print(myfilter(lambda x:x==3,list(range(0,10,2))))\n",
    "print(\"\\n\")\n",
    "print(myfilter(lambda x: x^2,\"my string\"))\n",
    "print(\"\\n\")\n",
    "print(myfilter(lambda x : x==\"your\",\"your gossdg jfjgg\"))"
   ]
  },
  {
   "cell_type": "markdown",
   "metadata": {},
   "source": [
    "You might note the similarities with how you implemented `sum_even`."
   ]
  },
  {
   "cell_type": "code",
   "execution_count": null,
   "metadata": {},
   "outputs": [],
   "source": [
    "def myreduce(f, seq):\n",
    "    \n",
    "\n",
    "myreduce(lambda x, y: x*y, tuple(range(1,5)))"
   ]
  },
  {
   "cell_type": "markdown",
   "metadata": {},
   "source": [
    "## 3.3 Returning functions\n",
    "\n",
    "The previous section covered functions which take other functions as input, but what about the opposite, functions returning functions as output?"
   ]
  },
  {
   "cell_type": "markdown",
   "metadata": {},
   "source": [
    "a) Function composition is a common in both maths and programming. Write a function `compose` which takes two functions, $f$ and $g$, and produces the _composite_ function $f \\circ g$, where $(f \\circ g)(x) \\Leftrightarrow f(g(x))$. Example use is given below."
   ]
  },
  {
   "cell_type": "code",
   "execution_count": 298,
   "metadata": {
    "scrolled": true
   },
   "outputs": [
    {
     "name": "stdout",
     "output_type": "stream",
     "text": [
      "[-1.507556722888818, -1.2060453783110545, -0.9045340337332909, -0.6030226891555273, -0.30151134457776363, 0.0, 0.30151134457776363, 0.6030226891555273, 0.9045340337332909, 1.2060453783110545, 1.507556722888818]\n"
     ]
    }
   ],
   "source": [
    "from statistics import stdev, mean\n",
    "\n",
    "def compose(f, g):\n",
    "    return(lambda x:f(g(x)))\n",
    "\n",
    "def myscale(vals):\n",
    "    return [x/stdev(vals) for x in vals]\n",
    "\n",
    "def myshift(vals):\n",
    "    return [x-mean(vals) for x in vals]\n",
    "\n",
    "standardize = compose(myscale, myshift)\n",
    "\n",
    "print(standardize(range(-3, 8)))"
   ]
  },
  {
   "cell_type": "markdown",
   "metadata": {},
   "source": [
    "b) Create a function `composition(*funs)` which takes a non-empty sequence of functions of one argument and returns their sequential composition. That is $composition(f_0,f_1, \\ldots, f_n) = f_0 \\circ f_1 \\circ\\ldots \\circ f_n$. (The question of if $f\\circ g \\circ h$ should be read $f\\circ (g\\circ h)$ or $(f \\circ g) \\circ h$ is perfectly valid, but they turn out to be the same. That is, $\\circ$ is associative.)"
   ]
  },
  {
   "cell_type": "code",
   "execution_count": 354,
   "metadata": {},
   "outputs": [
    {
     "data": {
      "image/png": "[encoded data removed]",
      "text/plain": [
       "<Figure size 432x288 with 1 Axes>"
      ]
     },
     "metadata": {
      "needs_background": "light"
     },
     "output_type": "display_data"
    }
   ],
   "source": [
    "import math\n",
    "import matplotlib\n",
    "import matplotlib.pyplot as plt\n",
    "import numpy as np\n",
    "\n",
    "matplotlib.rcParams['axes.unicode_minus'] = False\n",
    "\n",
    "def plus3(vals):\n",
    "    return([x+3 for x in vals])\n",
    "def e_power(vals):\n",
    "    return([math.exp(x) for x in vals])\n",
    "def my_sin(vals):\n",
    "    return([math.sin(x)/2 for x in vals])\n",
    "\n",
    "\n",
    "def fun(*funs):\n",
    "    return(reduce(compose,funs,lambda x:x))\n",
    "\n",
    "\n",
    "#implement sin(e^(x+1))/2 function \n",
    "\n",
    "inc_double_and_dec = fun(plus1, e_power,my_sin)\n",
    "\n",
    "x = np.linspace(5, 10000, 100) \n",
    "y=inc_double_and_dec(x)\n",
    "\n",
    "plt.plot(x,y)\n",
    "plt.show()\n"
   ]
  },
  {
   "cell_type": "markdown",
   "metadata": {},
   "source": [
    "Hint: Don't remember what can be found in `*funs`? Print it! Don't know how the values should be combined? Write out some simple example on paper."
   ]
  },
  {
   "cell_type": "markdown",
   "metadata": {},
   "source": [
    "Note: This task demonstrates the generality of our constructs. Previously we worked with sequences of numbers and the like. Now we lift this to the level of working with functions as values, and instead of using combinators which work on numbers, we use function combinators in conjunction with our known patterns."
   ]
  },
  {
   "cell_type": "markdown",
   "metadata": {},
   "source": [
    "### Voluntary task: pipelining\n",
    "\n",
    "When doing data analysis, one very important part is pre-processing. Often, data goes through a number of steps of preprocessing, sometimes called a pipeline. The function composition example above can be seen as a special case of such a pipeline for only two functions. By clever use of higher order functions, we can build a pipeline function which takes a list or tuple of data transforming functions and creates a function which applies these sequentially. Construct such a function called `make_pipeline`. In order to focus on the primary purpose of the `make_pipeline` function, we will perform a very simple set of transformations, increment each value by 1, take the absolute value, and then take the square root. Usage example and code for the `inc` function is supplied below.\n",
    "\n",
    "You may want to use functions you have defined above."
   ]
  },
  {
   "cell_type": "code",
   "execution_count": 362,
   "metadata": {
    "scrolled": false
   },
   "outputs": [
    {
     "ename": "TypeError",
     "evalue": "'function' object is not iterable",
     "output_type": "error",
     "traceback": [
      "\u001b[1;31m---------------------------------------------------------------------------\u001b[0m",
      "\u001b[1;31mTypeError\u001b[0m                                 Traceback (most recent call last)",
      "\u001b[1;32m<ipython-input-362-9be2f870c77b>\u001b[0m in \u001b[0;36m<module>\u001b[1;34m\u001b[0m\n\u001b[0;32m     16\u001b[0m \u001b[0mpipeline\u001b[0m \u001b[1;33m=\u001b[0m \u001b[0mmake_pipeline\u001b[0m\u001b[1;33m(\u001b[0m\u001b[0minc\u001b[0m\u001b[1;33m,\u001b[0m \u001b[0mabs\u001b[0m\u001b[1;33m,\u001b[0m \u001b[0msqrt\u001b[0m\u001b[1;33m)\u001b[0m\u001b[1;33m\u001b[0m\u001b[1;33m\u001b[0m\u001b[0m\n\u001b[0;32m     17\u001b[0m \u001b[1;33m\u001b[0m\u001b[0m\n\u001b[1;32m---> 18\u001b[1;33m \u001b[0mtuple\u001b[0m\u001b[1;33m(\u001b[0m\u001b[0mpipeline\u001b[0m\u001b[1;33m(\u001b[0m\u001b[0mrange\u001b[0m\u001b[1;33m(\u001b[0m\u001b[1;33m-\u001b[0m\u001b[1;36m5\u001b[0m\u001b[1;33m,\u001b[0m\u001b[1;36m5\u001b[0m\u001b[1;33m)\u001b[0m\u001b[1;33m)\u001b[0m\u001b[1;33m)\u001b[0m\u001b[1;33m\u001b[0m\u001b[1;33m\u001b[0m\u001b[0m\n\u001b[0m",
      "\u001b[1;31mTypeError\u001b[0m: 'function' object is not iterable"
     ]
    }
   ],
   "source": [
    "from functools import reduce, partial\n",
    "from math import sqrt \n",
    "\n",
    "\n",
    "\n",
    "\n",
    "def make_pipeline(*funs):\n",
    "    return lambda vals: reduce(partial(compose),funs)\n",
    "\n",
    "# We can even drop the lambda vals : bit, using partial\n",
    "# evaluation (see the help for functools.partial!)\n",
    "\n",
    "def inc(x):\n",
    "    return x+1\n",
    "\n",
    "pipeline = make_pipeline(inc, abs, sqrt)\n",
    "\n",
    "tuple(pipeline(range(-5,5)))"
   ]
  },
  {
   "cell_type": "markdown",
   "metadata": {},
   "source": [
    "## 4. Simple declarative Pythonic patterns (involing HOF)"
   ]
  },
  {
   "cell_type": "markdown",
   "metadata": {},
   "source": [
    "a) As preparation, create a named tuple type \"coord\" which has fields `x` and `y`."
   ]
  },
  {
   "cell_type": "code",
   "execution_count": 371,
   "metadata": {},
   "outputs": [
    {
     "ename": "TypeError",
     "evalue": "'tuple' object is not callable",
     "output_type": "error",
     "traceback": [
      "\u001b[1;31m---------------------------------------------------------------------------\u001b[0m",
      "\u001b[1;31mTypeError\u001b[0m                                 Traceback (most recent call last)",
      "\u001b[1;32m<ipython-input-371-1fa722b2a2ef>\u001b[0m in \u001b[0;36m<module>\u001b[1;34m\u001b[0m\n\u001b[0;32m      2\u001b[0m \u001b[0mcoord\u001b[0m \u001b[1;33m=\u001b[0m \u001b[1;33m(\u001b[0m\u001b[1;33m)\u001b[0m \u001b[1;31m# your code here\u001b[0m\u001b[1;33m\u001b[0m\u001b[1;33m\u001b[0m\u001b[0m\n\u001b[0;32m      3\u001b[0m \u001b[1;33m\u001b[0m\u001b[0m\n\u001b[1;32m----> 4\u001b[1;33m \u001b[0mfive_three\u001b[0m \u001b[1;33m=\u001b[0m \u001b[0mcoord\u001b[0m\u001b[1;33m(\u001b[0m\u001b[1;36m5\u001b[0m\u001b[1;33m,\u001b[0m\u001b[1;36m3\u001b[0m\u001b[1;33m)\u001b[0m\u001b[1;33m\u001b[0m\u001b[1;33m\u001b[0m\u001b[0m\n\u001b[0m\u001b[0;32m      5\u001b[0m \u001b[1;32massert\u001b[0m \u001b[0mfive_three\u001b[0m\u001b[1;33m.\u001b[0m\u001b[0mx\u001b[0m \u001b[1;33m==\u001b[0m \u001b[1;36m5\u001b[0m\u001b[1;33m,\u001b[0m \u001b[1;34m\"first element is the x coordinate\"\u001b[0m\u001b[1;33m\u001b[0m\u001b[1;33m\u001b[0m\u001b[0m\n\u001b[0;32m      6\u001b[0m \u001b[1;32massert\u001b[0m \u001b[0mfive_three\u001b[0m\u001b[1;33m.\u001b[0m\u001b[0my\u001b[0m \u001b[1;33m==\u001b[0m \u001b[1;36m3\u001b[0m\u001b[1;33m,\u001b[0m \u001b[1;34m\"the second element is the y coordinate\"\u001b[0m\u001b[1;33m\u001b[0m\u001b[1;33m\u001b[0m\u001b[0m\n",
      "\u001b[1;31mTypeError\u001b[0m: 'tuple' object is not callable"
     ]
    }
   ],
   "source": [
    "# Add the requisite import statement here\n",
    "\n",
    "coord = () # your code here\n",
    "\n",
    "five_three = coord(5,3)\n",
    "assert five_three.x == 5, \"first element is the x coordinate\"\n",
    "assert five_three.y == 3, \"the second element is the y coordinate\""
   ]
  },
  {
   "cell_type": "markdown",
   "metadata": {},
   "source": [
    "b) Generate a $10^7$ random coordinates, with $x$ and $y$ coordinates drawn uniformly from [-1000,1000]. Save the tuple of those with $x + y > 0$ as `rnd_coords`. How many are there?"
   ]
  },
  {
   "cell_type": "code",
   "execution_count": 400,
   "metadata": {},
   "outputs": [],
   "source": [
    "from random import uniform\n",
    " # Your code here\n",
    "def random_coords(n,a,b):\n",
    "    x=[uniform(a,b) for _ in range(n)] \n",
    "    y=[uniform(a,b) for _ in range(n)]\n",
    "    rnd_coordinates=[ (f,b) for f, b in zip(x, y) if f+b>0]\n",
    "    return(tuple(rnd_coordinates))\n",
    "\n",
    "rnd_coords=random_coords(10**7,-1000,1000)\n",
    "#rnd_coords"
   ]
  },
  {
   "cell_type": "code",
   "execution_count": 401,
   "metadata": {},
   "outputs": [
    {
     "name": "stdout",
     "output_type": "stream",
     "text": [
      "\u001b[34mThe number of the coordinates that their sum is >0 is:\u001b[0m\n"
     ]
    },
    {
     "data": {
      "text/plain": [
       "5000899"
      ]
     },
     "execution_count": 401,
     "metadata": {},
     "output_type": "execute_result"
    }
   ],
   "source": [
    "from termcolor import colored\n",
    "print(colored(\"The number of the coordinates that their sum is >0 is:\",\"blue\"))\n",
    "len(x)-len(rnd_coords)"
   ]
  },
  {
   "cell_type": "markdown",
   "metadata": {},
   "source": [
    "[Note: If this takes a while, you might want to consider when the elements are generated and saved.]"
   ]
  },
  {
   "cell_type": "markdown",
   "metadata": {},
   "source": [
    "**Before having solved the tasks below, consider setting `coords` to a smaller set (eg generate $10^3$ elements instead of $10^7$ to start with).**"
   ]
  },
  {
   "cell_type": "markdown",
   "metadata": {},
   "source": [
    "c) Let `sorted_rnd` be the coordinated sorted first by the `x` component and then the `y`. Use a built-in Python sorting function. Do you need any extra parameters? Why? Why not? How would you find out where the order comes from (and might it be consistent but useless, eg sorting the elements by memory location)?"
   ]
  },
  {
   "cell_type": "code",
   "execution_count": 411,
   "metadata": {},
   "outputs": [
    {
     "name": "stdout",
     "output_type": "stream",
     "text": [
      "((78.14179499375632, 106.36901537954213), (887.501791295211, -698.4374831673823), (171.82108519620874, 508.7657393075647), (-222.7250313019282, 939.3189083671464), (391.6361980777599, 426.6512217037948), (718.1250671052903, -367.4657456237695), (174.93540053422475, 150.20266909972133), (-261.4813191611307, 432.82496154351884), (-266.90523963099236, 342.2549957030037), (-426.925470562485, 826.8770180103654), (337.67846141469545, 908.2271112316337), (649.5986653053146, 19.931222343377158), (308.9600548967744, 162.94787995697698), (950.4887981982276, 520.7383274717909), (-519.0150246357734, 572.7190516120395), (265.34744381505493, 508.8869892536327), (865.7146255144478, 142.6845852990632), (586.3379058909077, 424.261361530886), (243.78581067822824, 947.8573629942505), (935.099355661602, 316.07275706851283))\n",
      "\n",
      "\n",
      "[(899.0848344626384, -871.001158083495), (836.0247308530197, -828.003169402507), (945.7499688206262, -802.2150872495173), (831.9138428632266, -759.5769744634256), (710.6159234011673, -706.5329441989336), (887.501791295211, -698.4374831673823), (882.4959052346555, -690.2321005177314), (777.2418686782412, -681.0975716446939), (861.6539085718955, -653.6383448407082), (990.038943645955, -644.5434066788519), (821.1980296633403, -638.9254142202374), (985.0918839422009, -626.0327169735176), (658.6778473122829, -620.6131800495447), (883.3901636697622, -604.4550364046574), (643.1066199081652, -590.7669551021845), (745.5523533763046, -581.530529383818), (835.6459735810008, -566.019498503571), (728.7956156295588, -563.0071040219052), (921.9199837985279, -560.3788297893552), (898.5985216143906, -543.4825376738575)]\n"
     ]
    }
   ],
   "source": [
    "\n",
    "s_rnd = random_coords(10**3,-1000,1000) # your code here\n",
    "sorted_rnd =sorted(s_rnd, key=lambda x: (x[0]))\n",
    "sorted_rnd =sorted(s_rnd, key=lambda x:(x[1]))\n",
    "\n",
    "print(s_rnd[0:20])\n",
    "print(\"\\n\")\n",
    "print(sorted_rnd[0:20])"
   ]
  },
  {
   "cell_type": "markdown",
   "metadata": {},
   "source": [
    "[General words of advice:\n",
    "\n",
    "* During testing, you might want to use a smaller data set (and then try it out at a larger set).\n",
    "* You might not want to display the entire list to see if you're right all the time. Slicing out the first and last elements, say the first or last 10, might provide some hints.\n",
    "* You could naturally define a function which checks that the list is in order (or performs some probabilistic sampling test), to test this.]"
   ]
  },
  {
   "cell_type": "markdown",
   "metadata": {},
   "source": [
    "d) Sort the values (in the sense of returning a new sorted tuple) by their Euclidean distance to the point (5,3). Continue using a built-in Python sorting function."
   ]
  },
  {
   "cell_type": "code",
   "execution_count": 496,
   "metadata": {},
   "outputs": [
    {
     "name": "stdout",
     "output_type": "stream",
     "text": [
      "\u001b[34mThe ordered list according to min distance from '(3,5)'  is  :\u001b[0m\n"
     ]
    },
    {
     "data": {
      "text/plain": [
       "[(2.788317409103456, 36.01438339636343),\n",
       " (53.51456902095538, -26.945310668019033),\n",
       " (78.99560151050105, -38.17856019441069),\n",
       " (93.7626150486276, -9.549825349741013),\n",
       " (77.73482869581176, -50.91205190808682),\n",
       " (20.564300021859367, 105.17907767719248),\n",
       " (-43.152260158401305, 104.8102034327278),\n",
       " (114.05761611836442, -43.78738410859182),\n",
       " (78.14179499375632, 106.36901537954213),\n",
       " (-71.69081635733994, 118.34430716382167),\n",
       " (61.63109958574205, 140.39680697274548),\n",
       " (168.08164622775826, 59.29222200890649),\n",
       " (173.45833010214938, -39.09166473592359),\n",
       " (160.46431597917876, -77.39185113876829),\n",
       " (-18.30447382629893, 176.47196035787738),\n",
       " (-93.79512082672909, 150.990902527044),\n",
       " (-48.41517292327535, 177.7393648873126),\n",
       " (152.92753182939873, -111.26648797506061),\n",
       " (-8.287190618911723, 196.68310278412946),\n",
       " (-107.49464727151019, 167.85220854310433),\n",
       " (96.39764743638261, 180.96545581844157),\n",
       " (-103.41746896601501, 174.09900532248457),\n",
       " (192.89723577928453, 82.51714229572576),\n",
       " (179.16552073414982, 123.45884923238941),\n",
       " (16.243503563947, 217.5978173529984),\n",
       " (225.8314809385647, -28.95530628612721),\n",
       " (174.93540053422475, 150.20266909972133),\n",
       " (154.61168334689387, 173.72181130133913),\n",
       " (-56.18989305215541, 230.33257699745104),\n",
       " (122.96365838853148, 209.3594921801366),\n",
       " (127.96687131490444, 207.51310728149588),\n",
       " (72.88954927639725, 246.65880094552404),\n",
       " (-58.725338571212774, 250.310641533953),\n",
       " (192.11880247186696, 178.47466530518454),\n",
       " (235.46163731265983, -111.90251868954567),\n",
       " (257.87704034584453, 69.87177185453697),\n",
       " (216.32182362882213, 176.8954835003408),\n",
       " (184.33025281647588, 221.58583154614143),\n",
       " (35.683674561844555, 286.3856555282407),\n",
       " (274.360917745762, 110.5439372085616),\n",
       " (184.8146470183574, 234.18206832044416),\n",
       " (-109.64137163498663, 275.8504890636116),\n",
       " (206.92309156328565, 223.1831622267987),\n",
       " (303.5654843716336, -66.17278913980181),\n",
       " (264.65789362967894, 168.35034729208542),\n",
       " (-82.59353946334352, 303.03761532922385),\n",
       " (263.73032726422184, -175.1537531616458),\n",
       " (317.2265200405377, -56.2601598023449),\n",
       " (3.624655359222743, 321.7081018759827),\n",
       " (233.73526504952702, 236.46223606208878),\n",
       " (168.70533384255668, 290.8209516648674),\n",
       " (292.9802284482648, 174.09174596931575),\n",
       " (-229.78366967623788, 243.9855702869795),\n",
       " (32.14106213930427, 339.3779172148097),\n",
       " (-156.53232101266542, 299.82343515544335),\n",
       " (308.9600548967744, 162.94787995697698),\n",
       " (346.53433701848735, 41.69013033011447),\n",
       " (119.75414204556637, 331.0389775946562),\n",
       " (-207.40078388298969, 278.78225034682464),\n",
       " (307.19865213725893, -174.73469174473007),\n",
       " (162.66263727313185, 319.1582833879968),\n",
       " (330.96636899762643, -142.75112697898408),\n",
       " (318.1410683884983, 178.0861644746401),\n",
       " (359.41964722428816, 61.448743749225514),\n",
       " (341.23813055716005, -134.31789482807983),\n",
       " (-89.9346250534652, 354.3334427081975),\n",
       " (104.62806464095888, 354.0709037564152),\n",
       " (-122.28495675267698, 352.69203918954804),\n",
       " (-8.41673862319351, 375.52027245023737),\n",
       " (313.7054426185125, -210.81154432898802),\n",
       " (356.29499497713505, -142.5578081265653),\n",
       " (-234.07691391543221, 304.7558815892414),\n",
       " (-62.465379773399604, 383.80528424913723),\n",
       " (375.82350028882934, 128.40898168492663),\n",
       " (394.12183236156125, 50.64450298783481),\n",
       " (82.9083591647759, 390.31554626151274),\n",
       " (3.581747016805366, 402.5883337836574),\n",
       " (-201.48265928239834, 346.9407205600405),\n",
       " (405.46768964253556, 90.84250450100353),\n",
       " (-126.46026054024094, 401.3579140666204),\n",
       " (124.17649534532165, 406.2505066338415),\n",
       " (-280.0522506017402, 315.35170883796854),\n",
       " (-267.47812783426457, 327.83142811791754),\n",
       " (314.1539826781275, -289.100623969867),\n",
       " (355.79966786685054, -238.40165141659406),\n",
       " (-145.78931281899952, 403.0274347846753),\n",
       " (419.522080555947, 122.973931010255),\n",
       " (-266.90523963099236, 342.2549957030037),\n",
       " (427.5470694589103, -103.70477652515592),\n",
       " (344.6161961133821, -290.08929541944053),\n",
       " (378.8775966693329, 251.81727241197905),\n",
       " (139.7865703104817, 442.27886759175135),\n",
       " (458.9365390521259, -68.39973843349003),\n",
       " (-4.997998399265157, 464.3758322800177),\n",
       " (227.7644846899093, 409.8863927455593),\n",
       " (-261.0165315305122, 387.3786970215874),\n",
       " (306.78048633678486, 360.13416595602234),\n",
       " (-59.362922698539705, 470.0937095222405),\n",
       " (165.66390290872846, 449.87539575715914),\n",
       " (373.0882217483452, -298.56772063701874),\n",
       " (430.16650369243825, 225.20695380104917),\n",
       " (436.19037727810223, 222.70608889243954),\n",
       " (-279.20421274904106, 398.9137959606851),\n",
       " (413.52626357586837, -265.6322514500256),\n",
       " (478.20248977671804, -132.21713465133723),\n",
       " (154.23080371555375, 474.9760604844953),\n",
       " (-314.07140986121226, 381.46216798350474),\n",
       " (-269.36412650291675, 419.93082476264294),\n",
       " (-252.87722271564155, 432.19117424654405),\n",
       " (455.7832809306383, -215.02499123629582),\n",
       " (356.3571493881136, -355.13765905837874),\n",
       " (-317.95279100083235, 392.0910161207571),\n",
       " (-261.4813191611307, 432.82496154351884),\n",
       " (-95.52298215986218, 503.3551601644351),\n",
       " (477.88273384667536, -188.96948615195504),\n",
       " (177.9364499771964, 488.16608260588555),\n",
       " (490.62801296307725, 175.6927883378603),\n",
       " (481.3739620056706, 207.43253172600043),\n",
       " (-170.29010147519455, 492.8400420954956),\n",
       " (525.4259067205396, -0.5207326567904147),\n",
       " (523.8778547301374, 70.69421613975874),\n",
       " (522.34538976003, 83.60467058374547),\n",
       " (438.9591711049486, -297.92172365766544),\n",
       " (399.3952636605097, -348.4949998966198),\n",
       " (171.82108519620874, 508.7657393075647),\n",
       " (-58.50680950982735, 533.1574848151558),\n",
       " (-202.57725053696583, 495.7085210504183),\n",
       " (452.2326519213052, -293.3994161059967),\n",
       " (-60.34938005903598, 535.6789764019425),\n",
       " (429.2790365071903, -326.63358193154977),\n",
       " (442.39882157727857, 320.1843386685746),\n",
       " (-38.90612848595845, 543.3937378270462),\n",
       " (539.0789854965308, -94.66468983231402),\n",
       " (497.07490633489783, -238.612027969888),\n",
       " (123.18011505042728, 539.7772868301972),\n",
       " (558.9911698067219, -46.48658933332797),\n",
       " (437.5697774654982, -351.20800001896544),\n",
       " (565.0069201375927, -18.681464461872224),\n",
       " (-360.737483107745, 427.6845263440332),\n",
       " (-238.56454416820588, 507.84262905575315),\n",
       " (562.1076635003656, 86.72957744533232),\n",
       " (563.9209612839336, 95.95268800632061),\n",
       " (265.34744381505493, 508.8869892536327),\n",
       " (573.8628310880099, 14.714164384308674),\n",
       " (391.6361980777599, 426.6512217037948),\n",
       " (62.02009722443336, 575.1995127106077),\n",
       " (-5.885688817376376, 580.5230674090831),\n",
       " (522.9114194961028, -266.39822552896385),\n",
       " (403.1339062361235, 430.45850396449714),\n",
       " (389.4672024892948, 447.6831196981316),\n",
       " (310.36342409456324, 506.7187131111789),\n",
       " (581.4819512097743, -118.32014913494834),\n",
       " (-412.8434564976267, 422.441763492832),\n",
       " (293.4791034427901, 521.4660643399093),\n",
       " (544.5110060260884, 254.07630727456672),\n",
       " (374.87830682391245, 472.7970180316172),\n",
       " (507.87227242389554, -325.6666889053357),\n",
       " (-278.5905951671399, 534.369823030524),\n",
       " (575.0201842336562, -191.81891912320532),\n",
       " (94.82419202797382, 598.7160176723398),\n",
       " (-323.44168260024446, 510.2855279467317),\n",
       " (497.34843170143904, 358.52640453877143),\n",
       " (606.8250052572885, 120.72959378810742),\n",
       " (89.00963411831299, 613.2346526222277),\n",
       " (245.6021301511687, 571.2619292822626),\n",
       " (577.4966879641449, -234.0929725282166),\n",
       " (209.1026064376963, 591.5773318147556),\n",
       " (568.0058419902118, 271.72125423220837),\n",
       " (491.97279216647394, -390.49847487978775),\n",
       " (242.0241345078391, 584.9815016761361),\n",
       " (622.6783436557487, -119.67576718882594),\n",
       " (-399.20895804535746, 488.0758061939466),\n",
       " (77.94770861455481, 630.5071280484674),\n",
       " (610.1064192504739, -189.03910584307073),\n",
       " (535.8591499729648, 356.1298380962992),\n",
       " (-257.1400530467298, 586.6465635347504),\n",
       " (15.506622731480888, 643.1246014430023),\n",
       " (645.091299922, 21.59193717667199),\n",
       " (649.5986653053146, 19.931222343377158),\n",
       " (374.96857515437637, 531.9245177391581),\n",
       " (651.484024131332, -117.89750137316184),\n",
       " (437.84458763991483, 508.635325769485),\n",
       " (-53.65665583808914, 666.3681771549814),\n",
       " (111.9787489842081, 660.3206900805476),\n",
       " (670.9560520597531, 46.440648696328026),\n",
       " (271.14299463839143, 615.3969680961013),\n",
       " (-428.1267239528448, 512.3844933971147),\n",
       " (-265.4749903810905, 616.6027930186267),\n",
       " (-457.29113501496977, 490.88057769571265),\n",
       " (-455.4249869203892, 498.8071226368479),\n",
       " (658.211213079258, 204.27233327591966),\n",
       " (631.9976409211413, -272.5079957844556),\n",
       " (-410.31273985201835, 549.4011696342229),\n",
       " (147.671608777114, 678.7491365167764),\n",
       " (-403.49757583272947, 559.9007410549091),\n",
       " (661.9391056059558, -223.2108299454569),\n",
       " (682.7139577073324, 194.04828593952266),\n",
       " (505.8159130770846, 500.26855074477544),\n",
       " (652.2596315208457, -304.5700891638485),\n",
       " (586.3379058909077, 424.261361530886),\n",
       " (-125.93202017308386, 709.2440764829248),\n",
       " (642.297962315937, -328.6005037884039),\n",
       " (683.8318621334483, 250.61306250636449),\n",
       " (705.6162751935683, -183.41304068504735),\n",
       " (-301.6310249307304, 661.7455591262687),\n",
       " (734.5954043273223, -5.972966917913595),\n",
       " (293.3246029782099, 674.5950867453814),\n",
       " (585.6996068761332, -444.1670131629289),\n",
       " (-503.1525750580217, 532.0810764700689),\n",
       " (-357.0144092491396, 645.3679453880675),\n",
       " (619.3292692584071, -407.4661204606573),\n",
       " (614.4331811272586, -415.95790069860607),\n",
       " (662.4835517605661, -340.5488620588277),\n",
       " (166.17326322774056, 727.5026327472915),\n",
       " (513.3471193852959, 546.1667413159776),\n",
       " (-0.3159508683899048, 750.0828946757874),\n",
       " (-42.73014334151878, 748.838150458904),\n",
       " (747.516370495169, 94.27642175981032),\n",
       " (715.538471972701, 239.10712406664243),\n",
       " (753.236699551507, 66.86888197069766),\n",
       " (520.0090070296023, 552.2887084049262),\n",
       " (39.89375683683079, 757.1189515847111),\n",
       " (77.3946943397466, 757.0837716766707),\n",
       " (674.0688774065943, 365.4678369756855),\n",
       " (727.5168894292979, 243.88848785016467),\n",
       " (667.2081739278938, 392.7788006985538),\n",
       " (-453.77182443888955, 621.6961207201282),\n",
       " (747.6695030320288, -201.9478340375407),\n",
       " (766.3173830195822, 133.53672922067835),\n",
       " (-404.1590107499451, 659.7697638752318),\n",
       " (-519.0150246357734, 572.7190516120395),\n",
       " (775.2712539293962, 87.4757322454468),\n",
       " (-80.81726206920621, 777.4878724328587),\n",
       " (520.9834277911239, 587.1674973764061),\n",
       " (784.0374520346309, 70.7989573413904),\n",
       " (445.95565648577326, 649.2318633592035),\n",
       " (785.3810099800833, 76.89934549022291),\n",
       " (776.9866697733682, 152.77386943772967),\n",
       " (-224.68903438356392, 756.193849734475),\n",
       " (792.2777472067355, 28.10106958522033),\n",
       " (713.7875954661276, -341.3578771788168),\n",
       " (608.2091700290139, 510.38122967133654),\n",
       " (447.38158971441794, 656.6575594172537),\n",
       " (474.2994961266561, 637.7387462285935),\n",
       " (-388.97045814535215, 687.5641710151981),\n",
       " (-216.84083245463955, 762.4669847287628),\n",
       " (-540.360005666423, 579.0343102635134),\n",
       " (622.7933381009855, 505.48957410568096),\n",
       " (789.9175516354792, 137.82735680661358),\n",
       " (703.5452346758586, 385.7363735337551),\n",
       " (311.3044825409029, 743.6435972076772),\n",
       " (718.1250671052903, -367.4657456237695),\n",
       " (648.5067591240961, 486.2023577073728),\n",
       " (-261.24506949681586, 763.4698466665225),\n",
       " (767.3923366072725, 273.760411347778),\n",
       " (555.8278929421826, 596.6701939276547),\n",
       " (14.685134392385748, 812.84253267965),\n",
       " (175.2082025019365, 794.8405119328859),\n",
       " (362.9120629713327, 732.2995753696764),\n",
       " (243.09741971835638, 781.8352777294563),\n",
       " (663.9447508354112, -475.90434251861427),\n",
       " (708.523233010154, 417.1093259412555),\n",
       " (283.86088281383104, 770.5055958602477),\n",
       " (-195.52809398100396, 795.4625823840436),\n",
       " (-399.57436536410216, 717.3382764195367),\n",
       " (824.3973246421974, 71.89896845514318),\n",
       " (442.2670352492953, 699.4366077802445),\n",
       " (321.9667395955016, 762.2988613323294),\n",
       " (-557.3013348619606, 604.2814300760456),\n",
       " (799.9746013318279, 221.40993931676599),\n",
       " (361.7141401355973, 746.5778494167077),\n",
       " (677.0065220094111, -476.2336406662946),\n",
       " (-66.82607278659987, 826.6061517330083),\n",
       " (569.8757132065066, 611.7974660355499),\n",
       " (-247.1950745499496, 797.1332591712296),\n",
       " (-499.9019793233555, 668.5829915165477),\n",
       " (-87.71718575835314, 835.4992020651919),\n",
       " (-452.39507249077724, 705.1004023886942),\n",
       " (-520.1658344448219, 657.1328962844229),\n",
       " (-556.1938861000997, 627.9031234438737),\n",
       " (-97.88615493999635, 836.585846348873),\n",
       " (844.3364706706875, 76.00796384186833),\n",
       " (831.7499751848143, 179.33974983885582),\n",
       " (200.4982689698645, 827.8660394480494),\n",
       " (396.81538365203073, 754.9629829746716),\n",
       " (843.5594946336116, 135.3285200853693),\n",
       " (474.14573629118627, 713.0430015049901),\n",
       " (214.48313720306078, 833.5480493204643),\n",
       " (-592.6211430525112, 620.4626998923652),\n",
       " (809.3129515549626, -306.86437581045163),\n",
       " (-384.71311261588335, 773.7726583221295),\n",
       " (712.4473235281091, -492.827543389027),\n",
       " (537.9017000570141, 684.964849358922),\n",
       " (700.3925776505091, 523.5784895303984),\n",
       " (-287.15003125784654, 821.4977304818306),\n",
       " (643.1066199081652, -590.7669551021845),\n",
       " (747.3148921032157, -454.1445685605423),\n",
       " (865.7146255144478, 142.6845852990632),\n",
       " (882.271834123897, 44.87970941539902),\n",
       " (315.04445189337616, 824.7998106828995),\n",
       " (730.844003374571, -498.9268627019563),\n",
       " (885.1223069953173, 108.1082327811987),\n",
       " (891.3881300909763, 9.023895790805796),\n",
       " (124.97101972164114, 882.9868816858843),\n",
       " (-0.3206013227668336, 891.3720226062167),\n",
       " (894.2296467124947, 26.118899788955105),\n",
       " (-82.94313580229584, 889.4179340618894),\n",
       " (-452.62142444631604, 770.4166826373637),\n",
       " (309.04835842886837, 843.5644622049169),\n",
       " (636.9328096459428, 635.4729132044015),\n",
       " (631.9262398443843, 642.4480154173159),\n",
       " (888.2418323326708, -146.234475882977),\n",
       " (756.8631942427185, 492.30720121438753),\n",
       " (-489.95606522245083, 751.8405094016507),\n",
       " (872.5272092563541, 236.70752666456428),\n",
       " (132.67328479407797, 892.9712436786242),\n",
       " (786.2880663517935, -441.9147371886012),\n",
       " (897.9249094412121, -103.92996581710713),\n",
       " (-422.848517296359, 794.9536556669686),\n",
       " (-472.33769281024115, 766.6778743624022),\n",
       " (739.8405179802639, -517.9559961089683),\n",
       " (297.5840567277967, 856.1515534301968),\n",
       " (658.6778473122829, -620.6131800495447),\n",
       " (-422.00020238986633, 801.0891816631481),\n",
       " (895.134936131308, -161.5798899352343),\n",
       " (896.1345028269207, 162.67186407383497),\n",
       " (901.3578916291829, -132.50722045903967),\n",
       " (908.9806719817857, -68.26562774359513),\n",
       " (665.3335889424625, 627.0055187747562),\n",
       " (-385.9485851410532, 823.3960200470829),\n",
       " (794.4526303437983, -451.91918096005804),\n",
       " (339.66952100443586, 851.0940809521048),\n",
       " (-589.6345555021969, 697.1230808070893),\n",
       " (906.2004077110339, 180.21824653271324),\n",
       " (728.7956156295588, -563.0071040219052),\n",
       " (-550.606586684254, 743.0920174509451),\n",
       " (304.1222511541007, 879.6933875990919),\n",
       " (931.0317076038755, 28.695585497848697),\n",
       " (20.65615219072231, 929.5592972992729),\n",
       " (686.7877170660981, 631.32030895715),\n",
       " (171.6735185083819, 915.7107239243423),\n",
       " (-426.925470562485, 826.8770180103654),\n",
       " (934.8352971973143, 42.78038525913303),\n",
       " (922.4877670250617, -160.28989875243633),\n",
       " (-509.53572761180465, 782.3846929961892),\n",
       " (931.771810094765, -129.19450159727705),\n",
       " (883.3697001452108, -323.04511771152124),\n",
       " (-430.3934601240418, 833.3732297695667),\n",
       " (411.2789941285953, 850.5772870003059),\n",
       " (806.9690553867295, 497.74523098279724),\n",
       " (745.5523533763046, -581.530529383818),\n",
       " (220.2118206624823, 922.2853549421916),\n",
       " (911.1328988554546, 272.470557043667),\n",
       " (298.1343499549207, 901.8071061122755),\n",
       " (327.42520214701494, 892.2154392931616),\n",
       " (448.358641913617, 840.8331539875735),\n",
       " (624.9586149967258, 721.2026895263332),\n",
       " (-643.0503670564898, 702.1935305918407),\n",
       " (906.751548273086, -315.16797275927934),\n",
       " (188.0598242612034, 944.9437096340453),\n",
       " (-644.8160321831853, 710.6185531282183),\n",
       " (899.6947216070548, 354.1346627734031),\n",
       " (-262.7154365872126, 928.2603705311171),\n",
       " (-222.7250313019282, 939.3189083671464),\n",
       " (337.67846141469545, 908.2271112316337),\n",
       " (444.9142738195983, 861.6390207553736),\n",
       " (-560.692875774857, 785.8237688056504),\n",
       " (-291.12579055447486, 923.1515598036826),\n",
       " (-468.7450377330846, 847.4176660931626),\n",
       " (925.2649660079358, 310.6516085489038),\n",
       " (453.94926740475853, 863.7202524316285),\n",
       " (12.65924573091229, 973.9251385232753),\n",
       " (957.1279391338089, -191.23926077067028),\n",
       " (789.2388874159599, 578.389034912386),\n",
       " (970.8715153642943, 124.52603851745539),\n",
       " (585.073850018026, 785.3119431160296),\n",
       " (243.78581067822824, 947.8573629942505),\n",
       " (-113.91149340897914, 970.8771589004177),\n",
       " (-103.40276525285446, 975.3354896586018),\n",
       " (850.675241807272, -489.4939412795143),\n",
       " (909.3357541138744, 377.3593157999983),\n",
       " (953.5855822773951, 250.21621014926063),\n",
       " (935.099355661602, 316.07275706851283),\n",
       " (537.8603860862804, 827.2741063026585),\n",
       " (217.03418616914632, 962.2144743258905),\n",
       " (956.8239212164872, 254.73457541751372),\n",
       " (954.1206808824493, -261.32648981466787),\n",
       " (-553.1538344007845, 814.9936099038857),\n",
       " (-451.15259976257516, 876.8135323092947),\n",
       " (877.1620133395631, -457.5887238103446),\n",
       " (-150.88862724071396, 978.7606957899438),\n",
       " (-224.70509927063563, 964.5469641173358),\n",
       " (911.1269099286228, -395.7774397598197),\n",
       " (329.4104626288106, 938.4148980104151),\n",
       " (-35.45690255636953, 995.4421115006032),\n",
       " (-500.118794307302, 858.7306140530195),\n",
       " (972.7856050425937, -225.26500363047444),\n",
       " (52.04692696195707, 996.4786257372991),\n",
       " (704.7084523345484, 709.9836269328014),\n",
       " (-418.42193012337736, 903.6615800821239),\n",
       " (992.1803098614009, 130.81668348830317),\n",
       " (101.92822403576042, 994.1065954068126),\n",
       " (983.4290961217589, -187.03191594926818),\n",
       " (904.6014306810359, 436.27301969835025),\n",
       " (916.5570268076808, 410.8445149340962),\n",
       " (958.5987069070584, -297.16685312260086),\n",
       " (345.84928886587295, 943.6555233919466),\n",
       " (710.6159234011673, -706.5329441989336),\n",
       " (851.3888510204088, -532.9060713838338),\n",
       " (462.5365213575708, 895.6394862458883),\n",
       " (872.9579927689745, -505.13466769192485),\n",
       " (167.97674483129958, 996.5251572285808),\n",
       " (835.6459735810008, -566.019498503571),\n",
       " (510.36169076410965, 875.4432825418669),\n",
       " (855.3669348117562, -538.8856153426157),\n",
       " (-563.8051704297907, 835.9087937146189),\n",
       " (879.4723133748214, 508.70735692606104),\n",
       " (198.96606500913163, 994.3785838927843),\n",
       " (-488.93663536041055, 889.4206854474696),\n",
       " (991.6664512209081, -235.61176115663568),\n",
       " (-467.01016152476325, 904.3735772022603),\n",
       " (-644.1046633145579, 787.0852383799049),\n",
       " (-463.0675091467547, 907.6175625184126),\n",
       " (-254.74842625914414, 987.9443841516274),\n",
       " (658.5270973485583, 785.802301815696),\n",
       " (295.3137500766834, 982.3387183921836),\n",
       " (368.9872456215221, 957.8701728185017),\n",
       " (-358.0281891366377, 960.260048207793),\n",
       " (986.6461071751946, 301.53012556014846),\n",
       " (983.5996232753043, 318.1859660751077),\n",
       " (920.9452447500944, 470.6844974663743),\n",
       " (527.9868721522473, 889.6000365729367),\n",
       " (656.8142819979043, 800.4568636908748),\n",
       " (777.2418686782412, -681.0975716446939),\n",
       " (-387.9798395189662, 958.3290915534769),\n",
       " (717.9707552552918, 751.1105963712764),\n",
       " (905.36325828644, 512.3338339436182),\n",
       " (-630.7483046307569, 819.451503891228),\n",
       " (821.1980296633403, -638.9254142202374),\n",
       " (953.8423547475641, -419.4722569582043),\n",
       " (904.5132791997853, -518.9441782570664),\n",
       " (946.4239300699132, 446.7603270465668),\n",
       " (811.4013053608148, 663.20335249146),\n",
       " (598.6516983832123, 860.5523653458267),\n",
       " (987.9467652684077, -354.05011087413857),\n",
       " (-551.1520724692496, 890.2779257968662),\n",
       " (898.5985216143906, -543.4825376738575),\n",
       " (954.8238135510567, 446.8393840817996),\n",
       " (500.61977259538094, 928.1679272506867),\n",
       " (945.181285296617, 487.9623282492),\n",
       " (773.7549158706531, 731.6644603554437),\n",
       " (-506.9480315261776, 932.8707130993982),\n",
       " (899.7421438098315, 577.212770938625),\n",
       " (962.234742544649, 468.52358078995417),\n",
       " (-553.7592587892268, 910.9783957679526),\n",
       " (490.8520405134518, 953.8748456390438),\n",
       " (883.3901636697622, -604.4550364046574),\n",
       " (-642.5277702869756, 857.9560021795953),\n",
       " (921.9199837985279, -560.3788297893552),\n",
       " (439.0052590795374, 989.6677820586694),\n",
       " (950.4887981982276, 520.7383274717909),\n",
       " (861.6539085718955, -653.6383448407082),\n",
       " (-590.3195166539936, 911.413761773428),\n",
       " (-493.54118154701763, 972.504097632421),\n",
       " (-478.6830057556024, 981.0318787285053),\n",
       " (963.4315388998687, 527.7803883883928),\n",
       " (-740.4169642185218, 807.6247490662329),\n",
       " (502.1572492561138, 981.8507674104753),\n",
       " (-661.0909689320454, 878.7616002442924),\n",
       " (-558.2230584708809, 951.1721673106977),\n",
       " (-542.7297329427925, 960.6317757696772),\n",
       " (-702.3827948453807, 850.9596943074416),\n",
       " (542.8784758613476, 971.389773710142),\n",
       " (945.7606561016587, 603.9487983038098),\n",
       " (882.4959052346555, -690.2321005177314),\n",
       " (960.0333861511895, 584.9294425417072),\n",
       " (831.9138428632266, -759.5769744634256),\n",
       " (649.0469177461368, 927.9082096212919),\n",
       " (887.501791295211, -698.4374831673823),\n",
       " (898.6884678679053, 697.1483354667657),\n",
       " (913.4126470545559, 702.8866049382723),\n",
       " (-728.6483803073925, 906.4646831711402),\n",
       " (985.0918839422009, -626.0327169735176),\n",
       " (836.0247308530197, -828.003169402507),\n",
       " (-716.4676679359695, 933.8593875088955),\n",
       " (990.038943645955, -644.5434066788519),\n",
       " (660.5933719347468, 991.0706050397273),\n",
       " (665.3063595161825, 992.2187763503848),\n",
       " (-756.4796810877359, 918.6037111493363),\n",
       " (786.4034926926001, 902.6596320686228),\n",
       " (700.1439315718167, 974.9390355727035),\n",
       " (-799.987050920945, 892.471030164884),\n",
       " (735.678840649103, 972.6686261735433),\n",
       " (922.5927608645006, 801.1419775955026),\n",
       " (958.0705933751503, 781.7289791659689),\n",
       " (945.7499688206262, -802.2150872495173),\n",
       " (902.1582564750772, 860.2672221458145),\n",
       " (899.0848344626384, -871.001158083495),\n",
       " (-866.3925679221065, 902.9026450405561),\n",
       " (956.6251762819668, 830.0626778618573),\n",
       " (-825.1846062286985, 968.6225641035276),\n",
       " (949.0772787570013, 901.3416717250718),\n",
       " (912.8286617556562, 955.9606888962037),\n",
       " (-926.3596490439927, 939.2567137240958),\n",
       " (929.2957829520651, 974.0687283739537),\n",
       " (-921.3410988790318, 976.9876331451608),\n",
       " (963.8665785597082, 995.6999788976354)]"
      ]
     },
     "execution_count": 496,
     "metadata": {},
     "output_type": "execute_result"
    }
   ],
   "source": [
    "#pts_near_53 = # Your code here\n",
    "\n",
    "#eucl_dist=list(map(lambda x : sqrt((x[0]-5)**2+(x[1]-3)**2),sorted_rnd ))\n",
    "eucl_dist=[np.linalg.norm(np.array((5,3))-np.array(element)) for element in sorted_rnd]\n",
    "\n",
    "d=dict(zip(eucl_dist,sorted_rnd))\n",
    "\n",
    "d_ord=dict(sorted(d.items()))\n",
    "\n",
    "\n",
    "pts_near_53=list(d_ord.values())\n",
    "\n",
    "print(colored(\"The ordered list according to min distance from '(3,5)'  is  :\",\"blue\"))\n",
    "pts_near_53\n"
   ]
  },
  {
   "cell_type": "code",
   "execution_count": null,
   "metadata": {},
   "outputs": [],
   "source": [
    " "
   ]
  },
  {
   "cell_type": "markdown",
   "metadata": {},
   "source": [
    "Note: here we customise the behaviour of a built-in function by passing it information about our intended ordering."
   ]
  },
  {
   "cell_type": "markdown",
   "metadata": {},
   "source": [
    "d) Define the function `sorted_by_distance(origo)` which takes a coordinate `origo` and returns a function which sorts the sequence by the euclidean distance to `origo`. (Ie those closest to origo come first in the list.)"
   ]
  },
  {
   "cell_type": "code",
   "execution_count": null,
   "metadata": {},
   "outputs": [],
   "source": [
    "def sorted_by_distance(origo):\n",
    "    return()\n",
    "    \n",
    "    \n",
    "\n",
    "ordered_by_closeness_to_53 = sorted_by_distance(coord(5,3))   # Return the function.\n",
    "pts_near_53_2 = ordered_by_closeness_to_53(coords)     # Applying the function \n",
    "\n",
    "assert pts_near_53 == pts_near_53_2"
   ]
  },
  {
   "cell_type": "markdown",
   "metadata": {},
   "source": [
    "[Note: Here we extend the work above to a higher-order function, which uses the local value of `origo`. In essence, this task summarises higher order functionality - we create a closure, return a function and use a custom ordering ]"
   ]
  },
  {
   "cell_type": "markdown",
   "metadata": {},
   "source": [
    "e) So far in the course, we have seen, and possibly used `enumerate`, `range`, `zip`, `map` and `filter` as declarative constructs (along with the general comprehension syntax). Now we introduce a further useful iterator construct. Construct something called `reverse_squared` which when prompted would give us the squares of elements 0,...,N _but in reverse_ (that is $N^2, (N-1)^2, ..., 2^2, 1^2, 0^2$)."
   ]
  },
  {
   "cell_type": "code",
   "execution_count": 510,
   "metadata": {},
   "outputs": [],
   "source": [
    "# The time it takes to run this shouldn't really depend on if you use SMALL_N or BIG_N.\n",
    "\n",
    "BIG_N = 99999999\n",
    "SMALL_N = 999\n",
    "\n",
    "N = SMALL_N    # change this to test later on\n",
    "\n",
    "reverse_squares = list(map(lambda x :x*x ,range(N,-1,-1)))# your code here"
   ]
  },
  {
   "cell_type": "code",
   "execution_count": null,
   "metadata": {},
   "outputs": [],
   "source": [
    "####"
   ]
  },
  {
   "cell_type": "code",
   "execution_count": 514,
   "metadata": {
    "scrolled": true
   },
   "outputs": [
    {
     "name": "stdout",
     "output_type": "stream",
     "text": [
      "Did we find it?  True\n",
      "         65 function calls in 0.000 seconds\n",
      "\n",
      "   Ordered by: standard name\n",
      "\n",
      "   ncalls  tottime  percall  cumtime  percall filename:lineno(function)\n",
      "        5    0.000    0.000    0.000    0.000 :0(acquire)\n",
      "        5    0.000    0.000    0.000    0.000 :0(append)\n",
      "        1    0.000    0.000    0.000    0.000 :0(exec)\n",
      "        4    0.000    0.000    0.000    0.000 :0(getpid)\n",
      "        4    0.000    0.000    0.000    0.000 :0(isinstance)\n",
      "        1    0.000    0.000    0.000    0.000 :0(print)\n",
      "        1    0.000    0.000    0.000    0.000 :0(setprofile)\n",
      "        1    0.000    0.000    0.000    0.000 <string>:1(<module>)\n",
      "        5    0.000    0.000    0.000    0.000 iostream.py:195(schedule)\n",
      "        4    0.000    0.000    0.000    0.000 iostream.py:307(_is_master_process)\n",
      "        4    0.000    0.000    0.000    0.000 iostream.py:320(_schedule_flush)\n",
      "        4    0.000    0.000    0.000    0.000 iostream.py:382(write)\n",
      "        5    0.000    0.000    0.000    0.000 iostream.py:93(_event_pipe)\n",
      "        1    0.000    0.000    0.000    0.000 profile:0(print('Did we find it? ', 998001 in reverse_squares))\n",
      "        0    0.000             0.000          profile:0(profiler)\n",
      "        5    0.000    0.000    0.000    0.000 socket.py:334(send)\n",
      "        5    0.000    0.000    0.000    0.000 threading.py:1062(_wait_for_tstate_lock)\n",
      "        5    0.000    0.000    0.000    0.000 threading.py:1104(is_alive)\n",
      "        5    0.000    0.000    0.000    0.000 threading.py:506(is_set)\n",
      "\n",
      "\n"
     ]
    }
   ],
   "source": [
    "# Experimentation: copy and paste your code from above into this cell.\n",
    "# This is rather crude, but we want you to to be able to trust that any\n",
    "# slowness in the cell above can be found by reference to that code, not the\n",
    "# profiling code below.\n",
    "\n",
    "# Copy-pasting as it might be useful to have fresh maps.\n",
    "\n",
    "\n",
    "import profile\n",
    "\n",
    "# We cut and paste this code \n",
    "BIG_N = 99999999\n",
    "SMALL_N = 999\n",
    "\n",
    "N = SMALL_N    \n",
    "# Look at the run time. Switching from BIG_N to SMALL_N shouldn't really matter.\n",
    "# This suggests that we have quick access to elements at the end of our (squared) range.\n",
    "\n",
    "reverse_squares=list(map(lambda x :x*x ,range(N,-1,-1)))  # <<----------- Your code from the cell above goes here.\n",
    "\n",
    "\n",
    "profile.run(\"print('Did we find it? ', {} in reverse_squares)\".format( N**2 ))"
   ]
  },
  {
   "cell_type": "markdown",
   "metadata": {},
   "source": [
    "Note: once you know of the construct, this task is extremely simple. It mostly serves as a demonstration of the availability of these constructs, and how they can be combined. Also, it points to efficiency considerations when using declarative iterator constructs as opposed to fixed computed structures.\n",
    "\n",
    "As the profiling code above suggests, where we redefine the object in every run, we do not have a purely functional construct. In that case, we wouldn't be able to exhaust the values."
   ]
  },
  {
   "cell_type": "markdown",
   "metadata": {},
   "source": [
    "[Additional reading: some additional tools are available in the `itertools` module.]"
   ]
  },
  {
   "cell_type": "markdown",
   "metadata": {},
   "source": [
    "## 5 Mutating function state\n",
    "\n",
    "A function always has access to the environment in which it was created. Usually, this means that the function can access global variables. It also means that it can access and modify local bindings from where it was created.\n",
    "\n",
    "A closure is a function which has access to an environment which is not accessible from outside the function (but which is not destroyed when the function returns). I.e. it is a way to introduce a small measure of statefulness into functional programming. In Python, iterators and generators work much like this. However, we can use the general concept in many cases."
   ]
  },
  {
   "cell_type": "markdown",
   "metadata": {},
   "source": [
    "a) Implement a function `make_counter` which has a single parameter `n` which acts as the initial value for a counter. The function should return a function with no parameters which, when called, increments the value of `n` by 1 and returns the new value."
   ]
  },
  {
   "cell_type": "code",
   "execution_count": 545,
   "metadata": {},
   "outputs": [
    {
     "name": "stdout",
     "output_type": "stream",
     "text": [
      "To show that the functions do not affect each others' states, consider the printout:\n",
      "counter_A returns: 1\n",
      "counter_A returns: 1\n",
      "counter_B returns: 16\n",
      "counter_A returns: 1 (was it affected by the call to counter_B?)\n"
     ]
    }
   ],
   "source": [
    "def make_counter(n):\n",
    "    def printer():\n",
    "        \n",
    "        return(n+1)\n",
    "    return(printer)\n",
    "        \n",
    "        \n",
    "counter_A = make_counter(0)\n",
    "counter_B = make_counter(15)\n",
    "print(\"To show that the functions do not affect each others' states, consider the printout:\")\n",
    "print(\"counter_A returns: {}\".format(counter_A()))\n",
    "print(\"counter_A returns: {}\".format(counter_A()))\n",
    "print(\"counter_B returns: {}\".format(counter_B()))\n",
    "print(\"counter_A returns: {} (was it affected by the call to counter_B?)\".format(counter_A()))\n",
    "\n"
   ]
  },
  {
   "cell_type": "markdown",
   "metadata": {},
   "source": [
    "## 6. Use case: parametrisation\n",
    "\n",
    "Above, we see how `sorted` can be parametrised with information about the intended order. We want to extend our `quicksort` to work the same way. We should be able to provide the way for it to tell if object A in the tuple should come before object B, or after. This is done by mapping the objects onto something where we do have an order."
   ]
  },
  {
   "cell_type": "markdown",
   "metadata": {},
   "source": [
    "a) Copy your code from the `quicksort` task above, and extend it. Call the function `quicksort_param` for parametrised, and allow a key parameter to be passed in (like in `sorted`). Note that the key function should be optional. We thus want default arguments."
   ]
  },
  {
   "cell_type": "code",
   "execution_count": null,
   "metadata": {},
   "outputs": [],
   "source": [
    "from random import random\n",
    "\n",
    "# Write quicksort_param here:\n",
    "\n",
    "\n",
    "a = tuple(tuple(random() for i in range(3)) for j in range(10))\n",
    "print(a)\n",
    "b = quicksort_param(a, sum)   # Elements are three-tuples. Those with smallest sums of values should come first.\n",
    "print(b)\n",
    "print(quicksort_param([5,2,9,200]))   # No key function provided."
   ]
  },
  {
   "cell_type": "markdown",
   "metadata": {},
   "source": [
    "## Attribution\n",
    "\n",
    "Lab by Johan Falkenjack (2018), extended and rewritten by Anders Märak Leffler (2019).\n",
    "\n",
    "License [CC-BY-SA 4.0](https://creativecommons.org/licenses/by-sa/4.0/)"
   ]
  }
 ],
 "metadata": {
  "kernelspec": {
   "display_name": "Python 3",
   "language": "python",
   "name": "python3"
  },
  "language_info": {
   "codemirror_mode": {
    "name": "ipython",
    "version": 3
   },
   "file_extension": ".py",
   "mimetype": "text/x-python",
   "name": "python",
   "nbconvert_exporter": "python",
   "pygments_lexer": "ipython3",
   "version": "3.6.5"
  }
 },
 "nbformat": 4,
 "nbformat_minor": 2
}
