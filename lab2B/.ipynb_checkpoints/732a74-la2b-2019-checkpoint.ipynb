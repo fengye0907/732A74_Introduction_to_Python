{
 "cells": [
  {
   "cell_type": "markdown",
   "metadata": {},
   "source": [
    "# Lab 2B: Functional programming, and declarative patterns\n"
   ]
  },
  {
   "cell_type": "markdown",
   "metadata": {},
   "source": [
    "__Student:__ abcde123\n",
    "\n",
    "__Student:__ abcde123"
   ]
  },
  {
   "cell_type": "markdown",
   "metadata": {},
   "source": [
    "Disclaimer: Functional programming in Python does not always lead to the fastest possible code, and is often not considered the *pythonic* approach. However, functional programming is the basis for many concurrent systems (the MapReduce programming model which many big data systems, e.g. Hadoop, relies on gets its name from the *map* and *reduce* functions mentioned below). Python is a multi-paradigm language, and functional programming is one of the main paradigms one can use. To understand how and when to do this, it is necessary to do things in a non-*pythonic* way in order to cover the basics."
   ]
  },
  {
   "cell_type": "markdown",
   "metadata": {},
   "source": [
    "## General instructions\n",
    "\n",
    "In this lab there are some general rules you should keep in mind to make sure you are on the correct path in your solutions.\n",
    "\n",
    "#### Rules\n",
    "1. You are not allowed to use `while` or `for` statements unless this is explicitly allowed in the task.\n",
    "2. You are not allowed to use global variables (other than for functions defined in the global environment).\n",
    "3. Code stubs should be viewed as fixed, you are only allowed to add code, the only code you are allowed to change is `pass` statements, which you should remove.\n",
    "4. You should refrain from using the `list` datatype unless otherwise specified and instead use `tuple`. One of the strengths of functional programming is its focus on immutable data types (this is why functional programming and concurrency goes so well together). Incidentally, one might find speedups when using the immutable tuples instead of lists.\n",
    "\n",
    "#### Advice\n",
    "1. Avoid local variables unless you are certain they are necessary, in most cases you won't need to use local variables. (altermatively, use local variables to your hearts content, but when your solution works, try to eliminate them, you should be able to eliminate most of them, over time, you might find that you don't need them.)"
   ]
  },
  {
   "cell_type": "markdown",
   "metadata": {},
   "source": [
    "# 2 Recursion\n",
    "\n",
    "As an introduction to linear recursion, read the introductory note on the course webpage. This might help explain terms that you may not know (even if the concept is previously known)."
   ]
  },
  {
   "cell_type": "markdown",
   "metadata": {},
   "source": [
    "## 2.1 Linear recursion"
   ]
  },
  {
   "cell_type": "markdown",
   "metadata": {},
   "source": [
    "a) Write a recursive function `sum_even(n)` that takes a natural number $n\\geq 0$ and returns the sum of all even numbers $0,...,n$. It should be linear-recursive with delayed computations."
   ]
  },
  {
   "cell_type": "code",
   "execution_count": 1,
   "metadata": {},
   "outputs": [
    {
     "data": {
      "text/plain": [
       "56"
      ]
     },
     "execution_count": 1,
     "metadata": {},
     "output_type": "execute_result"
    }
   ],
   "source": [
    "from functools import reduce\n",
    "def fact(number):\n",
    "    g=list(filter(lambda x : x%2==0,range(number+1)))\n",
    "    g1=reduce(lambda x,y: x+y,g)\n",
    "    return(g1)\n",
    "    \n",
    "fact(14)"
   ]
  },
  {
   "cell_type": "markdown",
   "metadata": {},
   "source": [
    "b) Write `sum_even_it(n)` according to the same specification. In this case, the solution should be tail recursive."
   ]
  },
  {
   "cell_type": "code",
   "execution_count": 2,
   "metadata": {},
   "outputs": [
    {
     "data": {
      "text/plain": [
       "56"
      ]
     },
     "execution_count": 2,
     "metadata": {},
     "output_type": "execute_result"
    }
   ],
   "source": [
    "# Your code here.\n",
    "def sum_even_it(n):\n",
    "    if n <= 0:\n",
    "        return 0\n",
    "    if n % 2 == 0:\n",
    "        return(sum_even_it(n-2)+n)\n",
    "    else :\n",
    "        return((n-1)+sum_even_it(n-3))\n",
    "    \n",
    "sum_even_it(14)   "
   ]
  },
  {
   "cell_type": "markdown",
   "metadata": {},
   "source": [
    "c) We can of course express this in a declarative and Pythonic way, which is non-recursive. Write a function `sum_even_py` which returns the same result as above, but using comprehension or filter/map/reduce construct."
   ]
  },
  {
   "cell_type": "code",
   "execution_count": 3,
   "metadata": {},
   "outputs": [
    {
     "data": {
      "text/plain": [
       "20"
      ]
     },
     "execution_count": 3,
     "metadata": {},
     "output_type": "execute_result"
    }
   ],
   "source": [
    "from functools import reduce\n",
    "def sum_even_py(n) :\n",
    "    try :\n",
    "        even_sum=reduce(lambda x,y: x+y, list(range(0,n+1,2)))\n",
    "        return(even_sum)\n",
    "    except TypeError:\n",
    "        print(\"No input given!\")\n",
    "                \n",
    "    \n",
    "sum_even_py(8)"
   ]
  },
  {
   "cell_type": "markdown",
   "metadata": {},
   "source": [
    "## 2.2 Double/tree recursion"
   ]
  },
  {
   "cell_type": "markdown",
   "metadata": {},
   "source": [
    "Sometimes we might find ourselves with branching structures, where there are several \"smaller\" cases to recurse over. This might for instance be the case when we have trees, lists-within-lists or the like."
   ]
  },
  {
   "cell_type": "markdown",
   "metadata": {},
   "source": [
    "[Note: In the tasks below, it might be helpful to gain an understanding of `isinstance`. See the documentation!]"
   ]
  },
  {
   "cell_type": "markdown",
   "metadata": {},
   "source": [
    "a) One common use of recursion is to traverse recursive data structures. One exercise might be to _flatten_ nested lists or tuples. This is relatively simple with only one level of nesting, or when the structure follows a strict pattern, but for arbitrary nested sequences, a recursive approach is more natural. Implement a recursive function `myflatten` which can take an arbitrary structure of nested tuples and flattens it (in the sense of returning a new non-nested tuple with the same elements in the same order)."
   ]
  },
  {
   "cell_type": "code",
   "execution_count": 4,
   "metadata": {},
   "outputs": [
    {
     "name": "stdout",
     "output_type": "stream",
     "text": [
      "Test passed with sucess!\n"
     ]
    }
   ],
   "source": [
    "\n",
    "def myflatten(seq):\n",
    "\n",
    "    new_tuple = ()\n",
    "    for item in seq:\n",
    "        if type(item) != tuple:\n",
    "            new_tuple+=(item,)\n",
    "        else:\n",
    "            new_tuple+=(myflatten(item))\n",
    "    return new_tuple\n",
    "\n",
    "\n",
    "\n",
    "def test_myflatten():\n",
    "    tests = (\n",
    "     ((), (), \"the empty tuple\"), \n",
    "     ((1,2,3), (1,2,3), \"flat tuples invariant under flattening\"), \n",
    "     ( (1, (2), 3, (4, 5, (6), 7), 8), (1, 2, 3, 4, 5, 6, 7, 8), \"Arbitrarily nested tuples.\")\n",
    "    )\n",
    "    for arg, expected_output, error_msg in tests:\n",
    "        assert myflatten(arg) == expected_output, error_msg\n",
    "    print(\"Test passed with sucess!\")\n",
    "\n",
    "test_myflatten()    # Uncomment this line to run tests.\n",
    "\n"
   ]
  },
  {
   "cell_type": "markdown",
   "metadata": {},
   "source": [
    "b) Implement a function `exists_in(e, seq)` which returns `True` if the element `e` exists somewhere in the tuple `seq` (and `False` otherwise). `seq` might be nested and contain tuples-within-tuples."
   ]
  },
  {
   "cell_type": "code",
   "execution_count": 5,
   "metadata": {},
   "outputs": [
    {
     "name": "stdout",
     "output_type": "stream",
     "text": [
      "The value of 2 found 3 times!\n",
      "\n",
      "\n",
      "The value of 13 found 4 times!\n",
      "\n",
      "\n",
      "The value of 91 not found!\n"
     ]
    },
    {
     "data": {
      "text/plain": [
       "False"
      ]
     },
     "execution_count": 5,
     "metadata": {},
     "output_type": "execute_result"
    }
   ],
   "source": [
    "def n_count(e,seq ):\n",
    "    return (seq.count(e) + sum(\n",
    "        n_count(e,elm) for elm in seq if isinstance(elm,tuple)))     \n",
    "            \n",
    "def exists_in(e,seq):\n",
    "    result=n_count(e,seq)\n",
    "    if result==0:\n",
    "        print(\"The value of {0} not found!\".format(e))\n",
    "        return(False)\n",
    "    else :\n",
    "        print(\"The value of {0} found {1} times!\".format(e,result))\n",
    "        return(True)\n",
    "            \n",
    "    \n",
    "l= (1, ((2), (3,(4,8,5),(2)), (4, 5, (6), 7),(25,34,(2)) ) )   \n",
    "l1= (1, (2), 3, (4, 5, (6), 7), 8,13,(23,44,(9,13)) , (25,55,(64,19,(13,91,(13)))))\n",
    "l3=( 2, (1, (2), (3,(4,8,5),(2)), (4, 5, (6), 7), 8))\n",
    "\n",
    "exists_in(2,l)\n",
    "print(\"\\n\")\n",
    "exists_in(13,l1)\n",
    "print(\"\\n\")\n",
    "exists_in(91,l3)    \n",
    "\n"
   ]
  },
  {
   "cell_type": "markdown",
   "metadata": {},
   "source": [
    "c) Write a few representative test cases, as in lab 2A."
   ]
  },
  {
   "cell_type": "code",
   "execution_count": 6,
   "metadata": {},
   "outputs": [
    {
     "name": "stdout",
     "output_type": "stream",
     "text": [
      "The value of 2 found 3 times!\n",
      "The value of 3 found 1 times!\n",
      "The value of 91 not found!\n",
      "Test passed with sucess!\n"
     ]
    }
   ],
   "source": [
    "l= (1, ((2), (3,(4,8,5),(2)), (4, 5, (6), 7),(25,34,(2)) ) )   \n",
    "l1= (1, (2), 3, (4, 5, (6), 7), 8,13,(23,44,(9,13)) , (25,55,(64,19,(13,91,(13)))))\n",
    "l2=( 2, (1, (2), (3,(4,8,5),(2)), (4, 5, (6), 7), 8))\n",
    "\n",
    "\n",
    "def test_exists_in():\n",
    "    tests = (\n",
    "     ( (2, l),True , \"Number 2 exists 3 times in the nested tuple\"), \n",
    "     ( (3,l1),True, \"Number 3 exists 4 times in nested tuple\"), \n",
    "     ( (91, l2),False, \"The value doesn't exists in tuple\")\n",
    "    )\n",
    "    for (arg1,arg2), expected_output, error_msg in tests:\n",
    "        assert exists_in(arg1,arg2) == expected_output, error_msg\n",
    "    print(\"Test passed with sucess!\")\n",
    "    \n",
    "    \n",
    "test_exists_in()"
   ]
  },
  {
   "cell_type": "markdown",
   "metadata": {},
   "source": [
    "d) One of the most famous recursive functions is the Quicksort function (https://en.wikipedia.org/wiki/Quicksort). It allows us to sort a sequence, with repeated values, in (amortized) log-linear time and with a logarithmic number of recursive calls. We will start by implementing Quicksort for a tuple of numbers.\n",
    "\n",
    "Note that Wikipedia illustrates a more advanced _in-place_ version of Quicksort, with a more advanced partition function. For the purposes of this assignment, you can simply pass a new tuple or generator to each recursive call to quicksort. You may use eg _filter_ or a comprehension to create the inputs."
   ]
  },
  {
   "cell_type": "code",
   "execution_count": 36,
   "metadata": {},
   "outputs": [
    {
     "name": "stdout",
     "output_type": "stream",
     "text": [
      "(1133, 1387, 1862, 1199, 1360, 1008, 1235, 1430, 1789, 1679, 1838, 1907, 1680, 1453, 1078, 1339, 1420, 1106, 1739, 1660, 1861, 1992, 1982, 1108, 1850, 1220, 1867, 1557, 1037, 1775, 1801, 1232, 1682, 1239, 1614, 1031, 1963, 1399, 1785, 1620, 1444, 1525, 1603, 1981, 1341, 1017, 1985, 1029, 1293, 1941, 1075, 1736, 1172, 1581, 1814, 1997, 1895, 1622, 1757, 1047, 1689, 1569, 1502, 1550, 1593, 1925, 1786, 1777, 1574, 1855, 1158, 1811, 1672, 1437, 1169, 1653, 1802, 1323, 1868, 1745, 1203, 1701, 1446, 1127, 1512, 1887, 1320, 1395, 1930, 1864, 1005, 1426, 1098, 1184, 1808, 1546, 1471, 1131, 1939, 1223, 1633, 1889, 1734, 1909, 1869, 1803, 1228, 1194, 1433, 1264, 1109, 1517, 1735, 1469, 1866, 1966, 1361, 1224, 1231, 1725, 1452, 1823, 1274, 1857, 1496, 1286, 1431, 1415, 1693, 1107, 1398, 1742, 1305, 1584, 1041, 1032, 1411, 1367, 1678, 1955, 1306, 1392, 1984, 1062, 1064, 1442, 1854, 1617, 1979, 1365, 1124, 1971, 1908, 1769, 1222, 1028, 1926, 1099, 1843, 1190, 1642, 1218, 1995, 1819, 1422, 1113, 1483, 1758, 1354, 1709, 1394, 1315, 1675, 1875, 1605, 1784, 1390, 1195, 1450, 1959, 1506, 1688, 1377, 1318, 1946, 1036, 1485, 1949, 1153, 1594, 1074, 1160, 1069, 1510, 1974, 1715, 1797, 1554, 1281, 1858, 1899, 1547, 1013, 1842, 1604, 1429, 1125, 1134, 1878, 1358, 1628, 1378, 1097, 1968, 1418, 1388, 1495, 1137, 1940, 1566, 1805, 1632, 1648, 1903, 1499, 1151, 1515, 1393, 1508, 1726, 1813, 1283, 1449, 1298, 1891, 1370, 1816, 1204, 1058, 1892, 1427, 1182, 1548, 1260, 1570, 1836, 1451, 1079, 1728, 1383, 1572, 1482, 1749, 1067, 1905, 1282, 1295, 1280, 1708, 1321, 1873, 1534, 1007, 1466, 1651, 1240, 1652, 1234, 1174, 1374, 1988, 1436, 1830, 1202, 1667, 1213, 1179, 1601, 1214, 1646, 1613, 1545, 1349, 1702, 1461, 1230, 1698, 1243, 1435, 1366, 1132, 1405, 1261, 1727, 1935, 1898, 1690, 1896, 1659, 1376, 1371, 1356, 1638, 1793, 1562, 1136, 1950, 1416, 1947, 1699, 1952, 1027, 1181, 1120, 1049, 1561, 1337, 1839, 1389, 1056, 1249, 1212, 1139, 1115, 1500, 1211, 1484, 1301, 1582, 1583, 1871, 1865, 1425, 1114, 1403, 1639, 1900, 1288, 1714, 1996, 1163, 1774, 1441, 1826, 1248, 1448, 1253, 1334, 1216, 1351, 1455, 1447, 1476, 1938, 1171, 1082, 1713, 1023, 1180, 1754, 1953, 1904, 1493, 1537, 1539, 1543, 1912, 1014, 1070, 1061, 1732, 1003, 1296, 1304, 1640, 1530, 1586, 1118, 1226, 1345, 1050, 1379, 1270, 1624, 1600, 1018, 1692, 1975, 1373, 1524, 1092, 1121, 1827, 1123, 1685, 1703, 1564, 1135, 1021, 1205, 1380, 1186, 1140, 1285, 1677, 1588, 1618, 1368, 1095, 1175, 1350, 1580, 1526, 1343, 1148, 1221, 1142, 1102, 1635, 1576, 1643, 1770, 1421, 1847, 1691, 1766, 1599, 1498, 1977, 1597, 1117, 1310, 1718, 1229, 1193, 1686, 1289, 1596, 1883, 1536, 1658, 1277, 1336, 1740, 1454, 1225, 1164, 1765, 1268, 1063, 1488, 1796, 1241, 1065, 1208, 1033, 1881, 1404, 1419, 1990, 1353, 1147, 1057, 1591, 1641, 1250, 1921, 1440, 1627, 1825, 1978, 1126, 1206, 1352, 1166, 1933, 1841, 1402, 1170, 1347, 1961, 1719, 1312, 1275, 1910, 1381, 1885, 1333, 1798, 1630, 1046, 1020, 1590, 1763, 1401, 1287, 1094, 1923, 1185, 1077, 1944, 1644, 1595, 1723, 1615, 1051, 1626, 1711, 1344, 1200, 1025, 1666, 1086, 1513, 1788, 1279, 1474, 1110, 1346, 1505, 1920, 1567, 1083, 1088, 1188, 1787, 1671, 1284, 1553, 1396, 1308, 1656, 1104, 1103, 1060, 1623, 1746, 1071, 1852, 1246, 1514, 1863, 1748, 1776, 1400, 1197, 1424, 1681, 1906, 1833, 1457, 1973, 1520, 1300, 1150, 1417, 1101, 1894, 1091, 1828, 1511, 1529, 1375, 1747, 1012, 1523, 1006, 1697, 1859, 1999, 1629, 1657, 1439, 1993, 1138, 1936, 1019, 1700, 1751, 1937, 1645, 1860, 1034, 1585, 1673, 1876, 1897, 1227, 1087, 1489, 1085, 1072, 1670, 1737, 1980, 1609, 1035, 1890, 1822, 1619, 1039, 1054, 1456, 1809, 1247, 1290, 1929, 1173, 1262, 1806, 1090, 1759, 1215, 1128, 1273, 1888, 1362, 1042, 1772, 1804, 1621, 1832, 1048, 1144, 1462, 1259, 1556, 1155, 1478, 1409, 1662, 1695, 1009, 1893, 1434, 1820, 1954, 1332, 1038, 1945, 1773, 1363, 1631, 1443, 1413, 1932, 1795, 1382, 1533, 1269, 1969, 1882, 1824, 1292, 1610, 1532, 1016, 1915, 1976, 1271, 1145, 1406, 1244, 1764, 1771, 1307, 1519, 1278, 1372, 1129, 1154, 1877, 1116, 1780, 1913, 1026, 1587, 1201, 1045, 1024, 1634, 1302, 1319, 1924, 1198, 1540, 1598, 1157, 1872, 1792, 1821, 1535, 1957, 1159, 1256, 1219, 1251, 1655, 1096, 1710, 1359, 1053, 1922, 1076, 1509, 1357, 1834, 1001, 1831, 1551, 1156, 1918, 1544, 1768, 1845, 1237, 1043, 1743, 1721, 1254, 1880, 1807, 1676, 1800, 1313, 1948, 1972, 1428, 1093, 1040, 1130, 1720, 1168, 1956, 1015, 1962, 1146, 1684, 1575, 1161, 1196, 1011, 1325, 1916, 1706, 1694, 1267, 1397, 1010, 1738, 1911, 1299, 1851, 1177, 1459, 1934, 1080, 1481, 1919, 1143, 1779, 1663, 1497, 1258, 1002, 1328, 1432, 1386, 1487, 1927, 1817, 1465, 1552, 1951, 1791, 1901, 1571, 1384, 1463, 1849, 1189, 1558, 1790, 1490, 1210, 1782, 1303, 1886, 1960, 1369, 1317, 1207, 1527, 1238, 1669, 1327, 1844, 1760, 1665, 1467, 1606, 1687, 1964, 1568, 1472, 1611, 1412, 1355, 1414, 1928, 1492, 1577, 1559, 1233, 1970, 1111, 1654, 1987, 1342, 1741, 1501, 1752, 1316, 1914, 1931, 1991, 1460, 1707, 1729, 1647, 1625, 1245, 1994, 1255, 1879, 1504, 1265, 1778, 1722, 1242, 1167, 1518, 1683, 1522, 1592, 1649, 1105, 1329, 1458, 1549, 1081, 1507, 1252, 1480, 1516, 1309, 1761, 1468, 1491, 1000, 1068, 1794, 1475, 1750, 1755, 1528, 1958, 1853, 1112, 1815, 1272, 1209, 1236, 1084, 1122, 1829, 1818, 1044, 1364, 1573, 1712, 1783, 1616, 1391, 1311, 1479, 1297, 1810, 1152, 1059, 1724, 1870, 1165, 1385, 1494, 1445, 1756, 1579, 1943, 1705, 1661, 1178, 1837, 1294, 1608, 1637, 1276, 1331, 1636, 1902, 1291, 1340, 1986, 1650, 1767, 1565, 1119, 1263, 1531, 1731, 1176, 1856, 1942, 1799, 1100, 1477, 1555, 1322, 1438, 1408, 1846, 1410, 1965, 1162, 1330, 1473, 1314, 1192, 1733, 1217, 1848, 1781, 1141, 1066, 1257, 1464, 1004, 1612, 1423, 1753, 1917, 1840, 1055, 1602, 1835, 1541, 1664, 1538, 1542, 1187, 1983, 1022, 1149, 1668, 1052, 1696, 1744, 1324, 1348, 1674, 1704, 1407, 1884, 1989, 1030, 1874, 1578, 1335, 1607, 1073, 1730, 1716, 1503, 1191, 1762, 1470, 1338, 1486, 1812, 1563, 1967, 1589, 1326, 1521, 1717, 1089, 1183, 1560, 1266, 1998)\n",
      "[1000, 1001, 1002, 1003, 1004, 1005, 1006, 1007, 1008, 1009, 1010, 1011, 1012, 1013, 1014, 1015, 1016, 1017, 1018, 1019, 1020, 1021, 1022, 1023, 1024, 1025, 1026, 1027, 1028, 1029, 1030, 1031, 1032, 1033, 1034, 1035, 1036, 1037, 1038, 1039, 1040, 1041, 1042, 1043, 1044, 1045, 1046, 1047, 1048, 1049, 1050, 1051, 1052, 1053, 1054, 1055, 1056, 1057, 1058, 1059, 1060, 1061, 1062, 1063, 1064, 1065, 1066, 1067, 1068, 1069, 1070, 1071, 1072, 1073, 1074, 1075, 1076, 1077, 1078, 1079, 1080, 1081, 1082, 1083, 1084, 1085, 1086, 1087, 1088, 1089, 1090, 1091, 1092, 1093, 1094, 1095, 1096, 1097, 1098, 1099, 1100, 1101, 1102, 1103, 1104, 1105, 1106, 1107, 1108, 1109, 1110, 1111, 1112, 1113, 1114, 1115, 1116, 1117, 1118, 1119, 1120, 1121, 1122, 1123, 1124, 1125, 1126, 1127, 1128, 1129, 1130, 1131, 1132, 1133, 1134, 1135, 1136, 1137, 1138, 1139, 1140, 1141, 1142, 1143, 1144, 1145, 1146, 1147, 1148, 1149, 1150, 1151, 1152, 1153, 1154, 1155, 1156, 1157, 1158, 1159, 1160, 1161, 1162, 1163, 1164, 1165, 1166, 1167, 1168, 1169, 1170, 1171, 1172, 1173, 1174, 1175, 1176, 1177, 1178, 1179, 1180, 1181, 1182, 1183, 1184, 1185, 1186, 1187, 1188, 1189, 1190, 1191, 1192, 1193, 1194, 1195, 1196, 1197, 1198, 1199, 1200, 1201, 1202, 1203, 1204, 1205, 1206, 1207, 1208, 1209, 1210, 1211, 1212, 1213, 1214, 1215, 1216, 1217, 1218, 1219, 1220, 1221, 1222, 1223, 1224, 1225, 1226, 1227, 1228, 1229, 1230, 1231, 1232, 1233, 1234, 1235, 1236, 1237, 1238, 1239, 1240, 1241, 1242, 1243, 1244, 1245, 1246, 1247, 1248, 1249, 1250, 1251, 1252, 1253, 1254, 1255, 1256, 1257, 1258, 1259, 1260, 1261, 1262, 1263, 1264, 1265, 1266, 1267, 1268, 1269, 1270, 1271, 1272, 1273, 1274, 1275, 1276, 1277, 1278, 1279, 1280, 1281, 1282, 1283, 1284, 1285, 1286, 1287, 1288, 1289, 1290, 1291, 1292, 1293, 1294, 1295, 1296, 1297, 1298, 1299, 1300, 1301, 1302, 1303, 1304, 1305, 1306, 1307, 1308, 1309, 1310, 1311, 1312, 1313, 1314, 1315, 1316, 1317, 1318, 1319, 1320, 1321, 1322, 1323, 1324, 1325, 1326, 1327, 1328, 1329, 1330, 1331, 1332, 1333, 1334, 1335, 1336, 1337, 1338, 1339, 1340, 1341, 1342, 1343, 1344, 1345, 1346, 1347, 1348, 1349, 1350, 1351, 1352, 1353, 1354, 1355, 1356, 1357, 1358, 1359, 1360, 1361, 1362, 1363, 1364, 1365, 1366, 1367, 1368, 1369, 1370, 1371, 1372, 1373, 1374, 1375, 1376, 1377, 1378, 1379, 1380, 1381, 1382, 1383, 1384, 1385, 1386, 1387, 1388, 1389, 1390, 1391, 1392, 1393, 1394, 1395, 1396, 1397, 1398, 1399, 1400, 1401, 1402, 1403, 1404, 1405, 1406, 1407, 1408, 1409, 1410, 1411, 1412, 1413, 1414, 1415, 1416, 1417, 1418, 1419, 1420, 1421, 1422, 1423, 1424, 1425, 1426, 1427, 1428, 1429, 1430, 1431, 1432, 1433, 1434, 1435, 1436, 1437, 1438, 1439, 1440, 1441, 1442, 1443, 1444, 1445, 1446, 1447, 1448, 1449, 1450, 1451, 1452, 1453, 1454, 1455, 1456, 1457, 1458, 1459, 1460, 1461, 1462, 1463, 1464, 1465, 1466, 1467, 1468, 1469, 1470, 1471, 1472, 1473, 1474, 1475, 1476, 1477, 1478, 1479, 1480, 1481, 1482, 1483, 1484, 1485, 1486, 1487, 1488, 1489, 1490, 1491, 1492, 1493, 1494, 1495, 1496, 1497, 1498, 1499, 1500, 1501, 1502, 1503, 1504, 1505, 1506, 1507, 1508, 1509, 1510, 1511, 1512, 1513, 1514, 1515, 1516, 1517, 1518, 1519, 1520, 1521, 1522, 1523, 1524, 1525, 1526, 1527, 1528, 1529, 1530, 1531, 1532, 1533, 1534, 1535, 1536, 1537, 1538, 1539, 1540, 1541, 1542, 1543, 1544, 1545, 1546, 1547, 1548, 1549, 1550, 1551, 1552, 1553, 1554, 1555, 1556, 1557, 1558, 1559, 1560, 1561, 1562, 1563, 1564, 1565, 1566, 1567, 1568, 1569, 1570, 1571, 1572, 1573, 1574, 1575, 1576, 1577, 1578, 1579, 1580, 1581, 1582, 1583, 1584, 1585, 1586, 1587, 1588, 1589, 1590, 1591, 1592, 1593, 1594, 1595, 1596, 1597, 1598, 1599, 1600, 1601, 1602, 1603, 1604, 1605, 1606, 1607, 1608, 1609, 1610, 1611, 1612, 1613, 1614, 1615, 1616, 1617, 1618, 1619, 1620, 1621, 1622, 1623, 1624, 1625, 1626, 1627, 1628, 1629, 1630, 1631, 1632, 1633, 1634, 1635, 1636, 1637, 1638, 1639, 1640, 1641, 1642, 1643, 1644, 1645, 1646, 1647, 1648, 1649, 1650, 1651, 1652, 1653, 1654, 1655, 1656, 1657, 1658, 1659, 1660, 1661, 1662, 1663, 1664, 1665, 1666, 1667, 1668, 1669, 1670, 1671, 1672, 1673, 1674, 1675, 1676, 1677, 1678, 1679, 1680, 1681, 1682, 1683, 1684, 1685, 1686, 1687, 1688, 1689, 1690, 1691, 1692, 1693, 1694, 1695, 1696, 1697, 1698, 1699, 1700, 1701, 1702, 1703, 1704, 1705, 1706, 1707, 1708, 1709, 1710, 1711, 1712, 1713, 1714, 1715, 1716, 1717, 1718, 1719, 1720, 1721, 1722, 1723, 1724, 1725, 1726, 1727, 1728, 1729, 1730, 1731, 1732, 1733, 1734, 1735, 1736, 1737, 1738, 1739, 1740, 1741, 1742, 1743, 1744, 1745, 1746, 1747, 1748, 1749, 1750, 1751, 1752, 1753, 1754, 1755, 1756, 1757, 1758, 1759, 1760, 1761, 1762, 1763, 1764, 1765, 1766, 1767, 1768, 1769, 1770, 1771, 1772, 1773, 1774, 1775, 1776, 1777, 1778, 1779, 1780, 1781, 1782, 1783, 1784, 1785, 1786, 1787, 1788, 1789, 1790, 1791, 1792, 1793, 1794, 1795, 1796, 1797, 1798, 1799, 1800, 1801, 1802, 1803, 1804, 1805, 1806, 1807, 1808, 1809, 1810, 1811, 1812, 1813, 1814, 1815, 1816, 1817, 1818, 1819, 1820, 1821, 1822, 1823, 1824, 1825, 1826, 1827, 1828, 1829, 1830, 1831, 1832, 1833, 1834, 1835, 1836, 1837, 1838, 1839, 1840, 1841, 1842, 1843, 1844, 1845, 1846, 1847, 1848, 1849, 1850, 1851, 1852, 1853, 1854, 1855, 1856, 1857, 1858, 1859, 1860, 1861, 1862, 1863, 1864, 1865, 1866, 1867, 1868, 1869, 1870, 1871, 1872, 1873, 1874, 1875, 1876, 1877, 1878, 1879, 1880, 1881, 1882, 1883, 1884, 1885, 1886, 1887, 1888, 1889, 1890, 1891, 1892, 1893, 1894, 1895, 1896, 1897, 1898, 1899, 1900, 1901, 1902, 1903, 1904, 1905, 1906, 1907, 1908, 1909, 1910, 1911, 1912, 1913, 1914, 1915, 1916, 1917, 1918, 1919, 1920, 1921, 1922, 1923, 1924, 1925, 1926, 1927, 1928, 1929, 1930, 1931, 1932, 1933, 1934, 1935, 1936, 1937, 1938, 1939, 1940, 1941, 1942, 1943, 1944, 1945, 1946, 1947, 1948, 1949, 1950, 1951, 1952, 1953, 1954, 1955, 1956, 1957, 1958, 1959, 1960, 1961, 1962, 1963, 1964, 1965, 1966, 1967, 1968, 1969, 1970, 1971, 1972, 1973, 1974, 1975, 1976, 1977, 1978, 1979, 1980, 1981, 1982, 1983, 1984, 1985, 1986, 1987, 1988, 1989, 1990, 1991, 1992, 1993, 1994, 1995, 1996, 1997, 1998, 1999]\n"
     ]
    }
   ],
   "source": [
    "from random import sample,choice\n",
    "\n",
    "def quicksort(arr): \n",
    "    if len(arr) <= 1:\n",
    "        return arr\n",
    "    else:\n",
    "        return quicksort([x for x in arr[1:] if x < arr[0]]) + [arr[0]] + quicksort([x for x in arr[1:] if x >= arr[0]])\n",
    "    \n",
    "a = tuple(sample(range(1000,2000), 1000))\n",
    "print(a)\n",
    "b = quicksort(a)\n",
    "print(b)"
   ]
  },
  {
   "cell_type": "markdown",
   "metadata": {},
   "source": [
    "## 3 Higher order functions (HOF)\n",
    " \n",
    "A _higher-order function_ is a function which operates on other functions. What this means exactly is disputed, but we will call any function which returns a function or takes a function as an argument a higher-order function. (Conversely, a function neither taking another function as input nor returning a function we will refer to as a _first-order function_)\n",
    "\n",
    "In R you have encountered these when, for instance, using the `apply` family of functions, which are all versions of what is called a `map` function in functional programming (see below).\n",
    "\n",
    "When using higher-order functions, it is often useful to create simple anonymous functions at the place in the code where they are used, rather than defining a new named function in one place only to call it in a single other place. In R, all functions are created in this way with the `function` keyword, but they are usually assigned to global names with standard assignment (`<-`). Python provides similar functionality using the `lambda` keyword (name inspired by Alonzo Church's [$\\lambda$-calculus](https://www.youtube.com/watch?v=eis11j_iGMs) which has inspired much of functional programming) with which we can create anonymous functions. Of course, we can also pass named functions to higher-order functions, which is usually the case when the function is predefined, general enough to be used in more than one place, or complex enough to warrant separate definition and documentation for the sake of clarity."
   ]
  },
  {
   "cell_type": "markdown",
   "metadata": {},
   "source": [
    "## 3.1 The three standard functions `map`, `reduce` and `filter`\n",
    "\n",
    "There are three standard cases which are widely applicable and many other higher-order functions are special cases or combinations of these. They are: `map`, apply a function on each element in a sequence, `filter`, keep (or conversely, remove) elements from a sequence according to some condition, and `reduce`, combine the elements in a sequence. The `map` function takes a sequence and a function (usually of 1 parameter) which is to be applied to each element of the sequence and might return anything, this function is assumed not to have side effects. The `filter` function takes a function (usually of 1 parameter) which returns a boolean value used to indicate which elements are to be kept. The `reduce` function takes a function (usually of 2 parameters) which is used to combine the elements in the sequence.\n",
    "\n",
    "In Python, `map` and `filter` are standard built-in functions. Since Python 3, the `reduce` function needs to be imported from the `functools` module.\n",
    "\n",
    "Many more advanced functions, of any order, can be created by combining these three higher-order functions.\n",
    "\n",
    "A note from last year: usually, the `reduce` function is more difficult to grasp than `map` and `filter` but I found this blog-post by André Burgaud to be a nice introduction to `reduce`. Note that Burgaud talks about the more general _fold_ concept rather than `reduce`, which is a special case of fold often called _left fold_ (this is covered in more detail in the post). https://www.burgaud.com/foldl-foldr-python/"
   ]
  },
  {
   "cell_type": "markdown",
   "metadata": {},
   "source": [
    "a) Implement a function `mysum` which computes the sum of a list or tuple of numbers using the reduce function and a lambda function."
   ]
  },
  {
   "cell_type": "code",
   "execution_count": 8,
   "metadata": {},
   "outputs": [
    {
     "data": {
      "text/plain": [
       "12"
      ]
     },
     "execution_count": 8,
     "metadata": {},
     "output_type": "execute_result"
    }
   ],
   "source": [
    "from functools import reduce\n",
    "\n",
    "def mysum(seq):\n",
    "    return reduce(lambda x,y : x+y, seq)\n",
    "\n",
    "mysum((4, 7, 1))"
   ]
  },
  {
   "cell_type": "markdown",
   "metadata": {},
   "source": [
    "b) Implement a function `mylength` which uses `map` and `reduce` to compute the length of a sequence. The use of the `len` function is not allowed.\n",
    "\n",
    "[Hint: Use `map` to convert the input to something which can easily be `reduce`:d.]"
   ]
  },
  {
   "cell_type": "code",
   "execution_count": 9,
   "metadata": {},
   "outputs": [
    {
     "name": "stdout",
     "output_type": "stream",
     "text": [
      "5\n",
      "4\n",
      "9\n",
      "42\n"
     ]
    }
   ],
   "source": [
    "import functools\n",
    "\n",
    "def mylength(seq):\n",
    "    return (reduce(lambda count, item : count+1 , seq,0))\n",
    "    \n",
    "print(mylength((4, 2, 5, 2, 5)))\n",
    "print(mylength(\"test\"))\n",
    "print(mylength((5656,33,2,5,65,90,2,4,132)))\n",
    "print(mylength(\"We are the hollow men we are the dead men!\"))\n"
   ]
  },
  {
   "cell_type": "markdown",
   "metadata": {},
   "source": [
    "## 3.2 Building your own higher order functions"
   ]
  },
  {
   "cell_type": "markdown",
   "metadata": {},
   "source": [
    "a) Re-implement the three basic functional helper functions `map`, `filter` and `reduce` **as purely functional recursive functions**. You may not express this as eg comprehensions; the task is to practice figuring out this type of logic.\n",
    "\n",
    "Note that the built-in versions of these functions work on multiple sequences of equal length if supplied, however, you can assume a single sequence as second parameter, i.e. you can also skip the third parameter to reduce."
   ]
  },
  {
   "cell_type": "code",
   "execution_count": 10,
   "metadata": {},
   "outputs": [
    {
     "name": "stdout",
     "output_type": "stream",
     "text": [
      "(0, 1, 4, 9, 16, 25, 36, 49, 64, 81, 100)\n",
      "\n",
      "\n",
      "(3, 4, 5, 6, 7, 8, 9, 10, 11, 12, 13)\n",
      "\n",
      "\n",
      "('sss', 'ttt', 'rrr', 'iii', 'nnn', 'ggg', '   ', 'ttt', 'ooo', '   ', 'ttt', 'eee', 'sss', 'ttt')\n",
      "\n",
      "\n",
      "(1, 1, 1, 1, 1, 1)\n",
      "\n",
      "\n",
      "None\n"
     ]
    }
   ],
   "source": [
    "# def mymap(f,seq):\n",
    "#     it = iter(seq)\n",
    "#     total=[]\n",
    "#     try :\n",
    "#         for current in it:\n",
    "#             if f(current):\n",
    "#                 total.append(f(current))\n",
    "#             else :\n",
    "#                 continue\n",
    "                \n",
    "#         return total\n",
    "#     except TypeError :\n",
    "#         print(\"unsupported operand type(s) for ^: 'str' and 'int'\")\n",
    "        \n",
    "        \n",
    "def mymap(f,seq):\n",
    "    try :\n",
    "        if not seq:\n",
    "            return ()\n",
    "        return mymap(f, seq[:-1]) + (f(seq[-1]),)\n",
    "    except TypeError :\n",
    "        return None\n",
    "        \n",
    "\n",
    "print(mymap(lambda x:x**2, tuple(range(11))))\n",
    "print(\"\\n\")\n",
    "print(mymap(lambda x:x+3,list(range(11))))\n",
    "print(\"\\n\")\n",
    "print(mymap(lambda x:x*3,\"string to test\"))\n",
    "print(\"\\n\")\n",
    "print(mymap(len,\"string\"))\n",
    "print(\"\\n\")\n",
    "print(mymap(len,range(10)))"
   ]
  },
  {
   "cell_type": "code",
   "execution_count": 11,
   "metadata": {},
   "outputs": [
    {
     "name": "stdout",
     "output_type": "stream",
     "text": [
      "(0, 2, 4, 6, 8)\n",
      "\n",
      "\n",
      "()\n",
      "\n",
      "\n",
      "canot apply function!\n",
      "None\n",
      "\n",
      "\n",
      "('g', 'g', 'g', 'g')\n"
     ]
    }
   ],
   "source": [
    "# def myfilter(f, seq):\n",
    "#     try :\n",
    "#         if isinstance(seq,list):\n",
    "#             l=[]\n",
    "#             for x in seq:\n",
    "#                 if f(x)==True:\n",
    "#                     l.append(x)\n",
    "#                 else :\n",
    "#                     continue\n",
    "#             return(l)\n",
    "#         elif isinstance(seq,tuple) :\n",
    "#             t=()\n",
    "#             for x in seq:\n",
    "#                 if f(x)==True:\n",
    "#                     t= (*t, x)\n",
    "#                 else :\n",
    "#                     continue\n",
    "#             return (t) \n",
    "#         else :\n",
    "#             mystring=[]\n",
    "#             for x in seq.split():\n",
    "#                 if f(x)==True:\n",
    "#                     mystring.append(x)\n",
    "#                 else:\n",
    "#                     continue\n",
    "#             return (mystring)\n",
    "#     except TypeError :\n",
    "#         print(\"Canot apply this function to iterable!\")\n",
    "\n",
    "\n",
    "                   \n",
    "# def myfilter2(f,seq):\n",
    "#     it = iter(seq)\n",
    "#     total=[]\n",
    "#     try :\n",
    "#         for current in it:\n",
    "#             if f(current):\n",
    "#                 total.append(current)\n",
    "#             else :\n",
    "#                 continue\n",
    "                \n",
    "#         return total\n",
    "#     except TypeError :\n",
    "#         print(\"unsupported operand type(s) for ^: 'str' and 'int'\")\n",
    "#######################################################################\n",
    "\n",
    "\n",
    "def myfilter(f,seq):\n",
    "    try:\n",
    "        if not seq:\n",
    "            return ()\n",
    "        if f(seq[-1]):\n",
    "            return  myfilter(f, seq[:-1]) + (seq[-1],)\n",
    "        else :\n",
    "            return myfilter(f,seq[:-1])+()\n",
    "    except :\n",
    "        print(\"canot apply function!\")\n",
    "        \n",
    "            \n",
    "    \n",
    "                \n",
    "\n",
    "            \n",
    "print(myfilter(lambda x:x%2==0, tuple(range(10))))\n",
    "print(\"\\n\")\n",
    "print(myfilter(lambda x:x==3,list(range(0,10,2))))\n",
    "print(\"\\n\")\n",
    "print(myfilter(lambda x: x^2,\"my string\"))\n",
    "print(\"\\n\")\n",
    "print(myfilter(lambda x : x==\"g\",\"yourgossdgjfjgg\"))"
   ]
  },
  {
   "cell_type": "markdown",
   "metadata": {},
   "source": [
    "You might note the similarities with how you implemented `sum_even`."
   ]
  },
  {
   "cell_type": "code",
   "execution_count": 12,
   "metadata": {},
   "outputs": [
    {
     "name": "stdout",
     "output_type": "stream",
     "text": [
      "24\n",
      "10\n"
     ]
    }
   ],
   "source": [
    "# def myreduce2(f, seq):               #\n",
    "#     it = iter(seq)                   #\n",
    "#     value = next(it)                 #\n",
    "#     for element in it:               #\n",
    "#         value = f(value, element)    #\n",
    "#     return value                     #\n",
    "#########################################\n",
    "\n",
    "\n",
    "def myreduce(f,seq):\n",
    "    if len(seq)==2:\n",
    "        return f(seq[0],seq[1])\n",
    "    \n",
    "    return f(seq[0],myreduce(f,seq[1:]))\n",
    "\n",
    "print(myreduce(lambda x, y: x*y, tuple(range(1,5))))\n",
    "print(myreduce(lambda x,y:x+y,tuple(range(1,5))))"
   ]
  },
  {
   "cell_type": "markdown",
   "metadata": {},
   "source": [
    "## 3.3 Returning functions\n",
    "\n",
    "The previous section covered functions which take other functions as input, but what about the opposite, functions returning functions as output?"
   ]
  },
  {
   "cell_type": "markdown",
   "metadata": {},
   "source": [
    "a) Function composition is a common in both maths and programming. Write a function `compose` which takes two functions, $f$ and $g$, and produces the _composite_ function $f \\circ g$, where $(f \\circ g)(x) \\Leftrightarrow f(g(x))$. Example use is given below."
   ]
  },
  {
   "cell_type": "code",
   "execution_count": 13,
   "metadata": {
    "scrolled": true
   },
   "outputs": [
    {
     "name": "stdout",
     "output_type": "stream",
     "text": [
      "[-1.507556722888818, -1.2060453783110545, -0.9045340337332909, -0.6030226891555273, -0.30151134457776363, 0.0, 0.30151134457776363, 0.6030226891555273, 0.9045340337332909, 1.2060453783110545, 1.507556722888818]\n"
     ]
    }
   ],
   "source": [
    "from statistics import stdev, mean\n",
    "\n",
    "def compose(f, g):\n",
    "    return(lambda x:f(g(x)))\n",
    "\n",
    "def myscale(vals):\n",
    "    return [x/stdev(vals) for x in vals]\n",
    "\n",
    "def myshift(vals):\n",
    "    return [x-mean(vals) for x in vals]\n",
    "\n",
    "standardize = compose(myscale, myshift)\n",
    "\n",
    "print(standardize(range(-3, 8)))"
   ]
  },
  {
   "cell_type": "markdown",
   "metadata": {},
   "source": [
    "b) Create a function `composition(*funs)` which takes a non-empty sequence of functions of one argument and returns their sequential composition. That is $composition(f_0,f_1, \\ldots, f_n) = f_0 \\circ f_1 \\circ\\ldots \\circ f_n$. (The question of if $f\\circ g \\circ h$ should be read $f\\circ (g\\circ h)$ or $(f \\circ g) \\circ h$ is perfectly valid, but they turn out to be the same. That is, $\\circ$ is associative.)"
   ]
  },
  {
   "cell_type": "code",
   "execution_count": 15,
   "metadata": {},
   "outputs": [
    {
     "data": {
      "image/png": "[encoded data removed]",
      "text/plain": [
       "<Figure size 432x288 with 1 Axes>"
      ]
     },
     "metadata": {
      "needs_background": "light"
     },
     "output_type": "display_data"
    }
   ],
   "source": [
    "import math\n",
    "import matplotlib\n",
    "import matplotlib.pyplot as plt\n",
    "import numpy as np\n",
    "\n",
    "matplotlib.rcParams['axes.unicode_minus'] = False\n",
    "\n",
    "def plus3(vals):\n",
    "    return([x+3 for x in vals])\n",
    "def e_power(vals):\n",
    "    return([math.exp(x) for x in vals])\n",
    "def my_sin(vals):\n",
    "    return([math.sin(x)/2 for x in vals])\n",
    "\n",
    "\n",
    "def fun(*funs):\n",
    "    return(reduce(compose,funs,lambda x:x))\n",
    "\n",
    "\n",
    "#implement sin(e^(x+1))/2 function \n",
    "\n",
    "inc_double_and_dec = fun(plus3, e_power,my_sin)\n",
    "\n",
    "x = np.linspace(5, 10000, 100) \n",
    "y=inc_double_and_dec(x)\n",
    "\n",
    "plt.plot(x,y)\n",
    "plt.show()\n"
   ]
  },
  {
   "cell_type": "markdown",
   "metadata": {},
   "source": [
    "Hint: Don't remember what can be found in `*funs`? Print it! Don't know how the values should be combined? Write out some simple example on paper."
   ]
  },
  {
   "cell_type": "markdown",
   "metadata": {},
   "source": [
    "Note: This task demonstrates the generality of our constructs. Previously we worked with sequences of numbers and the like. Now we lift this to the level of working with functions as values, and instead of using combinators which work on numbers, we use function combinators in conjunction with our known patterns."
   ]
  },
  {
   "cell_type": "markdown",
   "metadata": {},
   "source": [
    "### Voluntary task: pipelining\n",
    "\n",
    "When doing data analysis, one very important part is pre-processing. Often, data goes through a number of steps of preprocessing, sometimes called a pipeline. The function composition example above can be seen as a special case of such a pipeline for only two functions. By clever use of higher order functions, we can build a pipeline function which takes a list or tuple of data transforming functions and creates a function which applies these sequentially. Construct such a function called `make_pipeline`. In order to focus on the primary purpose of the `make_pipeline` function, we will perform a very simple set of transformations, increment each value by 1, take the absolute value, and then take the square root. Usage example and code for the `inc` function is supplied below.\n",
    "\n",
    "You may want to use functions you have defined above."
   ]
  },
  {
   "cell_type": "code",
   "execution_count": 2,
   "metadata": {
    "scrolled": false
   },
   "outputs": [
    {
     "name": "stdout",
     "output_type": "stream",
     "text": [
      "(2.0, 1.7320508075688772, 1.4142135623730951, 1.0, 0.0, 1.0, 1.4142135623730951, 1.7320508075688772, 2.0, 2.23606797749979, 2.449489742783178, 2.6457513110645907)\n"
     ]
    }
   ],
   "source": [
    "from functools import reduce, partial\n",
    "from math import sqrt \n",
    "\n",
    "\n",
    "def make_pipeline(*funs):    \n",
    "    def inner(vals):\n",
    "        inr=[]\n",
    "        for val in vals :\n",
    "            inr.append((reduce(lambda val, func: func(val), funs, val)))\n",
    "        return inr\n",
    "    return(inner)\n",
    "\n",
    "# We can even drop the lambda vals : bit, using partial\n",
    "# evaluation (see the help for functools.partial!)\n",
    "\n",
    "def inc(x):\n",
    "    return x+1\n",
    "\n",
    "pipeline = make_pipeline(inc, abs, sqrt)\n",
    "\n",
    "x=tuple(pipeline(range(-5,7)))\n",
    "\n",
    "print(x)\n"
   ]
  },
  {
   "cell_type": "code",
   "execution_count": 17,
   "metadata": {},
   "outputs": [
    {
     "ename": "TypeError",
     "evalue": "'function' object is not iterable",
     "output_type": "error",
     "traceback": [
      "\u001b[1;31m---------------------------------------------------------------------------\u001b[0m",
      "\u001b[1;31mTypeError\u001b[0m                                 Traceback (most recent call last)",
      "\u001b[1;32m<ipython-input-17-509a42133dd6>\u001b[0m in \u001b[0;36m<module>\u001b[1;34m\u001b[0m\n\u001b[0;32m      9\u001b[0m     \u001b[1;32mreturn\u001b[0m\u001b[1;33m(\u001b[0m\u001b[0mmap\u001b[0m\u001b[1;33m(\u001b[0m\u001b[0mpartial\u001b[0m\u001b[1;33m,\u001b[0m\u001b[1;33m(\u001b[0m\u001b[0mreduce\u001b[0m\u001b[1;33m(\u001b[0m\u001b[0mcompose2\u001b[0m\u001b[1;33m,\u001b[0m\u001b[0mfuns\u001b[0m\u001b[1;33m)\u001b[0m\u001b[1;33m)\u001b[0m\u001b[1;33m)\u001b[0m\u001b[1;33m)\u001b[0m\u001b[1;33m\u001b[0m\u001b[1;33m\u001b[0m\u001b[0m\n\u001b[0;32m     10\u001b[0m \u001b[1;33m\u001b[0m\u001b[0m\n\u001b[1;32m---> 11\u001b[1;33m \u001b[0mpipeline\u001b[0m \u001b[1;33m=\u001b[0m \u001b[0mmake_pipeline\u001b[0m\u001b[1;33m(\u001b[0m\u001b[0minc\u001b[0m\u001b[1;33m,\u001b[0m \u001b[0mabs\u001b[0m\u001b[1;33m,\u001b[0m \u001b[0msqrt\u001b[0m\u001b[1;33m)\u001b[0m\u001b[1;33m\u001b[0m\u001b[1;33m\u001b[0m\u001b[0m\n\u001b[0m\u001b[0;32m     12\u001b[0m \u001b[1;33m\u001b[0m\u001b[0m\n\u001b[0;32m     13\u001b[0m \u001b[0mxx\u001b[0m\u001b[1;33m=\u001b[0m\u001b[0mtuple\u001b[0m\u001b[1;33m(\u001b[0m\u001b[0mpipeline\u001b[0m\u001b[1;33m(\u001b[0m\u001b[0mrange\u001b[0m\u001b[1;33m(\u001b[0m\u001b[1;33m-\u001b[0m\u001b[1;36m5\u001b[0m\u001b[1;33m,\u001b[0m\u001b[1;36m7\u001b[0m\u001b[1;33m)\u001b[0m\u001b[1;33m)\u001b[0m\u001b[1;33m)\u001b[0m\u001b[1;33m\u001b[0m\u001b[1;33m\u001b[0m\u001b[0m\n",
      "\u001b[1;32m<ipython-input-17-509a42133dd6>\u001b[0m in \u001b[0;36mmake_pipeline\u001b[1;34m(*funs)\u001b[0m\n\u001b[0;32m      7\u001b[0m         \u001b[1;32mreturn\u001b[0m \u001b[1;32mlambda\u001b[0m \u001b[0mx\u001b[0m\u001b[1;33m:\u001b[0m \u001b[0mf\u001b[0m\u001b[1;33m(\u001b[0m\u001b[0mg\u001b[0m\u001b[1;33m(\u001b[0m\u001b[0mx\u001b[0m\u001b[1;33m)\u001b[0m\u001b[1;33m)\u001b[0m\u001b[1;33m\u001b[0m\u001b[1;33m\u001b[0m\u001b[0m\n\u001b[0;32m      8\u001b[0m \u001b[1;33m\u001b[0m\u001b[0m\n\u001b[1;32m----> 9\u001b[1;33m     \u001b[1;32mreturn\u001b[0m\u001b[1;33m(\u001b[0m\u001b[0mmap\u001b[0m\u001b[1;33m(\u001b[0m\u001b[0mpartial\u001b[0m\u001b[1;33m,\u001b[0m\u001b[1;33m(\u001b[0m\u001b[0mreduce\u001b[0m\u001b[1;33m(\u001b[0m\u001b[0mcompose2\u001b[0m\u001b[1;33m,\u001b[0m\u001b[0mfuns\u001b[0m\u001b[1;33m)\u001b[0m\u001b[1;33m)\u001b[0m\u001b[1;33m)\u001b[0m\u001b[1;33m)\u001b[0m\u001b[1;33m\u001b[0m\u001b[1;33m\u001b[0m\u001b[0m\n\u001b[0m\u001b[0;32m     10\u001b[0m \u001b[1;33m\u001b[0m\u001b[0m\n\u001b[0;32m     11\u001b[0m \u001b[0mpipeline\u001b[0m \u001b[1;33m=\u001b[0m \u001b[0mmake_pipeline\u001b[0m\u001b[1;33m(\u001b[0m\u001b[0minc\u001b[0m\u001b[1;33m,\u001b[0m \u001b[0mabs\u001b[0m\u001b[1;33m,\u001b[0m \u001b[0msqrt\u001b[0m\u001b[1;33m)\u001b[0m\u001b[1;33m\u001b[0m\u001b[1;33m\u001b[0m\u001b[0m\n",
      "\u001b[1;31mTypeError\u001b[0m: 'function' object is not iterable"
     ]
    }
   ],
   "source": [
    "from functools import reduce, partial\n",
    "from math import sqrt \n",
    "\n",
    "\n",
    "def make_pipeline(*funs):\n",
    "    def compose2(f, g):\n",
    "        return lambda x: f(g(x))\n",
    "    \n",
    "    return(map(partial,(reduce(compose2,funs))))\n",
    "\n",
    "pipeline = make_pipeline(inc, abs, sqrt)\n",
    "\n",
    "xx=tuple(pipeline(range(-5,7)))\n",
    "    \n",
    "print(xx)\n",
    "    \n"
   ]
  },
  {
   "cell_type": "code",
   "execution_count": 176,
   "metadata": {},
   "outputs": [
    {
     "name": "stdout",
     "output_type": "stream",
     "text": [
      "2.0\n",
      "1.7320508075688772\n",
      "1.4142135623730951\n",
      "1.0\n",
      "0.0\n",
      "1.0\n",
      "1.4142135623730951\n",
      "1.7320508075688772\n",
      "2.0\n",
      "2.23606797749979\n",
      "2.449489742783178\n",
      "2.6457513110645907\n"
     ]
    }
   ],
   "source": [
    "for i in range(-5,7):\n",
    "    print(sqrt(abs(i+1)))\n"
   ]
  },
  {
   "cell_type": "markdown",
   "metadata": {},
   "source": [
    "## 4. Simple declarative Pythonic patterns (involing HOF)"
   ]
  },
  {
   "cell_type": "markdown",
   "metadata": {},
   "source": [
    "a) As preparation, create a named tuple type \"coord\" which has fields `x` and `y`."
   ]
  },
  {
   "cell_type": "code",
   "execution_count": 23,
   "metadata": {},
   "outputs": [],
   "source": [
    "# Add the requisite import statement here\n",
    "from collections import namedtuple\n",
    "coord = namedtuple('coord', 'x y') # your code here\n",
    "\n",
    "five_three = coord(5,3)\n",
    "assert five_three.x == 5, \"first element is the x coordinate\"\n",
    "assert five_three.y == 3, \"the second element is the y coordinate\""
   ]
  },
  {
   "cell_type": "markdown",
   "metadata": {},
   "source": [
    "b) Generate a $10^7$ random coordinates, with $x$ and $y$ coordinates drawn uniformly from [-1000,1000]. Save the tuple of those with $x + y > 0$ as `rnd_coords`. How many are there?"
   ]
  },
  {
   "cell_type": "code",
   "execution_count": 24,
   "metadata": {},
   "outputs": [],
   "source": [
    "from random import uniform\n",
    " # Your code here\n",
    "def random_coords(n,a,b):\n",
    "    x=[uniform(a,b) for _ in range(n)] \n",
    "    y=[uniform(a,b) for _ in range(n)]\n",
    "    rnd_coordinates=[ (f,b) for f, b in zip(x, y) if f+b>0]\n",
    "    return(tuple(rnd_coordinates))\n",
    "\n",
    "rnd_coords=random_coords(10**7,-1000,1000)\n",
    "#rnd_coords"
   ]
  },
  {
   "cell_type": "code",
   "execution_count": 25,
   "metadata": {},
   "outputs": [
    {
     "name": "stdout",
     "output_type": "stream",
     "text": [
      "\u001b[34mThe number of the coordinates that their sum is >0 is:\u001b[0m\n"
     ]
    },
    {
     "data": {
      "text/plain": [
       "4998182"
      ]
     },
     "execution_count": 25,
     "metadata": {},
     "output_type": "execute_result"
    }
   ],
   "source": [
    "from termcolor import colored\n",
    "print(colored(\"The number of the coordinates that their sum is >0 is:\",\"blue\"))\n",
    "len(range(10**7))-len(rnd_coords)"
   ]
  },
  {
   "cell_type": "markdown",
   "metadata": {},
   "source": [
    "[Note: If this takes a while, you might want to consider when the elements are generated and saved.]"
   ]
  },
  {
   "cell_type": "markdown",
   "metadata": {},
   "source": [
    "**Before having solved the tasks below, consider setting `coords` to a smaller set (eg generate $10^3$ elements instead of $10^7$ to start with).**"
   ]
  },
  {
   "cell_type": "markdown",
   "metadata": {},
   "source": [
    "c) Let `sorted_rnd` be the coordinated sorted first by the `x` component and then the `y`. Use a built-in Python sorting function. Do you need any extra parameters? Why? Why not? How would you find out where the order comes from (and might it be consistent but useless, eg sorting the elements by memory location)?"
   ]
  },
  {
   "cell_type": "code",
   "execution_count": 26,
   "metadata": {},
   "outputs": [
    {
     "name": "stdout",
     "output_type": "stream",
     "text": [
      "((-501.19698429812007, 788.0757123351493), (899.0128725394259, -409.92434087750485), (351.88041127700785, 108.60640073248214), (84.06837980612045, 950.5486421683356), (845.274291473414, 915.0536427810271), (-286.2545557929441, 648.7135180890459), (633.9218418909154, -519.0811161028839), (151.45421557775103, 864.5920502190904), (208.2590731238679, 886.9094171848765), (733.2352743744084, 501.8630246860571), (274.00290210052617, -148.02542497839852), (992.9689862326854, 777.1064000446333), (470.14777742715205, -336.9962685107171), (-304.814223053437, 562.6553466061391), (200.68568212378977, -91.21897859316766), (-449.9689422092483, 536.7917106824837), (398.38604487972907, -254.77846562431932), (248.64257016822899, 213.79075323740767), (-416.36557752281567, 503.27726170895903), (-100.41359280579582, 402.8521512851669))\n",
      "\n",
      "\n",
      "[(981.4524569198295, -907.413193866925), (952.7008835548595, -902.7272899977074), (932.5773036585285, -900.7886885444127), (928.8813743091523, -889.411253004389), (893.7846597624282, -886.0406789803568), (894.3654046496815, -858.1400023060614), (912.1571518873639, -809.6023625170108), (884.0512843214531, -808.4477155521801), (881.0145825740933, -787.095058926708), (806.6677919462011, -780.8910699283682), (809.1014990740769, -777.9433854536794), (973.570635498837, -766.0552038165318), (903.0605264837307, -756.463080130416), (880.0594181573863, -715.7283446513965), (836.1994247375599, -713.0993794076848), (796.7566386176891, -708.373448096024), (908.7731706102327, -693.9331492091712), (974.6772859482767, -634.0886217092998), (658.879281424448, -626.8613494773406), (800.2972300237577, -622.4319584814697)]\n"
     ]
    }
   ],
   "source": [
    "\n",
    "s_rnd = random_coords(10**3,-1000,1000) # your code here\n",
    "sorted_rnd =sorted(s_rnd, key=lambda x: (x[0]))\n",
    "sorted_rnd =sorted(s_rnd, key=lambda x:(x[1]))\n",
    "\n",
    "print(s_rnd[0:20])\n",
    "print(\"\\n\")\n",
    "print(sorted_rnd[0:20])"
   ]
  },
  {
   "cell_type": "markdown",
   "metadata": {},
   "source": [
    "[General words of advice:\n",
    "\n",
    "* During testing, you might want to use a smaller data set (and then try it out at a larger set).\n",
    "* You might not want to display the entire list to see if you're right all the time. Slicing out the first and last elements, say the first or last 10, might provide some hints.\n",
    "* You could naturally define a function which checks that the list is in order (or performs some probabilistic sampling test), to test this.]"
   ]
  },
  {
   "cell_type": "markdown",
   "metadata": {},
   "source": [
    "d) Sort the values (in the sense of returning a new sorted tuple) by their Euclidean distance to the point (5,3). Continue using a built-in Python sorting function."
   ]
  },
  {
   "cell_type": "code",
   "execution_count": 27,
   "metadata": {},
   "outputs": [
    {
     "name": "stdout",
     "output_type": "stream",
     "text": [
      "\u001b[34mThe ordered list according to min distance from '(3,5)'  is  :\u001b[0m\n"
     ]
    },
    {
     "data": {
      "text/plain": [
       "[(-10.27673603670803, 50.514672899647394),\n",
       " (-32.00660865432337, 60.427359341140345),\n",
       " (26.373066568885406, 71.23663480987216),\n",
       " (-18.04404365301184, 73.23814250496252),\n",
       " (56.462224640467184, 93.38537612602681),\n",
       " (-76.51604458372049, 80.6121379034405),\n",
       " (100.84205010473738, 71.53159655323611),\n",
       " (126.2982482577645, -2.434455084552951),\n",
       " (114.32665891158308, -59.211472378086796),\n",
       " (113.29452982460475, -62.01992203270197),\n",
       " (150.0465447732215, 77.51406623551316),\n",
       " (-18.642348465153646, 167.1076702255225),\n",
       " (-83.4523811588324, 144.13701446660912),\n",
       " (138.34999891227062, -117.09475096305027),\n",
       " (99.30412937240158, 157.56710674785108),\n",
       " (106.56086194270142, 158.31639333846942),\n",
       " (-52.79790478585505, 181.14475938762894),\n",
       " (164.54576404192858, -97.92706959070017),\n",
       " (23.286001615662144, 192.92973588155178),\n",
       " (-38.418465732165146, 193.17801179780736),\n",
       " (208.74421839198953, -23.850186248154614),\n",
       " (200.68568212378977, -91.21897859316766),\n",
       " (188.56515794466827, -118.52828556117959),\n",
       " (237.4876274245869, 21.318627288922926),\n",
       " (82.67436574354997, 229.7231351641949),\n",
       " (84.07032671584739, 229.48165112279253),\n",
       " (30.366257483886557, 242.15089848273237),\n",
       " (200.6862951823714, 146.00466796038882),\n",
       " (39.74433939547225, 244.75737623895566),\n",
       " (-127.5814013926389, 213.06838812772367),\n",
       " (145.25247677918378, 210.47587563833235),\n",
       " (231.60871954791787, 124.20849158775195),\n",
       " (203.80382088136616, -160.50588149643067),\n",
       " (43.59942603484728, 272.12773571450407),\n",
       " (277.6316025954236, -10.050580246852405),\n",
       " (-38.59492747159777, 276.52145475429825),\n",
       " (245.75648303116077, -138.05347498362755),\n",
       " (232.07518898899798, 168.84623047327614),\n",
       " (252.71640425362398, -132.6541973719966),\n",
       " (122.21624281095455, 260.2682936270978),\n",
       " (257.3989868919266, -125.05491177770557),\n",
       " (-29.74059957012878, 285.7375059883045),\n",
       " (293.42271578564237, 39.78635775780026),\n",
       " (225.29379876251483, -189.3919781137181),\n",
       " (199.27970068078002, 224.1343265554517),\n",
       " (289.4258314587312, -77.78067706857053),\n",
       " (151.60182110082064, 262.1985090783421),\n",
       " (-187.6413516102391, 232.48912444249845),\n",
       " (274.00290210052617, -148.02542497839852),\n",
       " (207.35105085920623, 239.97010705349453),\n",
       " (320.32997028355226, 8.293646855406905),\n",
       " (-112.71977515614356, 302.01362975263373),\n",
       " (164.86373211662362, 282.633039620913),\n",
       " (248.64257016822899, 213.79075323740767),\n",
       " (301.72679987792776, -125.25972625851),\n",
       " (323.3116003571472, 71.31800653374671),\n",
       " (72.6712326953957, 324.283392969161),\n",
       " (320.90412786971183, 94.6936287392034),\n",
       " (241.4906486055204, 244.23833082062652),\n",
       " (259.80119660459764, 232.15183206084498),\n",
       " (349.5291311246424, 49.04894871290867),\n",
       " (354.77274068782503, -33.391648357506256),\n",
       " (360.82619902557917, -4.662034765208205),\n",
       " (258.88027818920887, -254.79050636422016),\n",
       " (351.88041127700785, 108.60640073248214),\n",
       " (281.08673674702845, 240.9386801010928),\n",
       " (276.60557844995856, 250.10192973717312),\n",
       " (269.62828479666155, 262.09085481301486),\n",
       " (377.27979155744356, -28.566375668733144),\n",
       " (381.5218781018202, 19.100019813314248),\n",
       " (369.1257975463154, -96.44334261344318),\n",
       " (-6.995720465864338, 385.2950761237514),\n",
       " (332.76656921983454, 212.14739638281708),\n",
       " (-170.17562874437783, 351.5144882367956),\n",
       " (-103.04289058898132, 384.1390139796508),\n",
       " (402.7912555783828, 35.62645070196504),\n",
       " (-148.40679083645523, 371.6085958292567),\n",
       " (404.949060826666, -59.40862410541081),\n",
       " (217.2415498680066, 350.71071357584583),\n",
       " (203.16127808707756, 360.60424920845367),\n",
       " (-250.46214156965482, 323.92325596543515),\n",
       " (-118.53308035213001, 394.3555182943278),\n",
       " (356.668417956113, 215.31735293872953),\n",
       " (-100.41359280579582, 402.8521512851669),\n",
       " (34.823282575584244, 416.2164047581434),\n",
       " (-225.6125241579174, 353.5012965169981),\n",
       " (413.3165338695271, 113.01220290359493),\n",
       " (-245.6616807690408, 344.2048310758671),\n",
       " (348.23389204244063, -255.12147379313285),\n",
       " (430.2874617764396, 66.00564442405016),\n",
       " (341.6519293663391, -265.3289874557694),\n",
       " (-229.99997015609551, 366.6879371094117),\n",
       " (38.89113893243507, 435.9529992131186),\n",
       " (418.87201317647896, 142.4218592915763),\n",
       " (192.15316844847484, 397.8782910148136),\n",
       " (411.62536732351714, 166.52440693269796),\n",
       " (-216.96314824855722, 383.2086084503269),\n",
       " (379.21316768985116, -236.18693379549825),\n",
       " (398.18836530848307, -209.5502797554385),\n",
       " (147.89050081828805, 428.57552972852045),\n",
       " (324.47976790378107, -315.46485070611925),\n",
       " (126.9983475300919, 438.82168767888834),\n",
       " (376.4594439572609, 261.6681880882609),\n",
       " (218.43870036445014, 402.51105413240043),\n",
       " (322.1356553371618, 328.9931099184132),\n",
       " (-67.11631874277418, 455.13786513949117),\n",
       " (-318.40836033704227, 329.2959392947803),\n",
       " (-284.0093417638651, 362.56948691072375),\n",
       " (107.19725865346845, 455.59189787912646),\n",
       " (398.38604487972907, -254.77846562431932),\n",
       " (475.86398066811125, 5.789778823921665),\n",
       " (-65.22433030220043, 472.20578530831267),\n",
       " (430.4792812874425, -223.37556028830784),\n",
       " (406.06180460059727, 276.5333312776495),\n",
       " (316.5197474620584, 381.3477668365797),\n",
       " (491.6468079205231, 62.80969947725657),\n",
       " (-16.64684046680361, 495.38871704929034),\n",
       " (138.9151308190119, 478.47378348496),\n",
       " (321.4507525698614, 387.7393024229491),\n",
       " (0.8889919302849876, 503.5098516044002),\n",
       " (361.26412504148857, -349.4449528166974),\n",
       " (487.69515675259254, 137.7908066513055),\n",
       " (506.0312118976881, 35.498147936390296),\n",
       " (504.3305229215275, -51.41647105921027),\n",
       " (478.61554223193457, -168.95589527168204),\n",
       " (-227.59501697811686, 450.21448350061496),\n",
       " (444.281022407823, 254.55725259160135),\n",
       " (450.32352095041756, -241.67080727463895),\n",
       " (471.0038517241894, -201.9076242513935),\n",
       " (510.44327946885437, -65.56604170040919),\n",
       " (455.15440901837405, -241.70914666517035),\n",
       " (280.48952819089664, 436.5423651893675),\n",
       " (240.3070959496015, 465.9056799718105),\n",
       " (521.7142647303097, 58.931984383769304),\n",
       " (-274.3440607837932, 442.24618550844093),\n",
       " (73.78018811030893, 520.5644968365041),\n",
       " (462.59247995852115, -270.55840653796406),\n",
       " (511.25956093146783, 176.28527729595226),\n",
       " (-46.500741358806295, 544.0096217671717),\n",
       " (507.6760119326864, 213.16733187242926),\n",
       " (17.970249707533185, 550.4619543814438),\n",
       " (389.3484848101732, -388.51506546220537),\n",
       " (469.5169588981639, 294.9727009372209),\n",
       " (-268.00185885071267, 479.9500331861095),\n",
       " (152.3611668692679, 533.2135362911231),\n",
       " (542.1338384383778, -125.71399469398489),\n",
       " (-330.5332184234006, 447.96820050900965),\n",
       " (422.8137599490078, -367.3322033578836),\n",
       " (556.5142776461096, -88.62608971839325),\n",
       " (531.2915516993205, 193.841612295005),\n",
       " (322.58161611700075, 464.7982745945683),\n",
       " (419.85976819981033, 384.74616344525316),\n",
       " (560.739851140718, -94.02867529129844),\n",
       " (-291.88196031840175, 487.11864771784167),\n",
       " (460.7482346591237, -340.34542772135865),\n",
       " (439.5622888023827, 376.314352845606),\n",
       " (373.1179188992403, 443.21375246584194),\n",
       " (-122.3085869780507, 563.5307073864774),\n",
       " (470.14777742715205, -336.9962685107171),\n",
       " (61.22489566805939, 584.5023074551314),\n",
       " (-237.62545712568533, 539.136608231508),\n",
       " (135.41632919316226, 578.8545507332087),\n",
       " (-414.8919191503942, 423.3292510573772),\n",
       " (-332.5599957536398, 497.0043713100076),\n",
       " (604.2935527234549, 56.14842643155157),\n",
       " (397.26531991045795, 459.4353158464626),\n",
       " (389.41629578456195, 473.3752043323768),\n",
       " (177.22748831019703, 585.7565187007538),\n",
       " (519.313296380654, 326.9750050006653),\n",
       " (396.08329704215635, 468.5448626766622),\n",
       " (549.909282225721, -269.0905098540703),\n",
       " (543.0460168894735, -289.29157640224696),\n",
       " (450.1214312871098, 427.0274957879001),\n",
       " (-224.00805384038767, 574.6336950113355),\n",
       " (541.116580014211, -301.148939990975),\n",
       " (498.3792247852091, -366.6297553505535),\n",
       " (-266.4113833303037, 561.0534626731437),\n",
       " (270.7116881093673, 564.0419843749335),\n",
       " (613.612336013003, 153.9071447657475),\n",
       " (304.430934664809, 554.2363895600115),\n",
       " (475.7000808073999, 419.2774730347817),\n",
       " (623.934005172395, -110.55671590564305),\n",
       " (524.7726080203911, 363.25633121419287),\n",
       " (-274.3717234212868, 570.655728023976),\n",
       " (615.4082745421465, -175.99204294926813),\n",
       " (129.30411776149344, 627.4609521062093),\n",
       " (330.4100790808527, 551.5712664835953),\n",
       " (550.6624580827101, -329.25735212814925),\n",
       " (-304.814223053437, 562.6553466061391),\n",
       " (-28.692414770735013, 642.7377104295945),\n",
       " (637.1029232935916, 113.13121215765614),\n",
       " (583.9067821007357, -280.90843510012655),\n",
       " (338.9785451545192, 555.5310280872045),\n",
       " (-398.10047468899495, 510.07908406112256),\n",
       " (301.76288279129335, 579.8969742212066),\n",
       " (-21.288988810133105, 653.2827105772349),\n",
       " (651.4020395935943, -77.42641862070104),\n",
       " (-416.36557752281567, 503.27726170895903),\n",
       " (-374.30143049880655, 540.2161376666049),\n",
       " (667.8487986192413, 75.8365693135313),\n",
       " (-384.7069351753722, 547.5365518292747),\n",
       " (486.7940809052743, -468.92318756937493),\n",
       " (589.8371523175194, -336.57555608807877),\n",
       " (286.9296161894936, 620.3887456363982),\n",
       " (686.12824511395, -27.126216084561293),\n",
       " (633.1938337252345, -262.51406738446076),\n",
       " (76.54408539607357, 682.8685900834582),\n",
       " (647.4786569886444, -233.4176968433403),\n",
       " (672.7603307414013, -159.03477184050337),\n",
       " (681.6543735940379, 131.631621703071),\n",
       " (-211.68217628168918, 658.0218326192926),\n",
       " (691.1237529557936, 126.58132531703109),\n",
       " (-449.9689422092483, 536.7917106824837),\n",
       " (23.039598439019528, 706.2139405517194),\n",
       " (625.049733312791, 340.16223698707677),\n",
       " (584.4516132415042, 408.3306121095004),\n",
       " (-286.2545557929441, 648.7135180890459),\n",
       " (659.1147922541288, 280.3297902638419),\n",
       " (410.1160070470419, 587.0609316472733),\n",
       " (-148.75065042240033, 697.7421143492063),\n",
       " (49.70131427468709, 714.5839405649401),\n",
       " (605.3274188377593, 390.111434395337),\n",
       " (649.0558337283355, 312.3767569687375),\n",
       " (348.2852978184724, 629.7989599816265),\n",
       " (695.0006123156243, 193.45310585424545),\n",
       " (699.6887298551328, -170.64651353009936),\n",
       " (565.8366997255689, -442.51468085075476),\n",
       " (601.0469652253512, 418.35373858839466),\n",
       " (-170.95766551706106, 709.3050168598952),\n",
       " (-428.49464282631254, 589.3161949891085),\n",
       " (62.25550934136322, 732.3138508027412),\n",
       " (669.2906832721987, -304.29627658495417),\n",
       " (-505.31406039264493, 530.3272865194269),\n",
       " (622.769488014718, -393.37937940719087),\n",
       " (-98.88994732654078, 731.6396623839282),\n",
       " (728.2375731250302, -143.04062923978347),\n",
       " (-472.4733119565192, 566.2898695154724),\n",
       " (730.9073518600399, 145.21334506623907),\n",
       " (387.819202838471, 641.3916712440173),\n",
       " (673.6583905761281, 330.564384082659),\n",
       " (339.5049824631044, 668.5053153450822),\n",
       " (153.20035523577076, 733.0592939159251),\n",
       " (718.5566853629455, 217.63717296043683),\n",
       " (714.1662719833685, 241.8925011079059),\n",
       " (534.2221196538869, 537.6828230551798),\n",
       " (-209.13418413304657, 726.6890378808098),\n",
       " (733.1456235690532, 208.10230207275663),\n",
       " (216.67014572067546, 729.7580491387682),\n",
       " (86.69810518528516, 757.6354623553316),\n",
       " (-359.6098413402158, 669.285783930992),\n",
       " (616.4709731888352, 459.34288760294794),\n",
       " (-538.5366628571973, 540.0747041810473),\n",
       " (687.9810424121576, 350.31000610562523),\n",
       " (636.6014309862283, -431.7755341014455),\n",
       " (-51.200038831225015, 768.802078681952),\n",
       " (729.8729633592579, 262.4083383702698),\n",
       " (267.49239702144496, 729.9987345344744),\n",
       " (110.70505966067458, 769.9033914665702),\n",
       " (-316.47124481720266, 709.4318915394549),\n",
       " (-407.04494845095553, 661.3461464107427),\n",
       " (757.90552899003, -188.09068236583482),\n",
       " (777.3401449675555, 88.40589464739219),\n",
       " (539.9481400935979, 567.4917668063181),\n",
       " (779.525823737318, 104.80614413521994),\n",
       " (595.3396377854137, 517.9364185515799),\n",
       " (-50.02621632528542, 787.4755231350246),\n",
       " (-307.85139841954185, 724.6899962861924),\n",
       " (587.8138490260585, 532.1510878775664),\n",
       " (758.5515858209685, 233.9857417227222),\n",
       " (-377.83704062697825, 692.535138038892),\n",
       " (-238.7482299666068, 754.5123534674012),\n",
       " (793.7846964325022, 49.96329477300151),\n",
       " (686.2254560172348, 404.7156630705938),\n",
       " (-301.84676732456444, 734.6220153278543),\n",
       " (506.71468265351837, 619.7323742572125),\n",
       " (-202.2181482472214, 771.972953305496),\n",
       " (-121.64723161341385, 793.0677685566991),\n",
       " (775.4642530712267, 219.89973275025181),\n",
       " (739.6709250934468, 321.7627514258495),\n",
       " (656.9692408557191, -470.8480065585086),\n",
       " (-292.13635881083565, 754.4599106105502),\n",
       " (306.4641037523659, 755.0523190214108),\n",
       " (672.2996858543816, 465.1702008795321),\n",
       " (802.9854475726966, -158.9488440516334),\n",
       " (390.41379571949483, 721.4770848067922),\n",
       " (633.9218418909154, -519.0811161028839),\n",
       " (725.3504012268907, -383.843984721417),\n",
       " (345.3895025336674, 746.8142563137731),\n",
       " (823.0727638135043, -43.74263898022582),\n",
       " (692.6672774912317, 449.29132647571396),\n",
       " (216.30822877942228, 798.011815532557),\n",
       " (804.1123657298372, 200.6438878336494),\n",
       " (17.993231023279122, 828.4691191954132),\n",
       " (659.7019450522835, -512.373372867662),\n",
       " (-255.1895422508543, 796.137788165362),\n",
       " (-194.73727858460154, 813.6759650134948),\n",
       " (748.3275011328869, -377.4451171465305),\n",
       " (777.2422732496143, 320.85086173914715),\n",
       " (825.5681465860505, 186.1852265702421),\n",
       " (799.7743182327545, 278.6810010987799),\n",
       " (-244.7042233268337, 806.587003873683),\n",
       " (635.0975501746573, -555.5270169301309),\n",
       " (537.8530949952319, 656.2494934889153),\n",
       " (-353.7245568502026, 766.9880077518465),\n",
       " (140.7319008298996, 837.2887878138124),\n",
       " (-257.55152275306205, 807.4284275539769),\n",
       " (-181.87376445065274, 829.8871673076983),\n",
       " (-158.72048821848557, 835.7814237846285),\n",
       " (639.3017560801773, 568.4210083603944),\n",
       " (735.9122769282669, 437.28258619262283),\n",
       " (-403.19609466015766, 749.5521834727328),\n",
       " (620.789954518556, 591.8725100914928),\n",
       " (828.8052618937566, -221.75996762436023),\n",
       " (643.7521821819455, 570.2417301726543),\n",
       " (-394.1068141283006, 758.5566572077196),\n",
       " (794.687318439936, 329.5697450368525),\n",
       " (736.2419790358401, 448.4404376352952),\n",
       " (-241.58318256669963, 824.941127079067),\n",
       " (-440.44020428314786, 737.6205922451375),\n",
       " (86.82453335349078, 858.2550067268562),\n",
       " (-175.34488308874404, 843.2699124755143),\n",
       " (703.4339500190551, -500.43873954890626),\n",
       " (868.5495761143782, -47.67028088353538),\n",
       " (747.543933911279, -451.2693336395779),\n",
       " (861.3011373795543, -156.20375473126865),\n",
       " (-16.47774371685591, 874.3465468812105),\n",
       " (859.6525586105711, -170.3865881086075),\n",
       " (792.5285030887421, 378.07315135170643),\n",
       " (854.1182315201279, 209.0103733048586),\n",
       " (151.45421557775103, 864.5920502190904),\n",
       " (124.37741189172448, 869.7247920234827),\n",
       " (443.5252063582084, 760.6884610181069),\n",
       " (690.9646529644695, 548.6557747665261),\n",
       " (287.8240380440682, 838.0159780899596),\n",
       " (698.5852788595978, 548.9429336558658),\n",
       " (733.2352743744084, 501.8630246860571),\n",
       " (-604.9379878955333, 642.8711695384225),\n",
       " (858.6269195506836, 235.05109187490575),\n",
       " (759.7637075521761, 464.8196518815871),\n",
       " (143.6786531505686, 876.9673023100095),\n",
       " (892.474125439185, -45.43942210980026),\n",
       " (808.3900185853292, -387.5576957060332),\n",
       " (848.530424441499, 304.4127924274467),\n",
       " (-230.17565225728504, 867.9439427932778),\n",
       " (752.6454537588345, 498.248032952469),\n",
       " (651.8378544900302, -619.1211852406011),\n",
       " (-463.6081148826685, 770.856558138315),\n",
       " (315.94904525045285, 851.2552223373057),\n",
       " (309.0768755511301, 856.562998462801),\n",
       " (208.2590731238679, 886.9094171848765),\n",
       " (658.879281424448, -626.8613494773406),\n",
       " (90.434757663847, 911.2438201898674),\n",
       " (858.8829177826838, 326.1449215571049),\n",
       " (868.7196511372647, 300.1095465135702),\n",
       " (900.4644481567323, 185.34285880064272),\n",
       " (-630.2053865908979, 667.3755413392987),\n",
       " (561.2026338767762, 734.8581967911209),\n",
       " (-488.3556716001791, 779.2388597666866),\n",
       " (332.0902692479492, 862.9707847127231),\n",
       " (927.7989008748341, 50.99217072756028),\n",
       " (695.2829694683267, 617.3876243880509),\n",
       " (903.0168981494971, -217.16322995722373),\n",
       " (830.0757612367483, 423.8320521493738),\n",
       " (400.0374219386574, 845.6781096664283),\n",
       " (-146.5752622218397, 923.7488749038869),\n",
       " (865.8499914003726, -359.53289713544007),\n",
       " (-501.19698429812007, 788.0757123351493),\n",
       " (-445.8429519136582, 821.5212825713304),\n",
       " (452.89553774343517, 825.5303296079871),\n",
       " (391.1702064635897, 857.0218253427079),\n",
       " (-289.99653058699073, 893.5429697326188),\n",
       " (941.503693915773, 69.28846439183053),\n",
       " (-427.02191600586264, 836.599696382626),\n",
       " (940.0414650941079, 106.01619125642969),\n",
       " (448.91625017184333, 832.5263091371023),\n",
       " (766.1988493712308, 556.5377193297725),\n",
       " (884.6566108179468, 349.0277609703887),\n",
       " (-573.7375958971129, 752.0886193746485),\n",
       " (870.1028489860905, 391.6330849951878),\n",
       " (-417.32710702564304, 853.3148413238684),\n",
       " (943.2276070825953, 151.99609374257898),\n",
       " (84.06837980612045, 950.5486421683356),\n",
       " (949.405593737679, -112.67750842257442),\n",
       " (869.7961466291222, 401.2389023871576),\n",
       " (301.98639206848316, 907.6663694722565),\n",
       " (-161.12137457956828, 940.7612318403503),\n",
       " (820.975528145221, -489.35442716433045),\n",
       " (-138.30099611012997, 949.7143616820288),\n",
       " (842.2262086376406, -464.4022469902254),\n",
       " (968.135175545405, 44.747440228640244),\n",
       " (-563.7719958369669, 782.3665329590451),\n",
       " (802.9380381345084, 550.6491333830825),\n",
       " (44.40898621139786, 970.7664846285654),\n",
       " (206.58137235883828, 950.7834947280087),\n",
       " (843.5527500511205, 489.3143763858668),\n",
       " (798.6885458109407, 566.745042283575),\n",
       " (482.9073581645837, 852.4716708696524),\n",
       " (473.18125912486107, 860.5849977116684),\n",
       " (544.9302157746504, 819.5443599071655),\n",
       " (977.7452235854014, 126.12751808026087),\n",
       " (-288.5878877250192, 938.9510043553332),\n",
       " (511.5347978128193, 845.0644087863436),\n",
       " (899.0128725394259, -409.92434087750485),\n",
       " (829.7553827069962, 548.0904227513622),\n",
       " (-156.62322851988324, 978.5934492257034),\n",
       " (-207.05853404916354, 969.3829372568146),\n",
       " (162.0406899400282, 980.0980744401177),\n",
       " (353.83024890266506, 935.5994896031223),\n",
       " (335.12913215602543, 942.4555502420737),\n",
       " (874.1876660623209, -485.0682672990696),\n",
       " (980.1094718838938, -208.52037703794406),\n",
       " (-595.5033216100933, 802.8420471657453),\n",
       " (805.9560480133675, 604.4449332507652),\n",
       " (592.2802605435295, 815.7945445879473),\n",
       " (601.5071403578556, 809.2081136082643),\n",
       " (983.5160196813883, 224.83007659496616),\n",
       " (971.3511663815118, -273.32358305548746),\n",
       " (-257.859888731464, 978.7099383489576),\n",
       " (800.2972300237577, -622.4319584814697),\n",
       " (-415.4648626375707, 925.8183385848124),\n",
       " (-473.8059247472653, 898.421810882001),\n",
       " (903.6446192293165, -474.07090501783887),\n",
       " (878.3136626018563, 531.652390070325),\n",
       " (-285.8625218377624, 985.0491407886991),\n",
       " (878.8803595231238, 544.5377736815408),\n",
       " (-595.1940170216374, 839.100206730197),\n",
       " (838.9846798142819, -604.50321172195),\n",
       " (987.3444970638018, 321.46348031921184),\n",
       " (-711.6335374130563, 748.0598415391796),\n",
       " (925.5061446424595, 475.74591002322063),\n",
       " (451.83378431440724, 937.4633501785713),\n",
       " (398.990255296098, 969.7889661406928),\n",
       " (-550.4068448859575, 888.7427965476702),\n",
       " (-331.20429436696156, 997.8022278613648),\n",
       " (857.6154359275474, -615.6128717296167),\n",
       " (-411.548033028349, 971.9654728250116),\n",
       " (-672.789836885922, 815.886059033945),\n",
       " (936.6025498184404, 513.7816955943038),\n",
       " (796.7566386176891, -708.373448096024),\n",
       " (-508.18504724309264, 939.4848839153428),\n",
       " (915.6929928816285, -562.2982376357528),\n",
       " (508.9567245873452, 949.5253620810713),\n",
       " (-750.415903931529, 764.2583527259605),\n",
       " (891.5541298304113, 612.3042688323865),\n",
       " (746.1432317152628, 783.6562632414048),\n",
       " (746.4997398989142, 788.2054618320144),\n",
       " (-707.8079591742093, 817.6944513544336),\n",
       " (885.3086781845243, 645.5781619167167),\n",
       " (-527.3217945392364, 958.8909769917716),\n",
       " (836.1994247375599, -713.0993794076848),\n",
       " (-672.5432396609797, 866.8695391705719),\n",
       " (996.7794086730723, -483.0819246190954),\n",
       " (964.1876106952682, -547.0109369649134),\n",
       " (494.51316737847947, 997.8290521599779),\n",
       " (939.6017707946537, -594.2932334209745),\n",
       " (527.3197879979421, 985.0709347770457),\n",
       " (941.2918688955385, 615.0856952469267),\n",
       " (809.1014990740769, -777.9433854536794),\n",
       " (-623.0013428964289, 931.6719178606309),\n",
       " (806.6677919462011, -780.8910699283682),\n",
       " (983.5792388659163, 569.3589189718052),\n",
       " (922.9291099376317, 665.6033667314255),\n",
       " (789.0461545507942, 819.9462010033319),\n",
       " (880.0594181573863, -715.7283446513965),\n",
       " (908.3202969282404, 687.1918918630663),\n",
       " (908.7731706102327, -693.9331492091712),\n",
       " (-792.7358830947262, 836.9695287931231),\n",
       " (-624.0689467289994, 970.9687138364263),\n",
       " (974.6772859482767, -634.0886217092998),\n",
       " (962.9870319674599, 665.0970216198255),\n",
       " (903.0605264837307, -756.463080130416),\n",
       " (684.5611158453892, 964.9026906934703),\n",
       " (-722.6740146331967, 930.4487015912714),\n",
       " (881.0145825740933, -787.095058926708),\n",
       " (925.5684950040475, 747.5060920464234),\n",
       " (767.9219368088613, 908.4165505170051),\n",
       " (-784.9238104120791, 889.4128762221806),\n",
       " (801.9923731709091, 894.3745308228931),\n",
       " (884.0512843214531, -808.4477155521801),\n",
       " (756.2310503863969, 934.9783735214744),\n",
       " (858.3793972938004, 855.5128338740167),\n",
       " (964.9924687464463, 737.2106687893536),\n",
       " (-816.2164663015856, 892.5743768971925),\n",
       " (831.4230264432422, 887.9841965993905),\n",
       " (-816.3731214317511, 901.9570223047474),\n",
       " (912.1571518873639, -809.6023625170108),\n",
       " (-724.4111484800213, 979.4928473566497),\n",
       " (906.1199877054103, 833.7646299763162),\n",
       " (757.8127816439294, 975.5590151215558),\n",
       " (742.9816310592039, 988.0166826773934),\n",
       " (954.3009879247984, 789.5997657037842),\n",
       " (-754.3775886324861, 975.3847044136912),\n",
       " (973.570635498837, -766.0552038165318),\n",
       " (894.3654046496815, -858.1400023060614),\n",
       " (845.274291473414, 915.0536427810271),\n",
       " (-829.8832610486819, 928.3628767071652),\n",
       " (992.9689862326854, 777.1064000446333),\n",
       " (893.7846597624282, -886.0406789803568),\n",
       " (995.1083887732318, 781.0017622047742),\n",
       " (805.7826064740132, 991.4681459246922),\n",
       " (928.8813743091523, -889.411253004389),\n",
       " (950.388904086336, 879.5234590903976),\n",
       " (933.6124472707518, 903.1852245035027),\n",
       " (932.5773036585285, -900.7886885444127),\n",
       " (-897.3152895387216, 945.2498898531542),\n",
       " (952.7008835548595, -902.7272899977074),\n",
       " (-917.536861087102, 937.5515395229302),\n",
       " (981.4524569198295, -907.413193866925),\n",
       " (-900.7418234857762, 998.6480917084261),\n",
       " (972.2186244300588, 944.5170538783493),\n",
       " (-943.0612498281068, 963.9167898310579),\n",
       " (986.7226743615468, 999.6204910455601)]"
      ]
     },
     "execution_count": 27,
     "metadata": {},
     "output_type": "execute_result"
    }
   ],
   "source": [
    "#pts_near_53 = # Your code here\n",
    "\n",
    "#eucl_dist=list(map(lambda x : sqrt((x[0]-5)**2+(x[1]-3)**2),sorted_rnd ))\n",
    "eucl_dist=[np.linalg.norm(np.array((5,3))-np.array(element)) for element in sorted_rnd]\n",
    "\n",
    "d=dict(zip(eucl_dist,sorted_rnd))\n",
    "\n",
    "d_ord=dict(sorted(d.items()))\n",
    "\n",
    "\n",
    "pts_near_53=list(d_ord.values())\n",
    "\n",
    "print(colored(\"The ordered list according to min distance from '(3,5)'  is  :\",\"blue\"))\n",
    "pts_near_53\n"
   ]
  },
  {
   "cell_type": "markdown",
   "metadata": {},
   "source": [
    "Note: here we customise the behaviour of a built-in function by passing it information about our intended ordering."
   ]
  },
  {
   "cell_type": "markdown",
   "metadata": {},
   "source": [
    "d) Define the function `sorted_by_distance(origo)` which takes a coordinate `origo` and returns a function which sorts the sequence by the euclidean distance to `origo`. (Ie those closest to origo come first in the list.)"
   ]
  },
  {
   "cell_type": "code",
   "execution_count": 30,
   "metadata": {},
   "outputs": [],
   "source": [
    "def sorted_by_distance(origo):\n",
    "    def f(sorted_rnd):\n",
    "        eucl_dist=[np.linalg.norm(np.array(origo)-np.array(element)) for element in sorted_rnd]\n",
    "        d=dict(zip(eucl_dist,sorted_rnd))   # k:dist, v:coords\n",
    "        d_ord=dict(sorted(d.items()))\n",
    "        pts_near_53=list(d_ord.values())\n",
    "        \n",
    "        return(pts_near_53)\n",
    "    return(f)\n",
    "    \n",
    "    \n",
    "\n",
    "ordered_by_closeness_to_53 = sorted_by_distance(coord(5,3))   # Return the function.\n",
    "pts_near_53_2 = ordered_by_closeness_to_53(sorted_rnd)     # Applying the function \n",
    "\n",
    "assert pts_near_53 == pts_near_53_2"
   ]
  },
  {
   "cell_type": "markdown",
   "metadata": {},
   "source": [
    "[Note: Here we extend the work above to a higher-order function, which uses the local value of `origo`. In essence, this task summarises higher order functionality - we create a closure, return a function and use a custom ordering ]"
   ]
  },
  {
   "cell_type": "markdown",
   "metadata": {},
   "source": [
    "e) So far in the course, we have seen, and possibly used `enumerate`, `range`, `zip`, `map` and `filter` as declarative constructs (along with the general comprehension syntax). Now we introduce a further useful iterator construct. Construct something called `reverse_squared` which when prompted would give us the squares of elements 0,...,N _but in reverse_ (that is $N^2, (N-1)^2, ..., 2^2, 1^2, 0^2$)."
   ]
  },
  {
   "cell_type": "code",
   "execution_count": 31,
   "metadata": {},
   "outputs": [],
   "source": [
    "# The time it takes to run this shouldn't really depend on if you use SMALL_N or BIG_N.\n",
    "\n",
    "BIG_N = 99999999\n",
    "SMALL_N = 999\n",
    "\n",
    "N = SMALL_N    # change this to test later on\n",
    "\n",
    "reverse_squares = list(map(lambda x :x*x ,range(N,-1,-1)))# your code here"
   ]
  },
  {
   "cell_type": "code",
   "execution_count": 32,
   "metadata": {
    "scrolled": true
   },
   "outputs": [
    {
     "name": "stdout",
     "output_type": "stream",
     "text": [
      "Did we find it?  True\n",
      "         65 function calls in 0.000 seconds\n",
      "\n",
      "   Ordered by: standard name\n",
      "\n",
      "   ncalls  tottime  percall  cumtime  percall filename:lineno(function)\n",
      "        5    0.000    0.000    0.000    0.000 :0(acquire)\n",
      "        5    0.000    0.000    0.000    0.000 :0(append)\n",
      "        1    0.000    0.000    0.000    0.000 :0(exec)\n",
      "        4    0.000    0.000    0.000    0.000 :0(getpid)\n",
      "        4    0.000    0.000    0.000    0.000 :0(isinstance)\n",
      "        1    0.000    0.000    0.000    0.000 :0(print)\n",
      "        1    0.000    0.000    0.000    0.000 :0(setprofile)\n",
      "        1    0.000    0.000    0.000    0.000 <string>:1(<module>)\n",
      "        5    0.000    0.000    0.000    0.000 iostream.py:195(schedule)\n",
      "        4    0.000    0.000    0.000    0.000 iostream.py:307(_is_master_process)\n",
      "        4    0.000    0.000    0.000    0.000 iostream.py:320(_schedule_flush)\n",
      "        4    0.000    0.000    0.000    0.000 iostream.py:382(write)\n",
      "        5    0.000    0.000    0.000    0.000 iostream.py:93(_event_pipe)\n",
      "        1    0.000    0.000    0.000    0.000 profile:0(print('Did we find it? ', 998001 in reverse_squares))\n",
      "        0    0.000             0.000          profile:0(profiler)\n",
      "        5    0.000    0.000    0.000    0.000 socket.py:334(send)\n",
      "        5    0.000    0.000    0.000    0.000 threading.py:1062(_wait_for_tstate_lock)\n",
      "        5    0.000    0.000    0.000    0.000 threading.py:1104(is_alive)\n",
      "        5    0.000    0.000    0.000    0.000 threading.py:506(is_set)\n",
      "\n",
      "\n"
     ]
    }
   ],
   "source": [
    "# Experimentation: copy and paste your code from above into this cell.\n",
    "# This is rather crude, but we want you to to be able to trust that any\n",
    "# slowness in the cell above can be found by reference to that code, not the\n",
    "# profiling code below.\n",
    "\n",
    "# Copy-pasting as it might be useful to have fresh maps.\n",
    "\n",
    "\n",
    "import profile\n",
    "\n",
    "# We cut and paste this code \n",
    "BIG_N = 99999999\n",
    "SMALL_N = 999\n",
    "\n",
    "N = SMALL_N    \n",
    "# Look at the run time. Switching from BIG_N to SMALL_N shouldn't really matter.\n",
    "# This suggests that we have quick access to elements at the end of our (squared) range.\n",
    "\n",
    "reverse_squares=list(map(lambda x :x*x ,range(N,-1,-1)))  # <<----------- Your code from the cell above goes here.\n",
    "\n",
    "\n",
    "profile.run(\"print('Did we find it? ', {} in reverse_squares)\".format( N**2 ))"
   ]
  },
  {
   "cell_type": "markdown",
   "metadata": {},
   "source": [
    "Note: once you know of the construct, this task is extremely simple. It mostly serves as a demonstration of the availability of these constructs, and how they can be combined. Also, it points to efficiency considerations when using declarative iterator constructs as opposed to fixed computed structures.\n",
    "\n",
    "As the profiling code above suggests, where we redefine the object in every run, we do not have a purely functional construct. In that case, we wouldn't be able to exhaust the values."
   ]
  },
  {
   "cell_type": "markdown",
   "metadata": {},
   "source": [
    "[Additional reading: some additional tools are available in the `itertools` module.]"
   ]
  },
  {
   "cell_type": "markdown",
   "metadata": {},
   "source": [
    "## 5 Mutating function state\n",
    "\n",
    "A function always has access to the environment in which it was created. Usually, this means that the function can access global variables. It also means that it can access and modify local bindings from where it was created.\n",
    "\n",
    "A closure is a function which has access to an environment which is not accessible from outside the function (but which is not destroyed when the function returns). I.e. it is a way to introduce a small measure of statefulness into functional programming. In Python, iterators and generators work much like this. However, we can use the general concept in many cases."
   ]
  },
  {
   "cell_type": "markdown",
   "metadata": {},
   "source": [
    "a) Implement a function `make_counter` which has a single parameter `n` which acts as the initial value for a counter. The function should return a function with no parameters which, when called, increments the value of `n` by 1 and returns the new value."
   ]
  },
  {
   "cell_type": "code",
   "execution_count": 33,
   "metadata": {},
   "outputs": [
    {
     "name": "stdout",
     "output_type": "stream",
     "text": [
      "To show that the functions do not affect each others' states, consider the printout:\n",
      "counter_A returns: 1\n",
      "counter_A returns: 1\n",
      "counter_B returns: 16\n",
      "counter_A returns: 1 (was it affected by the call to counter_B?)\n"
     ]
    }
   ],
   "source": [
    "def make_counter(n):\n",
    "    def printer():\n",
    "        \n",
    "        return(n+1)\n",
    "    return(printer)\n",
    "        \n",
    "        \n",
    "counter_A = make_counter(0)\n",
    "counter_B = make_counter(15)\n",
    "print(\"To show that the functions do not affect each others' states, consider the printout:\")\n",
    "print(\"counter_A returns: {}\".format(counter_A()))\n",
    "print(\"counter_A returns: {}\".format(counter_A()))\n",
    "print(\"counter_B returns: {}\".format(counter_B()))\n",
    "print(\"counter_A returns: {} (was it affected by the call to counter_B?)\".format(counter_A()))\n"
   ]
  },
  {
   "cell_type": "markdown",
   "metadata": {},
   "source": [
    "## 6. Use case: parametrisation\n",
    "\n",
    "Above, we see how `sorted` can be parametrised with information about the intended order. We want to extend our `quicksort` to work the same way. We should be able to provide the way for it to tell if object A in the tuple should come before object B, or after. This is done by mapping the objects onto something where we do have an order."
   ]
  },
  {
   "cell_type": "markdown",
   "metadata": {},
   "source": [
    "a) Copy your code from the `quicksort` task above, and extend it. Call the function `quicksort_param` for parametrised, and allow a key parameter to be passed in (like in `sorted`). Note that the key function should be optional. We thus want default arguments."
   ]
  },
  {
   "cell_type": "code",
   "execution_count": 34,
   "metadata": {},
   "outputs": [
    {
     "name": "stdout",
     "output_type": "stream",
     "text": [
      "((0.9687805763784758, 0.17138100083363061, 0.3576554683571558), (0.6850250075700937, 0.17242862750892463, 0.8446016710971236), (0.7822139110533852, 0.3245734069036873, 0.4904983518880479), (0.2928571899214999, 0.6427650025292375, 0.7456230482058448), (0.28797054666842137, 0.5752787558836461, 0.42551980354980246), (0.22598467567225344, 0.3345007299852877, 0.9856760492827963), (0.8099901683218552, 0.600008346308958, 0.5509001679837414), (0.11855305269780603, 0.8562672670630793, 0.22199715379923524), (0.6240692514467437, 0.5428382530648274, 0.5187768297570021), (0.708962100267298, 0.760656582548227, 0.750733866606232))\n"
     ]
    },
    {
     "ename": "NameError",
     "evalue": "name 'quicksort_param' is not defined",
     "output_type": "error",
     "traceback": [
      "\u001b[1;31m---------------------------------------------------------------------------\u001b[0m",
      "\u001b[1;31mNameError\u001b[0m                                 Traceback (most recent call last)",
      "\u001b[1;32m<ipython-input-34-0ace3ed20f57>\u001b[0m in \u001b[0;36m<module>\u001b[1;34m\u001b[0m\n\u001b[0;32m      6\u001b[0m \u001b[0ma\u001b[0m \u001b[1;33m=\u001b[0m \u001b[0mtuple\u001b[0m\u001b[1;33m(\u001b[0m\u001b[0mtuple\u001b[0m\u001b[1;33m(\u001b[0m\u001b[0mrandom\u001b[0m\u001b[1;33m(\u001b[0m\u001b[1;33m)\u001b[0m \u001b[1;32mfor\u001b[0m \u001b[0mi\u001b[0m \u001b[1;32min\u001b[0m \u001b[0mrange\u001b[0m\u001b[1;33m(\u001b[0m\u001b[1;36m3\u001b[0m\u001b[1;33m)\u001b[0m\u001b[1;33m)\u001b[0m \u001b[1;32mfor\u001b[0m \u001b[0mj\u001b[0m \u001b[1;32min\u001b[0m \u001b[0mrange\u001b[0m\u001b[1;33m(\u001b[0m\u001b[1;36m10\u001b[0m\u001b[1;33m)\u001b[0m\u001b[1;33m)\u001b[0m\u001b[1;33m\u001b[0m\u001b[1;33m\u001b[0m\u001b[0m\n\u001b[0;32m      7\u001b[0m \u001b[0mprint\u001b[0m\u001b[1;33m(\u001b[0m\u001b[0ma\u001b[0m\u001b[1;33m)\u001b[0m\u001b[1;33m\u001b[0m\u001b[1;33m\u001b[0m\u001b[0m\n\u001b[1;32m----> 8\u001b[1;33m \u001b[0mb\u001b[0m \u001b[1;33m=\u001b[0m \u001b[0mquicksort_param\u001b[0m\u001b[1;33m(\u001b[0m\u001b[0ma\u001b[0m\u001b[1;33m,\u001b[0m \u001b[0msum\u001b[0m\u001b[1;33m)\u001b[0m   \u001b[1;31m# Elements are three-tuples. Those with smallest sums of values should come first.\u001b[0m\u001b[1;33m\u001b[0m\u001b[1;33m\u001b[0m\u001b[0m\n\u001b[0m\u001b[0;32m      9\u001b[0m \u001b[0mprint\u001b[0m\u001b[1;33m(\u001b[0m\u001b[0mb\u001b[0m\u001b[1;33m)\u001b[0m\u001b[1;33m\u001b[0m\u001b[1;33m\u001b[0m\u001b[0m\n\u001b[0;32m     10\u001b[0m \u001b[0mprint\u001b[0m\u001b[1;33m(\u001b[0m\u001b[0mquicksort_param\u001b[0m\u001b[1;33m(\u001b[0m\u001b[1;33m[\u001b[0m\u001b[1;36m5\u001b[0m\u001b[1;33m,\u001b[0m\u001b[1;36m2\u001b[0m\u001b[1;33m,\u001b[0m\u001b[1;36m9\u001b[0m\u001b[1;33m,\u001b[0m\u001b[1;36m200\u001b[0m\u001b[1;33m]\u001b[0m\u001b[1;33m)\u001b[0m\u001b[1;33m)\u001b[0m   \u001b[1;31m# No key function provided.\u001b[0m\u001b[1;33m\u001b[0m\u001b[1;33m\u001b[0m\u001b[0m\n",
      "\u001b[1;31mNameError\u001b[0m: name 'quicksort_param' is not defined"
     ]
    }
   ],
   "source": [
    "from random import random\n",
    "\n",
    "# Write quicksort_param here:\n",
    "\n",
    "\n",
    "a = tuple(tuple(random() for i in range(3)) for j in range(10))\n",
    "print(a)\n",
    "b = quicksort_param(a, sum)   # Elements are three-tuples. Those with smallest sums of values should come first.\n",
    "print(b)\n",
    "print(quicksort_param([5,2,9,200]))   # No key function provided."
   ]
  },
  {
   "cell_type": "markdown",
   "metadata": {},
   "source": [
    "## Attribution\n",
    "\n",
    "Lab by Johan Falkenjack (2018), extended and rewritten by Anders Märak Leffler (2019).\n",
    "\n",
    "License [CC-BY-SA 4.0](https://creativecommons.org/licenses/by-sa/4.0/)"
   ]
  }
 ],
 "metadata": {
  "kernelspec": {
   "display_name": "Python 3",
   "language": "python",
   "name": "python3"
  },
  "language_info": {
   "codemirror_mode": {
    "name": "ipython",
    "version": 3
   },
   "file_extension": ".py",
   "mimetype": "text/x-python",
   "name": "python",
   "nbconvert_exporter": "python",
   "pygments_lexer": "ipython3",
   "version": "3.6.5"
  }
 },
 "nbformat": 4,
 "nbformat_minor": 2
}
