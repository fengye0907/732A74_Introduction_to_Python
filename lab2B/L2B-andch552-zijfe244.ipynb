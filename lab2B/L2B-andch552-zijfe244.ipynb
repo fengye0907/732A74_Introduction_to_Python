{
 "cells": [
  {
   "cell_type": "markdown",
   "metadata": {},
   "source": [
    "# Lab 2B: Functional programming, and declarative patterns\n"
   ]
  },
  {
   "cell_type": "markdown",
   "metadata": {},
   "source": [
    "__Student:__ abcde123\n",
    "\n",
    "__Student:__ abcde123"
   ]
  },
  {
   "cell_type": "markdown",
   "metadata": {},
   "source": [
    "Disclaimer: Functional programming in Python does not always lead to the fastest possible code, and is often not considered the *pythonic* approach. However, functional programming is the basis for many concurrent systems (the MapReduce programming model which many big data systems, e.g. Hadoop, relies on gets its name from the *map* and *reduce* functions mentioned below). Python is a multi-paradigm language, and functional programming is one of the main paradigms one can use. To understand how and when to do this, it is necessary to do things in a non-*pythonic* way in order to cover the basics."
   ]
  },
  {
   "cell_type": "markdown",
   "metadata": {},
   "source": [
    "## General instructions\n",
    "\n",
    "In this lab there are some general rules you should keep in mind to make sure you are on the correct path in your solutions.\n",
    "\n",
    "#### Rules\n",
    "1. You are not allowed to use `while` or `for` statements unless this is explicitly allowed in the task.\n",
    "2. You are not allowed to use global variables (other than for functions defined in the global environment).\n",
    "3. Code stubs should be viewed as fixed, you are only allowed to add code, the only code you are allowed to change is `pass` statements, which you should remove.\n",
    "4. You should refrain from using the `list` datatype unless otherwise specified and instead use `tuple`. One of the strengths of functional programming is its focus on immutable data types (this is why functional programming and concurrency goes so well together). Incidentally, one might find speedups when using the immutable tuples instead of lists.\n",
    "\n",
    "#### Advice\n",
    "1. Avoid local variables unless you are certain they are necessary, in most cases you won't need to use local variables. (altermatively, use local variables to your hearts content, but when your solution works, try to eliminate them, you should be able to eliminate most of them, over time, you might find that you don't need them.)"
   ]
  },
  {
   "cell_type": "markdown",
   "metadata": {},
   "source": [
    "# 2 Recursion\n",
    "\n",
    "As an introduction to linear recursion, read the introductory note on the course webpage. This might help explain terms that you may not know (even if the concept is previously known)."
   ]
  },
  {
   "cell_type": "markdown",
   "metadata": {},
   "source": [
    "## 2.1 Linear recursion"
   ]
  },
  {
   "cell_type": "markdown",
   "metadata": {},
   "source": [
    "a) Write a recursive function `sum_even(n)` that takes a natural number $n\\geq 0$ and returns the sum of all even numbers $0,...,n$. It should be linear-recursive with delayed computations."
   ]
  },
  {
   "cell_type": "code",
   "execution_count": 16,
   "metadata": {},
   "outputs": [
    {
     "data": {
      "text/plain": [
       "56"
      ]
     },
     "execution_count": 16,
     "metadata": {},
     "output_type": "execute_result"
    }
   ],
   "source": [
    "def sum_even(n):\n",
    "    if(n%2==1):\n",
    "        return(sum_even(n-1))\n",
    "    if(n==0):\n",
    "        return(0)\n",
    "    else:\n",
    "        return(sum_even(n-2)+n)\n",
    "\n",
    "sum_even(14)"
   ]
  },
  {
   "cell_type": "markdown",
   "metadata": {},
   "source": [
    "b) Write `sum_even_it(n)` according to the same specification. In this case, the solution should be tail recursive."
   ]
  },
  {
   "cell_type": "code",
   "execution_count": 17,
   "metadata": {},
   "outputs": [
    {
     "data": {
      "text/plain": [
       "56"
      ]
     },
     "execution_count": 17,
     "metadata": {},
     "output_type": "execute_result"
    }
   ],
   "source": [
    "def sum_even_it(n, summation):\n",
    "    if(n%2==1):\n",
    "        return(sum_even_it(n-1, summation))\n",
    "    if(n==0):\n",
    "        return(summation)\n",
    "    else:\n",
    "        summation += n\n",
    "        return(sum_even_it(n-2, summation))\n",
    "\n",
    "sum_even_it(15,0)"
   ]
  },
  {
   "cell_type": "markdown",
   "metadata": {},
   "source": [
    "c) We can of course express this in a declarative and Pythonic way, which is non-recursive. Write a function `sum_even_py` which returns the same result as above, but using comprehension or filter/map/reduce construct."
   ]
  },
  {
   "cell_type": "code",
   "execution_count": 18,
   "metadata": {},
   "outputs": [
    {
     "data": {
      "text/plain": [
       "30"
      ]
     },
     "execution_count": 18,
     "metadata": {},
     "output_type": "execute_result"
    }
   ],
   "source": [
    "def sum_even_py(n):\n",
    "    a = filter(lambda x: x % 2 == 0, range(n+1))\n",
    "    return(sum(a))\n",
    "sum_even_py(10)"
   ]
  },
  {
   "cell_type": "markdown",
   "metadata": {},
   "source": [
    "## 2.2 Double/tree recursion"
   ]
  },
  {
   "cell_type": "markdown",
   "metadata": {},
   "source": [
    "Sometimes we might find ourselves with branching structures, where there are several \"smaller\" cases to recurse over. This might for instance be the case when we have trees, lists-within-lists or the like."
   ]
  },
  {
   "cell_type": "markdown",
   "metadata": {},
   "source": [
    "[Note: In the tasks below, it might be helpful to gain an understanding of `isinstance`. See the documentation!]"
   ]
  },
  {
   "cell_type": "markdown",
   "metadata": {},
   "source": [
    "a) One common use of recursion is to traverse recursive data structures. One exercise might be to _flatten_ nested lists or tuples. This is relatively simple with only one level of nesting, or when the structure follows a strict pattern, but for arbitrary nested sequences, a recursive approach is more natural. Implement a recursive function `myflatten` which can take an arbitrary structure of nested tuples and flattens it (in the sense of returning a new non-nested tuple with the same elements in the same order)."
   ]
  },
  {
   "cell_type": "code",
   "execution_count": 19,
   "metadata": {},
   "outputs": [
    {
     "name": "stdout",
     "output_type": "stream",
     "text": [
      "(1, 2, 3, 4, 5, 6, 7, 8)\n"
     ]
    }
   ],
   "source": [
    "#################################################################\n",
    "from functools import reduce\n",
    "def myflatten(seq):\n",
    "    if isinstance(seq,int):\n",
    "        return (seq,)\n",
    "    return reduce(lambda part, e: part+myflatten(e), seq, ())\n",
    "#################################################################\n",
    "\n",
    "\n",
    "def test_myflatten():\n",
    "    tests = (\n",
    "     ((), (), \"the empty tuple\"), \n",
    "     ((1,2,3), (1,2,3), \"flat tuples invariant under flattening\"), \n",
    "     ( (1, (2), 3, (4, 5, (6), 7), 8), (1, 2, 3, 4, 5, 6, 7, 8), \"Arbitrarily nested tuples.\")\n",
    "    )\n",
    "    for arg, expected_output, error_msg in tests:\n",
    "        assert myflatten(arg) == expected_output, error_msg\n",
    "\n",
    "test_myflatten()    # Uncomment this line to run tests.\n",
    "\n",
    "print(myflatten((1, (2), 3, (4, 5, (6), 7), 8)))"
   ]
  },
  {
   "cell_type": "markdown",
   "metadata": {},
   "source": [
    "b) Implement a function `exists_in(e, seq)` which returns `True` if the element `e` exists somewhere in the tuple `seq` (and `False` otherwise). `seq` might be nested and contain tuples-within-tuples."
   ]
  },
  {
   "cell_type": "code",
   "execution_count": 20,
   "metadata": {},
   "outputs": [
    {
     "name": "stdout",
     "output_type": "stream",
     "text": [
      "1\n",
      "0\n"
     ]
    }
   ],
   "source": [
    "##############################################################\n",
    "# def exists_in(e, seq):\n",
    "#     out = False\n",
    "#     for i in seq:\n",
    "#         if(isinstance(i,tuple)):\n",
    "#             out = exists_in(e, i)\n",
    "#         else:\n",
    "#             if(e==i):\n",
    "#                 out = True\n",
    "#     return(out)\n",
    "\n",
    "from functools import partial\n",
    "def exists_in(e, seq):\n",
    "    if isinstance(seq,int):\n",
    "        return seq==e\n",
    "    f = partial(exists_in, e)\n",
    "    return reduce(lambda out, i: out+f(seq=i), seq, False)\n",
    "##############################################################\n",
    "    \n",
    "print (exists_in(4,(1,(2,3),4)))\n",
    "print (exists_in(4,(1,(2,3),5)))"
   ]
  },
  {
   "cell_type": "markdown",
   "metadata": {},
   "source": [
    "c) Write a few representative test cases, as in lab 2A."
   ]
  },
  {
   "cell_type": "code",
   "execution_count": 21,
   "metadata": {},
   "outputs": [
    {
     "name": "stdout",
     "output_type": "stream",
     "text": [
      "--- exists_in finished successfully\n"
     ]
    }
   ],
   "source": [
    "def test_find_anywhere():\n",
    "    tests = (\n",
    "        ((1,(1,)),True,\"test 1\"),\n",
    "        ((10,(1,2,3)), False,\"test 2\"),\n",
    "        ((4,(1,(2,3),4)), True, \"test 3\"),\n",
    "        ((4,(1,(2,4),3)), True, \"test 4\")\n",
    "    )\n",
    "    for args, expected_output, error_msg in tests:\n",
    "        assert exists_in(*args) == expected_output, error_msg\n",
    "        \n",
    "    print(\"--- exists_in finished successfully\")\n",
    "    \n",
    "test_find_anywhere()"
   ]
  },
  {
   "cell_type": "markdown",
   "metadata": {},
   "source": [
    "d) One of the most famous recursive functions is the Quicksort function (https://en.wikipedia.org/wiki/Quicksort). It allows us to sort a sequence, with repeated values, in (amortized) log-linear time and with a logarithmic number of recursive calls. We will start by implementing Quicksort for a tuple of numbers.\n",
    "\n",
    "Note that Wikipedia illustrates a more advanced _in-place_ version of Quicksort, with a more advanced partition function. For the purposes of this assignment, you can simply pass a new tuple or generator to each recursive call to quicksort. You may use eg _filter_ or a comprehension to create the inputs."
   ]
  },
  {
   "cell_type": "code",
   "execution_count": 22,
   "metadata": {},
   "outputs": [
    {
     "name": "stdout",
     "output_type": "stream",
     "text": [
      "(1808, 1545, 1071, 1999, 1306, 1910, 1112, 1183, 1157, 1745, 1094, 1101, 1537, 1991, 1419, 1457, 1105, 1683, 1046, 1652, 1219, 1304, 1919, 1974, 1077, 1184, 1682, 1405, 1401, 1661, 1458, 1620, 1242, 1499, 1467, 1529, 1547, 1298, 1554, 1276, 1995, 1732, 1719, 1591, 1468, 1056, 1590, 1825, 1318, 1744, 1372, 1649, 1679, 1159, 1355, 1274, 1156, 1308, 1396, 1573, 1381, 1915, 1254, 1474, 1004, 1812, 1245, 1989, 1087, 1980, 1026, 1446, 1984, 1120, 1172, 1749, 1235, 1068, 1016, 1035, 1771, 1883, 1131, 1063, 1562, 1124, 1123, 1901, 1153, 1624, 1294, 1072, 1267, 1651, 1048, 1269, 1234, 1042, 1686, 1902, 1971, 1839, 1496, 1225, 1488, 1788, 1667, 1531, 1874, 1501, 1799, 1692, 1136, 1180, 1505, 1518, 1982, 1809, 1353, 1674, 1272, 1020, 1936, 1660, 1409, 1880, 1121, 1844, 1944, 1106, 1265, 1011, 1606, 1678, 1010, 1410, 1879, 1175, 1891, 1870, 1731, 1375, 1722, 1748, 1199, 1770, 1393, 1280, 1992, 1592, 1334, 1659, 1840, 1816, 1796, 1546, 1386, 1244, 1408, 1743, 1803, 1872, 1565, 1625, 1856, 1475, 1459, 1881, 1855, 1551, 1950, 1996, 1331, 1303, 1262, 1320, 1189, 1897, 1832, 1663, 1385, 1311, 1025, 1509, 1351, 1965, 1843, 1893, 1498, 1724, 1246, 1029, 1050, 1986, 1524, 1297, 1925, 1476, 1822, 1460, 1289, 1727, 1310, 1090, 1027, 1687, 1220, 1186, 1575, 1615, 1100, 1676, 1431, 1015, 1688, 1567, 1811, 1479, 1778, 1866, 1905, 1751, 1784, 1953, 1444, 1823, 1423, 1993, 1857, 1776, 1707, 1389, 1368, 1075, 1167, 1860, 1691, 1093, 1017, 1646, 1406, 1983, 1104, 1490, 1962, 1895, 1232, 1794, 1791, 1631, 1801, 1859, 1209, 1858, 1415, 1198, 1828, 1346, 1296, 1438, 1192, 1036, 1021, 1152, 1662, 1215, 1384, 1115, 1608, 1374, 1658, 1229, 1955, 1108, 1960, 1179, 1117, 1109, 1981, 1158, 1127, 1248, 1377, 1347, 1852, 1397, 1391, 1726, 1388, 1301, 1213, 1404, 1602, 1038, 1780, 1416, 1969, 1430, 1500, 1705, 1716, 1702, 1000, 1140, 1352, 1506, 1627, 1523, 1593, 1170, 1963, 1166, 1418, 1670, 1122, 1629, 1543, 1336, 1362, 1437, 1323, 1263, 1031, 1841, 1084, 1333, 1429, 1669, 1359, 1898, 1721, 1742, 1527, 1699, 1083, 1613, 1904, 1461, 1836, 1906, 1544, 1556, 1252, 1470, 1218, 1137, 1033, 1230, 1818, 1285, 1735, 1238, 1082, 1758, 1317, 1275, 1549, 1383, 1907, 1361, 1693, 1160, 1044, 1427, 1502, 1739, 1566, 1185, 1977, 1161, 1370, 1450, 1398, 1013, 1456, 1610, 1617, 1764, 1675, 1583, 1403, 1875, 1619, 1365, 1207, 1868, 1132, 1657, 1942, 1775, 1756, 1819, 1596, 1250, 1155, 1049, 1283, 1295, 1736, 1952, 1882, 1783, 1411, 1118, 1069, 1350, 1335, 1324, 1873, 1511, 1001, 1313, 1086, 1414, 1223, 1988, 1357, 1887, 1452, 1491, 1508, 1102, 1402, 1322, 1226, 1746, 1626, 1862, 1134, 1292, 1849, 1753, 1291, 1091, 1785, 1400, 1741, 1078, 1553, 1178, 1520, 1878, 1585, 1271, 1826, 1003, 1814, 1720, 1064, 1916, 1168, 1492, 1765, 1052, 1454, 1039, 1752, 1802, 1085, 1277, 1344, 1522, 1089, 1340, 1684, 1270, 1251, 1193, 1472, 1998, 1580, 1888, 1051, 1701, 1128, 1913, 1766, 1542, 1390, 1486, 1930, 1994, 1014, 1412, 1321, 1055, 1976, 1286, 1933, 1628, 1426, 1951, 1191, 1665, 1622, 1947, 1967, 1521, 1005, 1737, 1563, 1024, 1139, 1761, 1258, 1842, 1798, 1532, 1968, 1538, 1216, 1728, 1261, 1379, 1097, 1513, 1328, 1847, 1278, 1774, 1634, 1045, 1755, 1677, 1012, 1147, 1327, 1032, 1599, 1210, 1464, 1884, 1135, 1636, 1504, 1957, 1282, 1918, 1525, 1043, 1846, 1478, 1436, 1714, 1709, 1195, 1943, 1708, 1330, 1173, 1815, 1099, 1597, 1586, 1757, 1447, 1480, 1582, 1307, 1555, 1773, 1690, 1668, 1949, 1138, 1034, 1319, 1698, 1103, 1792, 1911, 1729, 1750, 1129, 1483, 1371, 1196, 1497, 1926, 1171, 1206, 1259, 1650, 1574, 1150, 1973, 1466, 1030, 1202, 1704, 1022, 1614, 1680, 1421, 1673, 1188, 1877, 1777, 1869, 1281, 1241, 1098, 1299, 1886, 1019, 1130, 1734, 1672, 1853, 1845, 1339, 1079, 1787, 1149, 1040, 1233, 1236, 1203, 1579, 1162, 1111, 1601, 1358, 1725, 1534, 1595, 1876, 1329, 1300, 1917, 1041, 1070, 1937, 1623, 1116, 1956, 1208, 1970, 1934, 1002, 1718, 1141, 1837, 1266, 1349, 1827, 1958, 1062, 1510, 1621, 1378, 1535, 1338, 1428, 1830, 1197, 1928, 1314, 1653, 1290, 1948, 1442, 1367, 1829, 1435, 1804, 1399, 1769, 1533, 1224, 1588, 1143, 1710, 1589, 1325, 1433, 1413, 1550, 1342, 1805, 1028, 1954, 1781, 1006, 1462, 1073, 1763, 1060, 1835, 1561, 1972, 1201, 1211, 1341, 1559, 1200, 1451, 1273, 1848, 1237, 1931, 1382, 1786, 1889, 1712, 1293, 1632, 1449, 1096, 1539, 1641, 1169, 1581, 1605, 1899, 1239, 1455, 1611, 1923, 1666, 1540, 1964, 1163, 1759, 1990, 1387, 1007, 1715, 1284, 1174, 1824, 1697, 1257, 1863, 1760, 1571, 1305, 1797, 1057, 1482, 1747, 1779, 1706, 1711, 1664, 1053, 1526, 1598, 1253, 1700, 1227, 1959, 1107, 1861, 1806, 1850, 1312, 1092, 1762, 1635, 1723, 1655, 1890, 1243, 1448, 1935, 1946, 1612, 1978, 1820, 1279, 1119, 1647, 1604, 1896, 1392, 1914, 1696, 1618, 1740, 1821, 1642, 1584, 1422, 1638, 1530, 1113, 1146, 1507, 1552, 1142, 1288, 1807, 1790, 1441, 1417, 1095, 1800, 1572, 1247, 1364, 1900, 1609, 1182, 1067, 1681, 1789, 1194, 1938, 1424, 1576, 1369, 1730, 1810, 1373, 1302, 1908, 1343, 1228, 1767, 1494, 1080, 1922, 1772, 1768, 1222, 1434, 1432, 1469, 1515, 1240, 1231, 1395, 1654, 1813, 1648, 1440, 1997, 1376, 1217, 1363, 1514, 1817, 1151, 1569, 1577, 1074, 1633, 1214, 1516, 1630, 1187, 1536, 1481, 1939, 1133, 1961, 1489, 1564, 1644, 1940, 1255, 1927, 1894, 1607, 1528, 1145, 1337, 1503, 1517, 1541, 1871, 1114, 1023, 1473, 1332, 1009, 1037, 1793, 1088, 1568, 1795, 1685, 1885, 1640, 1221, 1616, 1920, 1465, 1394, 1689, 1987, 1453, 1603, 1671, 1594, 1945, 1694, 1065, 1354, 1356, 1637, 1076, 1471, 1380, 1975, 1058, 1838, 1495, 1484, 1287, 1645, 1309, 1695, 1578, 1256, 1081, 1864, 1985, 1703, 1047, 1420, 1059, 1477, 1834, 1181, 1929, 1148, 1110, 1164, 1717, 1519, 1264, 1205, 1733, 1833, 1326, 1176, 1831, 1892, 1425, 1909, 1366, 1966, 1345, 1932, 1854, 1066, 1315, 1165, 1865, 1360, 1125, 1557, 1912, 1316, 1249, 1190, 1713, 1439, 1144, 1903, 1008, 1941, 1600, 1558, 1512, 1054, 1921, 1445, 1126, 1924, 1212, 1587, 1177, 1643, 1867, 1570, 1754, 1548, 1260, 1487, 1348, 1656, 1560, 1018, 1407, 1493, 1851, 1204, 1268, 1485, 1154, 1979, 1061, 1738, 1463, 1782, 1443, 1639)\n",
      "[1000, 1001, 1002, 1003, 1004, 1005, 1006, 1007, 1008, 1009, 1010, 1011, 1012, 1013, 1014, 1015, 1016, 1017, 1018, 1019, 1020, 1021, 1022, 1023, 1024, 1025, 1026, 1027, 1028, 1029, 1030, 1031, 1032, 1033, 1034, 1035, 1036, 1037, 1038, 1039, 1040, 1041, 1042, 1043, 1044, 1045, 1046, 1047, 1048, 1049, 1050, 1051, 1052, 1053, 1054, 1055, 1056, 1057, 1058, 1059, 1060, 1061, 1062, 1063, 1064, 1065, 1066, 1067, 1068, 1069, 1070, 1071, 1072, 1073, 1074, 1075, 1076, 1077, 1078, 1079, 1080, 1081, 1082, 1083, 1084, 1085, 1086, 1087, 1088, 1089, 1090, 1091, 1092, 1093, 1094, 1095, 1096, 1097, 1098, 1099, 1100, 1101, 1102, 1103, 1104, 1105, 1106, 1107, 1108, 1109, 1110, 1111, 1112, 1113, 1114, 1115, 1116, 1117, 1118, 1119, 1120, 1121, 1122, 1123, 1124, 1125, 1126, 1127, 1128, 1129, 1130, 1131, 1132, 1133, 1134, 1135, 1136, 1137, 1138, 1139, 1140, 1141, 1142, 1143, 1144, 1145, 1146, 1147, 1148, 1149, 1150, 1151, 1152, 1153, 1154, 1155, 1156, 1157, 1158, 1159, 1160, 1161, 1162, 1163, 1164, 1165, 1166, 1167, 1168, 1169, 1170, 1171, 1172, 1173, 1174, 1175, 1176, 1177, 1178, 1179, 1180, 1181, 1182, 1183, 1184, 1185, 1186, 1187, 1188, 1189, 1190, 1191, 1192, 1193, 1194, 1195, 1196, 1197, 1198, 1199, 1200, 1201, 1202, 1203, 1204, 1205, 1206, 1207, 1208, 1209, 1210, 1211, 1212, 1213, 1214, 1215, 1216, 1217, 1218, 1219, 1220, 1221, 1222, 1223, 1224, 1225, 1226, 1227, 1228, 1229, 1230, 1231, 1232, 1233, 1234, 1235, 1236, 1237, 1238, 1239, 1240, 1241, 1242, 1243, 1244, 1245, 1246, 1247, 1248, 1249, 1250, 1251, 1252, 1253, 1254, 1255, 1256, 1257, 1258, 1259, 1260, 1261, 1262, 1263, 1264, 1265, 1266, 1267, 1268, 1269, 1270, 1271, 1272, 1273, 1274, 1275, 1276, 1277, 1278, 1279, 1280, 1281, 1282, 1283, 1284, 1285, 1286, 1287, 1288, 1289, 1290, 1291, 1292, 1293, 1294, 1295, 1296, 1297, 1298, 1299, 1300, 1301, 1302, 1303, 1304, 1305, 1306, 1307, 1308, 1309, 1310, 1311, 1312, 1313, 1314, 1315, 1316, 1317, 1318, 1319, 1320, 1321, 1322, 1323, 1324, 1325, 1326, 1327, 1328, 1329, 1330, 1331, 1332, 1333, 1334, 1335, 1336, 1337, 1338, 1339, 1340, 1341, 1342, 1343, 1344, 1345, 1346, 1347, 1348, 1349, 1350, 1351, 1352, 1353, 1354, 1355, 1356, 1357, 1358, 1359, 1360, 1361, 1362, 1363, 1364, 1365, 1366, 1367, 1368, 1369, 1370, 1371, 1372, 1373, 1374, 1375, 1376, 1377, 1378, 1379, 1380, 1381, 1382, 1383, 1384, 1385, 1386, 1387, 1388, 1389, 1390, 1391, 1392, 1393, 1394, 1395, 1396, 1397, 1398, 1399, 1400, 1401, 1402, 1403, 1404, 1405, 1406, 1407, 1408, 1409, 1410, 1411, 1412, 1413, 1414, 1415, 1416, 1417, 1418, 1419, 1420, 1421, 1422, 1423, 1424, 1425, 1426, 1427, 1428, 1429, 1430, 1431, 1432, 1433, 1434, 1435, 1436, 1437, 1438, 1439, 1440, 1441, 1442, 1443, 1444, 1445, 1446, 1447, 1448, 1449, 1450, 1451, 1452, 1453, 1454, 1455, 1456, 1457, 1458, 1459, 1460, 1461, 1462, 1463, 1464, 1465, 1466, 1467, 1468, 1469, 1470, 1471, 1472, 1473, 1474, 1475, 1476, 1477, 1478, 1479, 1480, 1481, 1482, 1483, 1484, 1485, 1486, 1487, 1488, 1489, 1490, 1491, 1492, 1493, 1494, 1495, 1496, 1497, 1498, 1499, 1500, 1501, 1502, 1503, 1504, 1505, 1506, 1507, 1508, 1509, 1510, 1511, 1512, 1513, 1514, 1515, 1516, 1517, 1518, 1519, 1520, 1521, 1522, 1523, 1524, 1525, 1526, 1527, 1528, 1529, 1530, 1531, 1532, 1533, 1534, 1535, 1536, 1537, 1538, 1539, 1540, 1541, 1542, 1543, 1544, 1545, 1546, 1547, 1548, 1549, 1550, 1551, 1552, 1553, 1554, 1555, 1556, 1557, 1558, 1559, 1560, 1561, 1562, 1563, 1564, 1565, 1566, 1567, 1568, 1569, 1570, 1571, 1572, 1573, 1574, 1575, 1576, 1577, 1578, 1579, 1580, 1581, 1582, 1583, 1584, 1585, 1586, 1587, 1588, 1589, 1590, 1591, 1592, 1593, 1594, 1595, 1596, 1597, 1598, 1599, 1600, 1601, 1602, 1603, 1604, 1605, 1606, 1607, 1608, 1609, 1610, 1611, 1612, 1613, 1614, 1615, 1616, 1617, 1618, 1619, 1620, 1621, 1622, 1623, 1624, 1625, 1626, 1627, 1628, 1629, 1630, 1631, 1632, 1633, 1634, 1635, 1636, 1637, 1638, 1639, 1640, 1641, 1642, 1643, 1644, 1645, 1646, 1647, 1648, 1649, 1650, 1651, 1652, 1653, 1654, 1655, 1656, 1657, 1658, 1659, 1660, 1661, 1662, 1663, 1664, 1665, 1666, 1667, 1668, 1669, 1670, 1671, 1672, 1673, 1674, 1675, 1676, 1677, 1678, 1679, 1680, 1681, 1682, 1683, 1684, 1685, 1686, 1687, 1688, 1689, 1690, 1691, 1692, 1693, 1694, 1695, 1696, 1697, 1698, 1699, 1700, 1701, 1702, 1703, 1704, 1705, 1706, 1707, 1708, 1709, 1710, 1711, 1712, 1713, 1714, 1715, 1716, 1717, 1718, 1719, 1720, 1721, 1722, 1723, 1724, 1725, 1726, 1727, 1728, 1729, 1730, 1731, 1732, 1733, 1734, 1735, 1736, 1737, 1738, 1739, 1740, 1741, 1742, 1743, 1744, 1745, 1746, 1747, 1748, 1749, 1750, 1751, 1752, 1753, 1754, 1755, 1756, 1757, 1758, 1759, 1760, 1761, 1762, 1763, 1764, 1765, 1766, 1767, 1768, 1769, 1770, 1771, 1772, 1773, 1774, 1775, 1776, 1777, 1778, 1779, 1780, 1781, 1782, 1783, 1784, 1785, 1786, 1787, 1788, 1789, 1790, 1791, 1792, 1793, 1794, 1795, 1796, 1797, 1798, 1799, 1800, 1801, 1802, 1803, 1804, 1805, 1806, 1807, 1808, 1809, 1810, 1811, 1812, 1813, 1814, 1815, 1816, 1817, 1818, 1819, 1820, 1821, 1822, 1823, 1824, 1825, 1826, 1827, 1828, 1829, 1830, 1831, 1832, 1833, 1834, 1835, 1836, 1837, 1838, 1839, 1840, 1841, 1842, 1843, 1844, 1845, 1846, 1847, 1848, 1849, 1850, 1851, 1852, 1853, 1854, 1855, 1856, 1857, 1858, 1859, 1860, 1861, 1862, 1863, 1864, 1865, 1866, 1867, 1868, 1869, 1870, 1871, 1872, 1873, 1874, 1875, 1876, 1877, 1878, 1879, 1880, 1881, 1882, 1883, 1884, 1885, 1886, 1887, 1888, 1889, 1890, 1891, 1892, 1893, 1894, 1895, 1896, 1897, 1898, 1899, 1900, 1901, 1902, 1903, 1904, 1905, 1906, 1907, 1908, 1909, 1910, 1911, 1912, 1913, 1914, 1915, 1916, 1917, 1918, 1919, 1920, 1921, 1922, 1923, 1924, 1925, 1926, 1927, 1928, 1929, 1930, 1931, 1932, 1933, 1934, 1935, 1936, 1937, 1938, 1939, 1940, 1941, 1942, 1943, 1944, 1945, 1946, 1947, 1948, 1949, 1950, 1951, 1952, 1953, 1954, 1955, 1956, 1957, 1958, 1959, 1960, 1961, 1962, 1963, 1964, 1965, 1966, 1967, 1968, 1969, 1970, 1971, 1972, 1973, 1974, 1975, 1976, 1977, 1978, 1979, 1980, 1981, 1982, 1983, 1984, 1985, 1986, 1987, 1988, 1989, 1990, 1991, 1992, 1993, 1994, 1995, 1996, 1997, 1998, 1999]\n"
     ]
    }
   ],
   "source": [
    "from random import sample, choice\n",
    "\n",
    "# Write quicksort here:\n",
    "###############################################\n",
    "def quicksort(q):\n",
    "    if(len(q)<=1):\n",
    "        return(q)\n",
    "    else:\n",
    "        pivot = q[0]\n",
    "        q = q[1::]\n",
    "        # use two comprehensions to create the inputs\n",
    "        ls = (quicksort([e for e in q if e<= pivot]))+[pivot,]+(quicksort([e for e in q if e>pivot]))\n",
    "        return(ls)\n",
    "################################################\n",
    "    \n",
    "a = tuple(sample(range(1000,2000), 1000))\n",
    "print(a)\n",
    "b = quicksort(a)\n",
    "print(b)"
   ]
  },
  {
   "cell_type": "markdown",
   "metadata": {},
   "source": [
    "## 3 Higher order functions (HOF)\n",
    " \n",
    "A _higher-order function_ is a function which operates on other functions. What this means exactly is disputed, but we will call any function which returns a function or takes a function as an argument a higher-order function. (Conversely, a function neither taking another function as input nor returning a function we will refer to as a _first-order function_)\n",
    "\n",
    "In R you have encountered these when, for instance, using the `apply` family of functions, which are all versions of what is called a `map` function in functional programming (see below).\n",
    "\n",
    "When using higher-order functions, it is often useful to create simple anonymous functions at the place in the code where they are used, rather than defining a new named function in one place only to call it in a single other place. In R, all functions are created in this way with the `function` keyword, but they are usually assigned to global names with standard assignment (`<-`). Python provides similar functionality using the `lambda` keyword (name inspired by Alonzo Church's [$\\lambda$-calculus](https://www.youtube.com/watch?v=eis11j_iGMs) which has inspired much of functional programming) with which we can create anonymous functions. Of course, we can also pass named functions to higher-order functions, which is usually the case when the function is predefined, general enough to be used in more than one place, or complex enough to warrant separate definition and documentation for the sake of clarity."
   ]
  },
  {
   "cell_type": "markdown",
   "metadata": {},
   "source": [
    "## 3.1 The three standard functions `map`, `reduce` and `filter`\n",
    "\n",
    "There are three standard cases which are widely applicable and many other higher-order functions are special cases or combinations of these. They are: `map`, apply a function on each element in a sequence, `filter`, keep (or conversely, remove) elements from a sequence according to some condition, and `reduce`, combine the elements in a sequence. The `map` function takes a sequence and a function (usually of 1 parameter) which is to be applied to each element of the sequence and might return anything, this function is assumed not to have side effects. The `filter` function takes a function (usually of 1 parameter) which returns a boolean value used to indicate which elements are to be kept. The `reduce` function takes a function (usually of 2 parameters) which is used to combine the elements in the sequence.\n",
    "\n",
    "In Python, `map` and `filter` are standard built-in functions. Since Python 3, the `reduce` function needs to be imported from the `functools` module.\n",
    "\n",
    "Many more advanced functions, of any order, can be created by combining these three higher-order functions.\n",
    "\n",
    "A note from last year: usually, the `reduce` function is more difficult to grasp than `map` and `filter` but I found this blog-post by André Burgaud to be a nice introduction to `reduce`. Note that Burgaud talks about the more general _fold_ concept rather than `reduce`, which is a special case of fold often called _left fold_ (this is covered in more detail in the post). https://www.burgaud.com/foldl-foldr-python/"
   ]
  },
  {
   "cell_type": "markdown",
   "metadata": {},
   "source": [
    "a) Implement a function `mysum` which computes the sum of a list or tuple of numbers using the reduce function and a lambda function."
   ]
  },
  {
   "cell_type": "code",
   "execution_count": 23,
   "metadata": {},
   "outputs": [
    {
     "data": {
      "text/plain": [
       "12"
      ]
     },
     "execution_count": 23,
     "metadata": {},
     "output_type": "execute_result"
    }
   ],
   "source": [
    "from functools import reduce\n",
    "\n",
    "def mysum(seq):\n",
    "    return reduce(lambda x,y: x+y, seq)\n",
    "\n",
    "mysum((4, 7, 1))"
   ]
  },
  {
   "cell_type": "markdown",
   "metadata": {},
   "source": [
    "b) Implement a function `mylength` which uses `map` and `reduce` to compute the length of a sequence. The use of the `len` function is not allowed.\n",
    "\n",
    "[Hint: Use `map` to convert the input to something which can easily be `reduce`:d.]"
   ]
  },
  {
   "cell_type": "code",
   "execution_count": 24,
   "metadata": {},
   "outputs": [
    {
     "name": "stdout",
     "output_type": "stream",
     "text": [
      "5\n",
      "4\n",
      "9\n",
      "42\n"
     ]
    }
   ],
   "source": [
    "##################################################################\n",
    "# def mylength(seq):\n",
    "#     # use `list` seperate the string to a list with `letter`s\n",
    "#     return (reduce(lambda count, item: count+1, seq, 0) )\n",
    "\n",
    "from functools import reduce\n",
    "def mylength(seq):\n",
    "    return(reduce(lambda x,y:x+y, map(lambda x:1, seq)))\n",
    "###################################################################\n",
    "    \n",
    "print(mylength((4, 2, 5, 2, 5)))\n",
    "print(mylength(\"test\"))\n",
    "print(mylength((5656,33,2,5,65,90,2,4,132)))\n",
    "print(mylength(\"We are the hollow men we are the dead men!\"))\n"
   ]
  },
  {
   "cell_type": "markdown",
   "metadata": {},
   "source": [
    "## 3.2 Building your own higher order functions"
   ]
  },
  {
   "cell_type": "markdown",
   "metadata": {},
   "source": [
    "a) Re-implement the three basic functional helper functions `map`, `filter` and `reduce` **as purely functional recursive functions**. You may not express this as eg comprehensions; the task is to practice figuring out this type of logic.\n",
    "\n",
    "Note that the built-in versions of these functions work on multiple sequences of equal length if supplied, however, you can assume a single sequence as second parameter, i.e. you can also skip the third parameter to reduce."
   ]
  },
  {
   "cell_type": "code",
   "execution_count": 25,
   "metadata": {},
   "outputs": [
    {
     "data": {
      "text/plain": [
       "(0, 1, 4, 9, 16, 25, 36, 49, 64, 81)"
      ]
     },
     "execution_count": 25,
     "metadata": {},
     "output_type": "execute_result"
    }
   ],
   "source": [
    "def mymap(f, seq):\n",
    "    seq = list(seq)             # list\n",
    "    out = (f(seq[0]),)          # tuple\n",
    "    del seq[0]\n",
    "    if(len(seq)>0):\n",
    "        return( out+mymap(f,seq)  )\n",
    "    else:\n",
    "        return(out)\n",
    "\n",
    "mymap(lambda x:x**2, tuple(range(10)))"
   ]
  },
  {
   "cell_type": "code",
   "execution_count": 26,
   "metadata": {},
   "outputs": [
    {
     "data": {
      "text/plain": [
       "(0, 2, 4, 6, 8)"
      ]
     },
     "execution_count": 26,
     "metadata": {},
     "output_type": "execute_result"
    }
   ],
   "source": [
    "def myfilter(f, seq):\n",
    "    seq = list(seq)\n",
    "    out = ()\n",
    "    if f(seq[0]):\n",
    "        out = out+(seq[0],)\n",
    "    del seq[0]\n",
    "    if(len(seq)>0):\n",
    "        return( out+myfilter(f,seq) )\n",
    "    else:\n",
    "        return(out)\n",
    "\n",
    "myfilter(lambda x:x%2==0, tuple(range(10)))"
   ]
  },
  {
   "cell_type": "markdown",
   "metadata": {},
   "source": [
    "You might note the similarities with how you implemented `sum_even`."
   ]
  },
  {
   "cell_type": "code",
   "execution_count": 27,
   "metadata": {},
   "outputs": [
    {
     "data": {
      "text/plain": [
       "24"
      ]
     },
     "execution_count": 27,
     "metadata": {},
     "output_type": "execute_result"
    }
   ],
   "source": [
    "def myreduce(f, seq):\n",
    "    seq = list(seq)\n",
    "    out = f(seq[0],seq[1])\n",
    "    if len(seq)>2:\n",
    "        del seq[0]\n",
    "        seq[0] = out\n",
    "        return(myreduce(f,seq))\n",
    "    else:\n",
    "        return(out)\n",
    "\n",
    "myreduce(lambda x, y: x*y, tuple(range(1,5)))"
   ]
  },
  {
   "cell_type": "markdown",
   "metadata": {},
   "source": [
    "## 3.3 Returning functions\n",
    "\n",
    "The previous section covered functions which take other functions as input, but what about the opposite, functions returning functions as output?"
   ]
  },
  {
   "cell_type": "markdown",
   "metadata": {},
   "source": [
    "a) Function composition is a common in both maths and programming. Write a function `compose` which takes two functions, $f$ and $g$, and produces the _composite_ function $f \\circ g$, where $(f \\circ g)(x) \\Leftrightarrow f(g(x))$. Example use is given below."
   ]
  },
  {
   "cell_type": "code",
   "execution_count": 28,
   "metadata": {
    "scrolled": true
   },
   "outputs": [
    {
     "name": "stdout",
     "output_type": "stream",
     "text": [
      "[-1.507556722888818, -1.2060453783110545, -0.9045340337332909, -0.6030226891555273, -0.30151134457776363, 0.0, 0.30151134457776363, 0.6030226891555273, 0.9045340337332909, 1.2060453783110545, 1.507556722888818]\n"
     ]
    }
   ],
   "source": [
    "from statistics import stdev, mean\n",
    "\n",
    "#######################################\n",
    "def compose(f, g):\n",
    "    return(lambda x:f(g(x)))\n",
    "#######################################\n",
    "\n",
    "def myscale(vals):\n",
    "    return [x/stdev(vals) for x in vals]\n",
    "\n",
    "def myshift(vals):\n",
    "    return [x-mean(vals) for x in vals]\n",
    "\n",
    "standardize = compose(myscale, myshift)\n",
    "\n",
    "print(standardize(range(-3, 8)))"
   ]
  },
  {
   "cell_type": "markdown",
   "metadata": {},
   "source": [
    "b) Create a function `composition(*funs)` which takes a non-empty sequence of functions of one argument and returns their sequential composition. That is $composition(f_0,f_1, \\ldots, f_n) = f_0 \\circ f_1 \\circ\\ldots \\circ f_n$. (The question of if $f\\circ g \\circ h$ should be read $f\\circ (g\\circ h)$ or $(f \\circ g) \\circ h$ is perfectly valid, but they turn out to be the same. That is, $\\circ$ is associative.)"
   ]
  },
  {
   "cell_type": "code",
   "execution_count": 29,
   "metadata": {},
   "outputs": [
    {
     "name": "stdout",
     "output_type": "stream",
     "text": [
      "[3.4924432771111817, 3.7939546216889455, 4.095465966266709, 4.3969773108444725, 4.698488655422237, 5.0, 5.301511344577763, 5.6030226891555275, 5.904534033733291, 6.206045378311055, 6.507556722888818]\n"
     ]
    }
   ],
   "source": [
    "###############################################\n",
    "def composition(*funs):\n",
    "    return(reduce(compose, funs, lambda f:f))\n",
    "###############################################\n",
    "\n",
    "def add1(vals):\n",
    "    return [x+5 for x in vals]\n",
    "\n",
    "standardize = composition(add1, myscale, myshift)\n",
    "print(standardize(range(-3, 8)))"
   ]
  },
  {
   "cell_type": "markdown",
   "metadata": {},
   "source": [
    "Hint: Don't remember what can be found in `*funs`? Print it! Don't know how the values should be combined? Write out some simple example on paper."
   ]
  },
  {
   "cell_type": "markdown",
   "metadata": {},
   "source": [
    "Note: This task demonstrates the generality of our constructs. Previously we worked with sequences of numbers and the like. Now we lift this to the level of working with functions as values, and instead of using combinators which work on numbers, we use function combinators in conjunction with our known patterns."
   ]
  },
  {
   "cell_type": "markdown",
   "metadata": {},
   "source": [
    "### Voluntary task: pipelining\n",
    "\n",
    "When doing data analysis, one very important part is pre-processing. Often, data goes through a number of steps of preprocessing, sometimes called a pipeline. The function composition example above can be seen as a special case of such a pipeline for only two functions. By clever use of higher order functions, we can build a pipeline function which takes a list or tuple of data transforming functions and creates a function which applies these sequentially. Construct such a function called `make_pipeline`. In order to focus on the primary purpose of the `make_pipeline` function, we will perform a very simple set of transformations, increment each value by 1, take the absolute value, and then take the square root. Usage example and code for the `inc` function is supplied below.\n",
    "\n",
    "You may want to use functions you have defined above."
   ]
  },
  {
   "cell_type": "code",
   "execution_count": 30,
   "metadata": {
    "scrolled": false
   },
   "outputs": [
    {
     "data": {
      "text/plain": [
       "(2.0,\n",
       " 1.7320508075688772,\n",
       " 1.4142135623730951,\n",
       " 1.0,\n",
       " 0.0,\n",
       " 1.0,\n",
       " 1.4142135623730951,\n",
       " 1.7320508075688772,\n",
       " 2.0,\n",
       " 2.23606797749979)"
      ]
     },
     "execution_count": 30,
     "metadata": {},
     "output_type": "execute_result"
    }
   ],
   "source": [
    "from functools import reduce, partial\n",
    "from math import sqrt \n",
    "\n",
    "################################################################\n",
    "\n",
    "def make_pipeline(*funs):\n",
    "    return( lambda vals: (reduce(lambda val, func: func(val), funs, val) for val in vals)  )\n",
    "\n",
    "################################################################\n",
    "# We can even drop the lambda vals : bit, using partial\n",
    "# evaluation (see the help for functools.partial!)\n",
    "def inc(x):\n",
    "    return x+1\n",
    "\n",
    "pipeline = make_pipeline(inc, abs, sqrt)\n",
    "tuple(pipeline(range(-5,5)))"
   ]
  },
  {
   "cell_type": "markdown",
   "metadata": {},
   "source": [
    "## 4. Simple declarative Pythonic patterns (involing HOF)"
   ]
  },
  {
   "cell_type": "markdown",
   "metadata": {},
   "source": [
    "a) As preparation, create a named tuple type \"coord\" which has fields `x` and `y`."
   ]
  },
  {
   "cell_type": "code",
   "execution_count": 31,
   "metadata": {},
   "outputs": [],
   "source": [
    "# Add the requisite import statement here\n",
    "from collections import namedtuple\n",
    "coord = namedtuple('tuple','x y')\n",
    "\n",
    "five_three = coord(5,3)\n",
    "assert five_three.x == 5, \"first element is the x coordinate\"\n",
    "assert five_three.y == 3, \"the second element is the y coordinate\""
   ]
  },
  {
   "cell_type": "markdown",
   "metadata": {},
   "source": [
    "b) Generate a $10^7$ random coordinates, with $x$ and $y$ coordinates drawn uniformly from [-1000,1000]. Save the tuple of those with $x + y > 0$ as `rnd_coords`. How many are there?"
   ]
  },
  {
   "cell_type": "code",
   "execution_count": 17,
   "metadata": {},
   "outputs": [
    {
     "name": "stdout",
     "output_type": "stream",
     "text": [
      "((780.7629918064808, -249.0885981345839), (736.6394688483501, 803.3318450544677), (494.8105146634607, 425.7006149060919), (295.9437346829411, 353.83462446348767), (-231.78323181789517, 377.1200202101554), (-234.21899859280734, 367.87026810492057), (891.0255370557563, -169.32696708749666), (861.5205658429124, -85.33189677551968), (741.4828799242505, 2.127413141266061), (411.0728877503109, 630.7326929648302), (-806.4768358989224, 942.1832059831745), (-866.9227157662081, 883.5674148618689), (542.7084123846735, -327.8453920794682), (-142.2520425271689, 262.44376367204154), (533.6302078575334, 628.3614441150312), (781.9759472111068, 616.5593960005835), (-764.5482066891041, 876.307053115786), (-710.7773962767697, 781.4873508393496), (-229.43998437650453, 895.1261322666589), (863.4496977934439, 393.4466357674669), (132.32557704782107, 342.7494719284666), (340.6817485387437, 560.4147633657685), (545.4719628870998, 591.5397236136487), (-151.24102709663862, 634.294354429624), (559.2007951863086, 612.8635237959268), (376.0391672069645, -13.42061038877614), (897.5013601647199, -645.1003713891255), (-211.46024513867133, 478.99848152328786), (296.69048485580197, 148.23843753200595))\n"
     ]
    }
   ],
   "source": [
    "from random import uniform\n",
    " # Your code here\n",
    "def random_coords(n,a,b):\n",
    "    x=[uniform(a,b) for _ in range(n)] \n",
    "    y=[uniform(a,b) for _ in range(n)]\n",
    "    rnd_coordinates= [ (f,b) for f, b in zip(x, y) if f+b>0 ]\n",
    "    return(tuple(rnd_coordinates))\n",
    "\n",
    "rnd_coords=random_coords(10**7,-1000,1000)\n",
    "print(rnd_coords[1:30])"
   ]
  },
  {
   "cell_type": "markdown",
   "metadata": {},
   "source": [
    "[Note: If this takes a while, you might want to consider when the elements are generated and saved.]"
   ]
  },
  {
   "cell_type": "markdown",
   "metadata": {},
   "source": [
    "**Before having solved the tasks below, consider setting `coords` to a smaller set (eg generate $10^3$ elements instead of $10^7$ to start with).**"
   ]
  },
  {
   "cell_type": "markdown",
   "metadata": {},
   "source": [
    "c) Let `sorted_rnd` be the coordinated sorted first by the `x` component and then the `y`. Use a built-in Python sorting function. Do you need any extra parameters? Why? Why not? How would you find out where the order comes from (and might it be consistent but useless, eg sorting the elements by memory location)?"
   ]
  },
  {
   "cell_type": "code",
   "execution_count": 18,
   "metadata": {},
   "outputs": [
    {
     "name": "stdout",
     "output_type": "stream",
     "text": [
      "((-33.55127164561611, 804.5041632994528), (368.7209339698561, 890.9792920308744), (179.5690037614154, 883.687679184126), (975.3123100231003, 291.49950217560036), (710.7647001110493, -164.58185120890994), (387.94426898645224, 760.663797478112), (685.2702046296117, 391.6660431115986), (755.5189037790055, 79.55891455153483), (317.3601746950262, 904.9926635581601), (539.9366872227997, 821.1760142001174), (86.24846354860279, 95.84009002540665), (112.35322793883529, 90.74338091288519), (403.4392909867315, -250.1176374974401), (466.4201779427358, 506.01681852090996), (-728.1994965981364, 836.0585584434425), (-643.8189580514295, 794.4910579400037), (910.906946266992, 963.9964977279685), (622.918772309021, -306.14975855691955), (-598.4649698327189, 867.1241965490588), (592.6850923878562, -275.8296725581721))\n",
      "\n",
      "\n",
      "[(980.787481650874, -971.8591733821329), (992.0382853494755, -862.29254827981), (991.7420426687875, -850.0724442988433), (816.0346283755741, -796.2030826660089), (867.8382365997336, -789.5328721718715), (786.556504411323, -778.3364063611263), (897.2859939746888, -728.076540356358), (960.0915798013209, -726.060253477809), (884.6911298327036, -703.428226832152), (770.4906380776556, -697.2224902057292), (715.8729350839149, -689.1718328105014), (767.9062889567979, -686.5582475161916), (789.8200602664056, -685.3400076571405), (805.3092336086906, -673.8578695317931), (998.285946345035, -630.3270273502496), (651.6593004531874, -585.4511380243987), (599.000624977044, -581.8064268647876), (622.7621885109525, -581.6189586081202), (746.4872841636768, -561.0282084638054), (874.7963215471957, -534.8252764012511)]\n"
     ]
    }
   ],
   "source": [
    "\n",
    "s_rnd = random_coords(10**3,-1000,1000) # your code here\n",
    "sorted_rnd =sorted(s_rnd, key=lambda x: (x[0]))\n",
    "sorted_rnd =sorted(s_rnd, key=lambda x:(x[1]))\n",
    "\n",
    "print(s_rnd[0:20])\n",
    "print(\"\\n\")\n",
    "print(sorted_rnd[0:20])"
   ]
  },
  {
   "cell_type": "markdown",
   "metadata": {},
   "source": [
    "[General words of advice:\n",
    "\n",
    "* During testing, you might want to use a smaller data set (and then try it out at a larger set).\n",
    "* You might not want to display the entire list to see if you're right all the time. Slicing out the first and last elements, say the first or last 10, might provide some hints.\n",
    "* You could naturally define a function which checks that the list is in order (or performs some probabilistic sampling test), to test this.]"
   ]
  },
  {
   "cell_type": "markdown",
   "metadata": {},
   "source": [
    "d) Sort the values (in the sense of returning a new sorted tuple) by their Euclidean distance to the point (5,3). Continue using a built-in Python sorting function."
   ]
  },
  {
   "cell_type": "code",
   "execution_count": 19,
   "metadata": {},
   "outputs": [
    {
     "name": "stdout",
     "output_type": "stream",
     "text": [
      "[(77.08257078544216, 11.397191786929284), (-40.22331039425842, 66.98556475061605), (105.09395396266405, -35.46262434006201), (41.32276458834781, 116.01321312918935), (86.24846354860279, 95.84009002540665), (112.35322793883529, 90.74338091288519), (154.9889976868394, -13.976986379430173), (139.95450598710818, -68.13339102344048), (-77.33291496530501, 147.94278564008096), (-1.792679897533617, 180.45538406575952), (134.75777776114592, 138.4461074775993), (194.2037592417937, -48.72198964116387), (200.6388576185882, -22.196180000761274), (210.04632081296563, -0.14620093010125856), (212.6093171821949, -22.196484185688973), (-79.36951259218722, 207.00459556786336), (-54.4983018435621, 218.39973704330737), (-17.60949446367556, 234.86786359825328), (163.19748793451072, 174.0621959346979), (-50.13646764303553, 234.72840887855205), (82.8057871628057, 230.54000752786033), (125.75332660584763, 211.90330831654796), (27.56467123634161, 249.9017150343568), (210.2510494013079, 179.53157606271316), (203.5495117729581, -192.66750110412409), (276.7087134096844, -60.557676332809706), (281.90939625792385, 54.00347108497158), (-144.82738812150137, 248.35782043530457), (256.2489402470037, 156.69352407111228)]\n"
     ]
    }
   ],
   "source": [
    "import numpy as np\n",
    "\n",
    "#eucl_dist=list(map(lambda x : sqrt((x[0]-5)**2+(x[1]-3)**2),sorted_rnd ))\n",
    "eucl_dist=[np.linalg.norm(np.array(five_three)-np.array(element)) for element in sorted_rnd]\n",
    "\n",
    "d=dict(zip(eucl_dist,sorted_rnd))  # k:dist, v:coords\n",
    "d_ord=dict(sorted(d.items()))\n",
    "\n",
    "pts_near_53=list(d_ord.values())\n",
    "\n",
    "print(pts_near_53[1:30])\n"
   ]
  },
  {
   "cell_type": "markdown",
   "metadata": {},
   "source": [
    "Note: here we customise the behaviour of a built-in function by passing it information about our intended ordering."
   ]
  },
  {
   "cell_type": "markdown",
   "metadata": {},
   "source": [
    "d) Define the function `sorted_by_distance(origo)` which takes a coordinate `origo` and returns a function which sorts the sequence by the euclidean distance to `origo`. (Ie those closest to origo come first in the list.)"
   ]
  },
  {
   "cell_type": "code",
   "execution_count": 20,
   "metadata": {},
   "outputs": [],
   "source": [
    "###########################################################\n",
    "def sorted_by_distance(origo):\n",
    "    def f(sorted_rnd):\n",
    "        eucl_dist=[np.linalg.norm(np.array(origo)-np.array(element)) for element in sorted_rnd]\n",
    "        d=dict(zip(eucl_dist,sorted_rnd))   # k:dist, v:coords\n",
    "        d_ord=dict(sorted(d.items()))\n",
    "        pts_near_53=list(d_ord.values())\n",
    "        \n",
    "        return(pts_near_53)\n",
    "    return(f)\n",
    "############################################################\n",
    "\n",
    "ordered_by_closeness_to_53 = sorted_by_distance(coord(5,3))   # Return the function.\n",
    "pts_near_53_2 = ordered_by_closeness_to_53(sorted_rnd)     # Applying the function \n",
    "\n",
    "assert pts_near_53 == pts_near_53_2"
   ]
  },
  {
   "cell_type": "markdown",
   "metadata": {},
   "source": [
    "[Note: Here we extend the work above to a higher-order function, which uses the local value of `origo`. In essence, this task summarises higher order functionality - we create a closure, return a function and use a custom ordering ]"
   ]
  },
  {
   "cell_type": "markdown",
   "metadata": {},
   "source": [
    "e) So far in the course, we have seen, and possibly used `enumerate`, `range`, `zip`, `map` and `filter` as declarative constructs (along with the general comprehension syntax). Now we introduce a further useful iterator construct. Construct something called `reverse_squared` which when prompted would give us the squares of elements 0,...,N _but in reverse_ (that is $N^2, (N-1)^2, ..., 2^2, 1^2, 0^2$)."
   ]
  },
  {
   "cell_type": "code",
   "execution_count": 21,
   "metadata": {},
   "outputs": [
    {
     "name": "stdout",
     "output_type": "stream",
     "text": [
      "[998001, 996004, 994009, 992016, 990025, 988036, 986049, 984064, 982081, 980100, 978121, 976144, 974169, 972196, 970225, 968256, 966289, 964324, 962361, 960400, 958441, 956484, 954529, 952576, 950625, 948676, 946729, 944784, 942841, 940900, 938961, 937024, 935089, 933156, 931225, 929296, 927369, 925444, 923521, 921600, 919681, 917764, 915849, 913936, 912025, 910116, 908209, 906304, 904401, 902500, 900601, 898704, 896809, 894916, 893025, 891136, 889249, 887364, 885481, 883600, 881721, 879844, 877969, 876096, 874225, 872356, 870489, 868624, 866761, 864900, 863041, 861184, 859329, 857476, 855625, 853776, 851929, 850084, 848241, 846400, 844561, 842724, 840889, 839056, 837225, 835396, 833569, 831744, 829921, 828100, 826281, 824464, 822649, 820836, 819025, 817216, 815409, 813604, 811801, 810000, 808201, 806404, 804609, 802816, 801025, 799236, 797449, 795664, 793881, 792100, 790321, 788544, 786769, 784996, 783225, 781456, 779689, 777924, 776161, 774400, 772641, 770884, 769129, 767376, 765625, 763876, 762129, 760384, 758641, 756900, 755161, 753424, 751689, 749956, 748225, 746496, 744769, 743044, 741321, 739600, 737881, 736164, 734449, 732736, 731025, 729316, 727609, 725904, 724201, 722500, 720801, 719104, 717409, 715716, 714025, 712336, 710649, 708964, 707281, 705600, 703921, 702244, 700569, 698896, 697225, 695556, 693889, 692224, 690561, 688900, 687241, 685584, 683929, 682276, 680625, 678976, 677329, 675684, 674041, 672400, 670761, 669124, 667489, 665856, 664225, 662596, 660969, 659344, 657721, 656100, 654481, 652864, 651249, 649636, 648025, 646416, 644809, 643204, 641601, 640000, 638401, 636804, 635209, 633616, 632025, 630436, 628849, 627264, 625681, 624100, 622521, 620944, 619369, 617796, 616225, 614656, 613089, 611524, 609961, 608400, 606841, 605284, 603729, 602176, 600625, 599076, 597529, 595984, 594441, 592900, 591361, 589824, 588289, 586756, 585225, 583696, 582169, 580644, 579121, 577600, 576081, 574564, 573049, 571536, 570025, 568516, 567009, 565504, 564001, 562500, 561001, 559504, 558009, 556516, 555025, 553536, 552049, 550564, 549081, 547600, 546121, 544644, 543169, 541696, 540225, 538756, 537289, 535824, 534361, 532900, 531441, 529984, 528529, 527076, 525625, 524176, 522729, 521284, 519841, 518400, 516961, 515524, 514089, 512656, 511225, 509796, 508369, 506944, 505521, 504100, 502681, 501264, 499849, 498436, 497025, 495616, 494209, 492804, 491401, 490000, 488601, 487204, 485809, 484416, 483025, 481636, 480249, 478864, 477481, 476100, 474721, 473344, 471969, 470596, 469225, 467856, 466489, 465124, 463761, 462400, 461041, 459684, 458329, 456976, 455625, 454276, 452929, 451584, 450241, 448900, 447561, 446224, 444889, 443556, 442225, 440896, 439569, 438244, 436921, 435600, 434281, 432964, 431649, 430336, 429025, 427716, 426409, 425104, 423801, 422500, 421201, 419904, 418609, 417316, 416025, 414736, 413449, 412164, 410881, 409600, 408321, 407044, 405769, 404496, 403225, 401956, 400689, 399424, 398161, 396900, 395641, 394384, 393129, 391876, 390625, 389376, 388129, 386884, 385641, 384400, 383161, 381924, 380689, 379456, 378225, 376996, 375769, 374544, 373321, 372100, 370881, 369664, 368449, 367236, 366025, 364816, 363609, 362404, 361201, 360000, 358801, 357604, 356409, 355216, 354025, 352836, 351649, 350464, 349281, 348100, 346921, 345744, 344569, 343396, 342225, 341056, 339889, 338724, 337561, 336400, 335241, 334084, 332929, 331776, 330625, 329476, 328329, 327184, 326041, 324900, 323761, 322624, 321489, 320356, 319225, 318096, 316969, 315844, 314721, 313600, 312481, 311364, 310249, 309136, 308025, 306916, 305809, 304704, 303601, 302500, 301401, 300304, 299209, 298116, 297025, 295936, 294849, 293764, 292681, 291600, 290521, 289444, 288369, 287296, 286225, 285156, 284089, 283024, 281961, 280900, 279841, 278784, 277729, 276676, 275625, 274576, 273529, 272484, 271441, 270400, 269361, 268324, 267289, 266256, 265225, 264196, 263169, 262144, 261121, 260100, 259081, 258064, 257049, 256036, 255025, 254016, 253009, 252004, 251001, 250000, 249001, 248004, 247009, 246016, 245025, 244036, 243049, 242064, 241081, 240100, 239121, 238144, 237169, 236196, 235225, 234256, 233289, 232324, 231361, 230400, 229441, 228484, 227529, 226576, 225625, 224676, 223729, 222784, 221841, 220900, 219961, 219024, 218089, 217156, 216225, 215296, 214369, 213444, 212521, 211600, 210681, 209764, 208849, 207936, 207025, 206116, 205209, 204304, 203401, 202500, 201601, 200704, 199809, 198916, 198025, 197136, 196249, 195364, 194481, 193600, 192721, 191844, 190969, 190096, 189225, 188356, 187489, 186624, 185761, 184900, 184041, 183184, 182329, 181476, 180625, 179776, 178929, 178084, 177241, 176400, 175561, 174724, 173889, 173056, 172225, 171396, 170569, 169744, 168921, 168100, 167281, 166464, 165649, 164836, 164025, 163216, 162409, 161604, 160801, 160000, 159201, 158404, 157609, 156816, 156025, 155236, 154449, 153664, 152881, 152100, 151321, 150544, 149769, 148996, 148225, 147456, 146689, 145924, 145161, 144400, 143641, 142884, 142129, 141376, 140625, 139876, 139129, 138384, 137641, 136900, 136161, 135424, 134689, 133956, 133225, 132496, 131769, 131044, 130321, 129600, 128881, 128164, 127449, 126736, 126025, 125316, 124609, 123904, 123201, 122500, 121801, 121104, 120409, 119716, 119025, 118336, 117649, 116964, 116281, 115600, 114921, 114244, 113569, 112896, 112225, 111556, 110889, 110224, 109561, 108900, 108241, 107584, 106929, 106276, 105625, 104976, 104329, 103684, 103041, 102400, 101761, 101124, 100489, 99856, 99225, 98596, 97969, 97344, 96721, 96100, 95481, 94864, 94249, 93636, 93025, 92416, 91809, 91204, 90601, 90000, 89401, 88804, 88209, 87616, 87025, 86436, 85849, 85264, 84681, 84100, 83521, 82944, 82369, 81796, 81225, 80656, 80089, 79524, 78961, 78400, 77841, 77284, 76729, 76176, 75625, 75076, 74529, 73984, 73441, 72900, 72361, 71824, 71289, 70756, 70225, 69696, 69169, 68644, 68121, 67600, 67081, 66564, 66049, 65536, 65025, 64516, 64009, 63504, 63001, 62500, 62001, 61504, 61009, 60516, 60025, 59536, 59049, 58564, 58081, 57600, 57121, 56644, 56169, 55696, 55225, 54756, 54289, 53824, 53361, 52900, 52441, 51984, 51529, 51076, 50625, 50176, 49729, 49284, 48841, 48400, 47961, 47524, 47089, 46656, 46225, 45796, 45369, 44944, 44521, 44100, 43681, 43264, 42849, 42436, 42025, 41616, 41209, 40804, 40401, 40000, 39601, 39204, 38809, 38416, 38025, 37636, 37249, 36864, 36481, 36100, 35721, 35344, 34969, 34596, 34225, 33856, 33489, 33124, 32761, 32400, 32041, 31684, 31329, 30976, 30625, 30276, 29929, 29584, 29241, 28900, 28561, 28224, 27889, 27556, 27225, 26896, 26569, 26244, 25921, 25600, 25281, 24964, 24649, 24336, 24025, 23716, 23409, 23104, 22801, 22500, 22201, 21904, 21609, 21316, 21025, 20736, 20449, 20164, 19881, 19600, 19321, 19044, 18769, 18496, 18225, 17956, 17689, 17424, 17161, 16900, 16641, 16384, 16129, 15876, 15625, 15376, 15129, 14884, 14641, 14400, 14161, 13924, 13689, 13456, 13225, 12996, 12769, 12544, 12321, 12100, 11881, 11664, 11449, 11236, 11025, 10816, 10609, 10404, 10201, 10000, 9801, 9604, 9409, 9216, 9025, 8836, 8649, 8464, 8281, 8100, 7921, 7744, 7569, 7396, 7225, 7056, 6889, 6724, 6561, 6400, 6241, 6084, 5929, 5776, 5625, 5476, 5329, 5184, 5041, 4900, 4761, 4624, 4489, 4356, 4225, 4096, 3969, 3844, 3721, 3600, 3481, 3364, 3249, 3136, 3025, 2916, 2809, 2704, 2601, 2500, 2401, 2304, 2209, 2116, 2025, 1936, 1849, 1764, 1681, 1600, 1521, 1444, 1369, 1296, 1225, 1156, 1089, 1024, 961, 900, 841, 784, 729, 676, 625, 576, 529, 484, 441, 400, 361, 324, 289, 256, 225, 196, 169, 144, 121, 100, 81, 64, 49, 36, 25, 16, 9, 4, 1, 0]\n"
     ]
    }
   ],
   "source": [
    "# The time it takes to run this shouldn't really depend on if you use SMALL_N or BIG_N.\n",
    "\n",
    "BIG_N = 99999999\n",
    "SMALL_N = 999\n",
    "\n",
    "N = SMALL_N    # change this to test later on\n",
    "\n",
    "reverse_squares = list(map(lambda x :x*x ,range(N,-1,-1)))# your code here\n",
    "# reverse_squares = list(map(lambda x :x*x ,range(N)[::-1]  ))\n",
    "\n",
    "print(reverse_squares)"
   ]
  },
  {
   "cell_type": "code",
   "execution_count": 22,
   "metadata": {
    "scrolled": true
   },
   "outputs": [
    {
     "name": "stdout",
     "output_type": "stream",
     "text": [
      "Did we find it?  True\n",
      "         65 function calls in 0.000 seconds\n",
      "\n",
      "   Ordered by: standard name\n",
      "\n",
      "   ncalls  tottime  percall  cumtime  percall filename:lineno(function)\n",
      "        5    0.000    0.000    0.000    0.000 :0(acquire)\n",
      "        5    0.000    0.000    0.000    0.000 :0(append)\n",
      "        1    0.000    0.000    0.000    0.000 :0(exec)\n",
      "        4    0.000    0.000    0.000    0.000 :0(getpid)\n",
      "        4    0.000    0.000    0.000    0.000 :0(isinstance)\n",
      "        1    0.000    0.000    0.000    0.000 :0(print)\n",
      "        1    0.000    0.000    0.000    0.000 :0(setprofile)\n",
      "        1    0.000    0.000    0.000    0.000 <string>:1(<module>)\n",
      "        5    0.000    0.000    0.000    0.000 iostream.py:195(schedule)\n",
      "        4    0.000    0.000    0.000    0.000 iostream.py:300(_is_master_process)\n",
      "        4    0.000    0.000    0.000    0.000 iostream.py:313(_schedule_flush)\n",
      "        4    0.000    0.000    0.000    0.000 iostream.py:366(write)\n",
      "        5    0.000    0.000    0.000    0.000 iostream.py:93(_event_pipe)\n",
      "        1    0.000    0.000    0.000    0.000 profile:0(print('Did we find it? ', 998001 in reverse_squares))\n",
      "        0    0.000             0.000          profile:0(profiler)\n",
      "        5    0.000    0.000    0.000    0.000 socket.py:333(send)\n",
      "        5    0.000    0.000    0.000    0.000 threading.py:1062(_wait_for_tstate_lock)\n",
      "        5    0.000    0.000    0.000    0.000 threading.py:1104(is_alive)\n",
      "        5    0.000    0.000    0.000    0.000 threading.py:506(is_set)\n",
      "\n",
      "\n"
     ]
    }
   ],
   "source": [
    "# Experimentation: copy and paste your code from above into this cell.\n",
    "# This is rather crude, but we want you to to be able to trust that any\n",
    "# slowness in the cell above can be found by reference to that code, not the\n",
    "# profiling code below.\n",
    "\n",
    "# Copy-pasting as it might be useful to have fresh maps.\n",
    "\n",
    "\n",
    "import profile\n",
    "\n",
    "# We cut and paste this code \n",
    "BIG_N = 99999999\n",
    "SMALL_N = 999\n",
    "\n",
    "N = SMALL_N    \n",
    "# Look at the run time. Switching from BIG_N to SMALL_N shouldn't really matter.\n",
    "# This suggests that we have quick access to elements at the end of our (squared) range.\n",
    "\n",
    "reverse_squares=list(map(lambda x :x*x ,range(N,-1,-1)))  # <<----------- Your code from the cell above goes here.\n",
    "\n",
    "\n",
    "profile.run(\"print('Did we find it? ', {} in reverse_squares)\".format( N**2 ))"
   ]
  },
  {
   "cell_type": "markdown",
   "metadata": {},
   "source": [
    "Note: once you know of the construct, this task is extremely simple. It mostly serves as a demonstration of the availability of these constructs, and how they can be combined. Also, it points to efficiency considerations when using declarative iterator constructs as opposed to fixed computed structures.\n",
    "\n",
    "As the profiling code above suggests, where we redefine the object in every run, we do not have a purely functional construct. In that case, we wouldn't be able to exhaust the values."
   ]
  },
  {
   "cell_type": "markdown",
   "metadata": {},
   "source": [
    "[Additional reading: some additional tools are available in the `itertools` module.]"
   ]
  },
  {
   "cell_type": "markdown",
   "metadata": {},
   "source": [
    "## 5 Mutating function state\n",
    "\n",
    "A function always has access to the environment in which it was created. Usually, this means that the function can access global variables. It also means that it can access and modify local bindings from where it was created.\n",
    "\n",
    "A closure is a function which has access to an environment which is not accessible from outside the function (but which is not destroyed when the function returns). I.e. it is a way to introduce a small measure of statefulness into functional programming. In Python, iterators and generators work much like this. However, we can use the general concept in many cases."
   ]
  },
  {
   "cell_type": "markdown",
   "metadata": {},
   "source": [
    "a) Implement a function `make_counter` which has a single parameter `n` which acts as the initial value for a counter. The function should return a function with no parameters which, when called, increments the value of `n` by 1 and returns the new value."
   ]
  },
  {
   "cell_type": "code",
   "execution_count": 23,
   "metadata": {},
   "outputs": [
    {
     "name": "stdout",
     "output_type": "stream",
     "text": [
      "To show that the functions do not affect each others' states, consider the printout:\n",
      "counter_A returns: 1\n",
      "counter_A returns: 2\n",
      "counter_B returns: 16\n",
      "counter_A returns: 3 (was it affected by the call to counter_B?)\n"
     ]
    }
   ],
   "source": [
    "def make_counter(n):\n",
    "    count = n\n",
    "    def minus1():\n",
    "        nonlocal count\n",
    "        count += 1 \n",
    "        return(count)\n",
    "    \n",
    "    return minus1\n",
    "\n",
    "counter_A = make_counter(0)\n",
    "counter_B = make_counter(15)\n",
    "print(\"To show that the functions do not affect each others' states, consider the printout:\")\n",
    "print(\"counter_A returns: {}\".format(counter_A()))\n",
    "print(\"counter_A returns: {}\".format(counter_A()))\n",
    "print(\"counter_B returns: {}\".format(counter_B()))\n",
    "print(\"counter_A returns: {} (was it affected by the call to counter_B?)\".format(counter_A()))"
   ]
  },
  {
   "cell_type": "markdown",
   "metadata": {},
   "source": [
    "## 6. Use case: parametrisation\n",
    "\n",
    "Above, we see how `sorted` can be parametrised with information about the intended order. We want to extend our `quicksort` to work the same way. We should be able to provide the way for it to tell if object A in the tuple should come before object B, or after. This is done by mapping the objects onto something where we do have an order."
   ]
  },
  {
   "cell_type": "markdown",
   "metadata": {},
   "source": [
    "a) Copy your code from the `quicksort` task above, and extend it. Call the function `quicksort_param` for parametrised, and allow a key parameter to be passed in (like in `sorted`). Note that the key function should be optional. We thus want default arguments."
   ]
  },
  {
   "cell_type": "code",
   "execution_count": 14,
   "metadata": {},
   "outputs": [
    {
     "name": "stdout",
     "output_type": "stream",
     "text": [
      "((0.5346974580383608, 0.3361130528091144, 0.4491658939084595), (0.11151795247735041, 0.39801046499855197, 0.2810665619105299), (0.3862767507952213, 0.1605546408252294, 0.7528839196259265), (0.6094082038662736, 0.43551711905645385, 0.6312043281884586), (0.746609440272014, 0.037610806300050204, 0.3601471612193017), (0.9783043928508627, 0.5570015511609567, 0.176501539504739), (0.777363387130019, 0.6059666780801423, 0.3385109503379422), (0.334480628464767, 0.646092446474385, 0.5052105501943327), (0.24921414990856716, 0.4502945061888074, 0.501030006869864), (0.44798134834987036, 0.21537314242829142, 0.832943688906836))\n",
      "[(0.11151795247735041, 0.39801046499855197, 0.2810665619105299), (0.746609440272014, 0.037610806300050204, 0.3601471612193017), (0.24921414990856716, 0.4502945061888074, 0.501030006869864), (0.3862767507952213, 0.1605546408252294, 0.7528839196259265), (0.5346974580383608, 0.3361130528091144, 0.4491658939084595), (0.334480628464767, 0.646092446474385, 0.5052105501943327), (0.44798134834987036, 0.21537314242829142, 0.832943688906836), (0.6094082038662736, 0.43551711905645385, 0.6312043281884586), (0.9783043928508627, 0.5570015511609567, 0.176501539504739), (0.777363387130019, 0.6059666780801423, 0.3385109503379422)]\n",
      "[2, 5, 9, 200]\n"
     ]
    }
   ],
   "source": [
    "from random import random, choice\n",
    "\n",
    "# Write quicksort_param here:\n",
    "###############################################\n",
    "def quicksort_param(q, f=None):\n",
    "    if(len(q)<=1):\n",
    "        return(q)\n",
    "    else:\n",
    "        pivot = q[0]\n",
    "        q = q[1::]\n",
    "        \n",
    "        if f==None:\n",
    "            ls = (quicksort_param([e for e in q if e<= pivot]))+[pivot,]+(quicksort_param([e for e in q if e>pivot]))\n",
    "        else: \n",
    "            ls = quicksort_param([e for e in q if f(e)<= f(pivot)],f)+[pivot,]+quicksort_param([e for e in q if f(e)>f(pivot)],f)\n",
    "        return(ls)\n",
    "################################################\n",
    "\n",
    "a = tuple(tuple(random() for i in range(3)) for j in range(10))\n",
    "print(a)\n",
    "b = quicksort_param(a, sum)   # Elements are three-tuples. Those with smallest sums of values should come first.\n",
    "print(b)\n",
    "print(quicksort_param([5,2,9,200]))   # No key function provided."
   ]
  },
  {
   "cell_type": "markdown",
   "metadata": {},
   "source": [
    "## Attribution\n",
    "\n",
    "Lab by Johan Falkenjack (2018), extended and rewritten by Anders Märak Leffler (2019).\n",
    "\n",
    "License [CC-BY-SA 4.0](https://creativecommons.org/licenses/by-sa/4.0/)"
   ]
  },
  {
   "cell_type": "code",
   "execution_count": null,
   "metadata": {},
   "outputs": [],
   "source": []
  }
 ],
 "metadata": {
  "kernelspec": {
   "display_name": "Python 3",
   "language": "python",
   "name": "python3"
  },
  "language_info": {
   "codemirror_mode": {
    "name": "ipython",
    "version": 3
   },
   "file_extension": ".py",
   "mimetype": "text/x-python",
   "name": "python",
   "nbconvert_exporter": "python",
   "pygments_lexer": "ipython3",
   "version": "3.6.5"
  }
 },
 "nbformat": 4,
 "nbformat_minor": 2
}
