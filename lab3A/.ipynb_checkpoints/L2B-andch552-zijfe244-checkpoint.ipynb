{
 "cells": [
  {
   "cell_type": "markdown",
   "metadata": {},
   "source": [
    "# Lab 3A: Introductory Object-oriented Programming in Python\n"
   ]
  },
  {
   "cell_type": "markdown",
   "metadata": {},
   "source": [
    "__Student:__ abcde123\n",
    "\n",
    "__Student:__ abcde123"
   ]
  },
  {
   "cell_type": "markdown",
   "metadata": {},
   "source": [
    "# 2. Introduction"
   ]
  },
  {
   "cell_type": "markdown",
   "metadata": {},
   "source": [
    "## Object-oriented Programming"
   ]
  },
  {
   "cell_type": "markdown",
   "metadata": {},
   "source": [
    "The point of Object-oriented Programming is to support encapsulation and the DRY (Don't Repeat Yourself) principle without things getting out of hand. Often, software architects (those high-level programmers who are responsible for how large systems are designed on a technical level) talk about Object-oriented design or Object-oriented analysis. The point of this is to identify the necessary _objects_ in a system. An object in this sense is not exactly the same as a Python object but rather a somewhat higher level logical unit which can reasonably be thought of as an independent component within the system. These high level objects might then be further subdivided into smaller and smaller objects and at a some level the responsibility shifts from the system architect to the team or individual developer working on a specific component. Thus, Object-oriented thinking is necessary for anyone developing code which will be integrated with a larger system, for instance a data scientist implementing analytics tools."
   ]
  },
  {
   "cell_type": "markdown",
   "metadata": {},
   "source": [
    "## OOP in Python"
   ]
  },
  {
   "cell_type": "markdown",
   "metadata": {},
   "source": [
    "Python implements the Object-oriented paradigm to a somewhat larger degree than the Functional paradigm. However, there are features considered necessary for _strict_ object-oriented programming missing from Python. Mainly, we are talking about data protection. Not in a software security sense, but in the sense of encapsulation. There is no simple way to strictly control access to member variables in Python. This does not affect this lab in any way but is worth remembering if one has worked in a language such as Java previously."
   ]
  },
  {
   "cell_type": "markdown",
   "metadata": {},
   "source": [
    "# 3. Simple instance tests in Python"
   ]
  },
  {
   "cell_type": "markdown",
   "metadata": {},
   "source": [
    "Note: some of these questions will be extremely simple, and some might prove trickier. Don't expect that the answer needs to be hard."
   ]
  },
  {
   "cell_type": "code",
   "execution_count": 1,
   "metadata": {},
   "outputs": [],
   "source": [
    "class Person:\n",
    "    n_inst = set() # initiate empty set to store the instances\n",
    "    def __init__(self, name):\n",
    "        self.name = name\n",
    "        self.age = 0            # Age should be non-negative.\n",
    "        \n",
    "        self.__class__.n_inst.add(self) # add every instance to set\n",
    "        \n",
    "    def get_age(self):\n",
    "        \"\"\"Return the Person's age, a non-negative number.\"\"\"\n",
    "        return self.age\n",
    "    \n",
    "    def return_five(self):\n",
    "        \"\"\"Return 5. Dummy function.\"\"\"\n",
    "        return 5\n",
    "\n",
    "Jackal = Person \n",
    "\n",
    "president = Person(\"Jeb\")\n",
    "psec = Jackal(\"CJ Cregg\")"
   ]
  },
  {
   "cell_type": "markdown",
   "metadata": {},
   "source": [
    "a) Change the age of the `president` to 65 (`psec` should be unaffected)."
   ]
  },
  {
   "cell_type": "code",
   "execution_count": 2,
   "metadata": {},
   "outputs": [
    {
     "name": "stdout",
     "output_type": "stream",
     "text": [
      "65\n",
      "0\n"
     ]
    }
   ],
   "source": [
    "president.age = 65\n",
    "print(president.get_age())\n",
    "print(psec.get_age())"
   ]
  },
  {
   "cell_type": "markdown",
   "metadata": {},
   "source": [
    "[Note: This mode of operation is sometimes considered poor OOP. We will remedy this later.]"
   ]
  },
  {
   "cell_type": "markdown",
   "metadata": {},
   "source": [
    "b) How many `Person` instances are there? One, two or three?"
   ]
  },
  {
   "cell_type": "code",
   "execution_count": 3,
   "metadata": {},
   "outputs": [
    {
     "name": "stdout",
     "output_type": "stream",
     "text": [
      "<class '__main__.Person'>\n",
      "<class 'type'>\n",
      "<class '__main__.Person'>\n",
      "{<__main__.Person object at 0x000002127376DC18>, <__main__.Person object at 0x000002127376DC50>}\n"
     ]
    }
   ],
   "source": [
    "print(type(president))\n",
    "print(type(Jackal))\n",
    "print(type(psec))\n",
    "print(Person.n_inst)\n",
    "#  So there are 2 instances of `Person`: `psec` and `president`"
   ]
  },
  {
   "cell_type": "markdown",
   "metadata": {},
   "source": [
    "c) Consider the following code snippets. What do you think that they will return, and why? Discuss amongst yourselves. After that, run the code and explain the output. You only need to write down your explanation of the output."
   ]
  },
  {
   "cell_type": "code",
   "execution_count": 4,
   "metadata": {},
   "outputs": [
    {
     "data": {
      "text/plain": [
       "False"
      ]
     },
     "execution_count": 4,
     "metadata": {},
     "output_type": "execute_result"
    }
   ],
   "source": [
    "\"Jeb\" is Person"
   ]
  },
  {
   "cell_type": "code",
   "execution_count": 5,
   "metadata": {
    "scrolled": true
   },
   "outputs": [
    {
     "data": {
      "text/plain": [
       "False"
      ]
     },
     "execution_count": 5,
     "metadata": {},
     "output_type": "execute_result"
    }
   ],
   "source": [
    "president is Person"
   ]
  },
  {
   "cell_type": "code",
   "execution_count": 6,
   "metadata": {},
   "outputs": [
    {
     "name": "stdout",
     "output_type": "stream",
     "text": [
      "\n",
      "False, \"Jeb\" is a string, which belongs to class `str`, not `Person`.\n",
      "\n",
      "False, `is` is not `==`, it only checks the memory addresses, which checks whether\n",
      "two objects have the same elements inside. But `Person` is a class, not a object.\n",
      "\n",
      "\n"
     ]
    }
   ],
   "source": [
    "# Your answer goes here.\n",
    "print(\n",
    "\"\"\"\n",
    "False, \"Jeb\" is a string, which belongs to class `str`, not `Person`.\n",
    "\n",
    "False, `is` is not `==`, it only checks the memory addresses, which checks whether\n",
    "two objects have the same elements inside. But `Person` is a class, not a object.\n",
    "\n",
    "\"\"\")"
   ]
  },
  {
   "cell_type": "markdown",
   "metadata": {},
   "source": [
    "d) How would you go about checking whether or not the value bound to the name `president` is-a `Person`?"
   ]
  },
  {
   "cell_type": "code",
   "execution_count": 7,
   "metadata": {},
   "outputs": [
    {
     "name": "stdout",
     "output_type": "stream",
     "text": [
      "True\n"
     ]
    }
   ],
   "source": [
    "print(isinstance(president, Person))"
   ]
  },
  {
   "cell_type": "markdown",
   "metadata": {},
   "source": [
    "# 4. Subclasses"
   ]
  },
  {
   "cell_type": "markdown",
   "metadata": {},
   "source": [
    "a) Create class `Employee`, a subclass of `Person` with data attributes (fields) \n",
    "* `__work_days_accrued`\n",
    "* `__daily_salary`. \n",
    "\n",
    "These should be *the only* data attributes which you write in your class definition. In particular, you may not duplicate `name` and `age`.\n",
    "\n",
    "There should be methods\n",
    "* `work` which increments the numer of work days accrued.\n",
    "* `expected_payout` which just returns the expected payout for the employee based on the accrued work days and daily salary (but without doing any resets).\n",
    "* `payout` which returns the accrued salary and resets the number of work days accrued. The `payout` function may not perform any calculations itself."
   ]
  },
  {
   "cell_type": "code",
   "execution_count": 8,
   "metadata": {},
   "outputs": [
    {
     "name": "stdout",
     "output_type": "stream",
     "text": [
      "--- Setting up test cases.\n",
      "--- Testing payout and expected_payout properties.\n",
      "OK\n",
      "--- Testing non-data-accessing calls to superclass methods.\n",
      "OK\n",
      "--- Testing data that should be set up by initialiser call.\n",
      "OK\n"
     ]
    }
   ],
   "source": [
    "# Your code goes here.\n",
    "##############################################\n",
    "class Employee(Person):\n",
    "    def __init__(self, name, work_days_accrued=0, daily_salary=15):\n",
    "        self.__work_days_accued = work_days_accrued\n",
    "        self.__daily_salary = daily_salary\n",
    "        super().__init__(name)\n",
    "    \n",
    "    def work(self):\n",
    "        self.__work_days_accued+=1 \n",
    "    \n",
    "    def expected_payout(self):\n",
    "        return self.__work_days_accued*self.__daily_salary\n",
    "    \n",
    "    def payout(self):\n",
    "        pay = self.expected_payout()\n",
    "        self.__work_days_accued = 0\n",
    "        return pay\n",
    "    \n",
    "##############################################\n",
    "\n",
    "# Ready-made tests.\n",
    "print(\"--- Setting up test cases.\")\n",
    "cleaner = Employee(name = \"Scruffy\")  # Should have daily_salary 15.\n",
    "josh = Employee(name = \"Josh\", daily_salary = 1000)\n",
    "toby = Employee(name = \"Toby\", daily_salary = 9999)\n",
    "\n",
    "josh.work()\n",
    "josh.work()\n",
    "toby.work()\n",
    "toby.work()\n",
    "toby.work()\n",
    "cleaner.work()\n",
    "\n",
    "print(\"--- Testing payout and expected_payout properties.\")\n",
    "assert cleaner.expected_payout() == 15, \"default salary should be 15\"\n",
    "assert josh.expected_payout() == 1000*2\n",
    "assert josh.payout() == 1000*2\n",
    "assert josh.expected_payout() == 0, \"salary should be reset afterwards\"\n",
    "assert toby.payout() == 9999*3, \"toby and josh instances should be independent.\"\n",
    "print(\"OK\")\n",
    "\n",
    "print(\"--- Testing non-data-accessing calls to superclass methods.\")\n",
    "assert josh.return_five() == 5, \"Person.return_five should be accessible\"\n",
    "print(\"OK\")\n",
    "\n",
    "print(\"--- Testing data that should be set up by initialiser call.\")\n",
    "assert josh.get_age() == 0, \"superclass method should be callable, values should not be missing.\"\n",
    "josh.age = 9\n",
    "assert josh.get_age() == 9, \"superclass method should be callable\"\n",
    "print(\"OK\")"
   ]
  },
  {
   "cell_type": "markdown",
   "metadata": {},
   "source": [
    "b) Which public data attributes (fields) does an `Employee` have? Can you access the age of an employee directly (without some transformation of the name)? The daily salary?"
   ]
  },
  {
   "cell_type": "code",
   "execution_count": 14,
   "metadata": {},
   "outputs": [
    {
     "name": "stdout",
     "output_type": "stream",
     "text": [
      "\n",
      "There is 2 public data attributes, which are `name`, `age`.\n",
      "We cannot access daily salary directly.\n",
      "\n",
      "9\n",
      "Josh\n",
      "['expected_payout', 'get_age', 'n_inst', 'payout', 'return_five', 'work']\n"
     ]
    },
    {
     "ename": "AttributeError",
     "evalue": "'Employee' object has no attribute '__daily_salary'",
     "output_type": "error",
     "traceback": [
      "\u001b[1;31m---------------------------------------------------------------------------\u001b[0m",
      "\u001b[1;31mAttributeError\u001b[0m                            Traceback (most recent call last)",
      "\u001b[1;32m<ipython-input-14-f3ae131300df>\u001b[0m in \u001b[0;36m<module>\u001b[1;34m()\u001b[0m\n\u001b[0;32m     10\u001b[0m \u001b[0mprint\u001b[0m\u001b[1;33m(\u001b[0m\u001b[1;33m[\u001b[0m\u001b[0mi\u001b[0m \u001b[1;32mfor\u001b[0m \u001b[0mi\u001b[0m \u001b[1;32min\u001b[0m \u001b[0mdir\u001b[0m\u001b[1;33m(\u001b[0m\u001b[0mEmployee\u001b[0m\u001b[1;33m)\u001b[0m \u001b[1;32mif\u001b[0m \u001b[0mi\u001b[0m\u001b[1;33m[\u001b[0m\u001b[1;33m:\u001b[0m\u001b[1;36m2\u001b[0m\u001b[1;33m]\u001b[0m \u001b[1;33m!=\u001b[0m \u001b[1;34m'__'\u001b[0m\u001b[1;33m]\u001b[0m\u001b[1;33m)\u001b[0m\u001b[1;33m\u001b[0m\u001b[0m\n\u001b[0;32m     11\u001b[0m \u001b[1;33m\u001b[0m\u001b[0m\n\u001b[1;32m---> 12\u001b[1;33m \u001b[0mprint\u001b[0m\u001b[1;33m(\u001b[0m\u001b[0mjosh\u001b[0m\u001b[1;33m.\u001b[0m\u001b[0m__daily_salary\u001b[0m\u001b[1;33m)\u001b[0m\u001b[1;33m\u001b[0m\u001b[0m\n\u001b[0m",
      "\u001b[1;31mAttributeError\u001b[0m: 'Employee' object has no attribute '__daily_salary'"
     ]
    }
   ],
   "source": [
    "# Answer here.\n",
    "print(\n",
    "\"\"\"\n",
    "There is 2 public data attributes, which are `name`, `age`.\n",
    "We cannot access daily salary directly.\n",
    "\"\"\")\n",
    "\n",
    "print(josh.age)\n",
    "print(josh.name)\n",
    "print([i for i in dir(Employee) if i[:2] != '__'])\n",
    "\n",
    "print(josh.__daily_salary)"
   ]
  },
  {
   "cell_type": "markdown",
   "metadata": {},
   "source": [
    "c) Create another subclass of `Person`. This should be called `Student`. Students have the method `work`, which only increases their age by 1/365. Students start out at age 7 (not 0, as persons). You may not modify the `Person` class."
   ]
  },
  {
   "cell_type": "code",
   "execution_count": 15,
   "metadata": {},
   "outputs": [
    {
     "name": "stdout",
     "output_type": "stream",
     "text": [
      "7\n",
      "7.002739726027397\n"
     ]
    }
   ],
   "source": [
    "# Your code here\n",
    "class Student(Person):\n",
    "    def __init__(self, name, age=7):\n",
    "        super().__init__(name)       # age = 0\n",
    "        self.age = age              # age = 7\n",
    "        \n",
    "    def work(self):\n",
    "        self.age+=1/365\n",
    "\n",
    "\n",
    "studious_student = Student(name = \"Mike\")\n",
    "assert studious_student.age == 7\n",
    "\n",
    "print(studious_student.get_age())\n",
    "studious_student.work()\n",
    "print(studious_student.age)"
   ]
  },
  {
   "cell_type": "markdown",
   "metadata": {},
   "source": [
    "# 5. Multiple inheritance"
   ]
  },
  {
   "cell_type": "markdown",
   "metadata": {},
   "source": [
    "a) Create a subclass `TeachingAssistant`, which so far only contains a constructor. A teaching-assistant is both a Student and an Employee. TA:s daily salaries are always 1."
   ]
  },
  {
   "cell_type": "code",
   "execution_count": 16,
   "metadata": {},
   "outputs": [],
   "source": [
    "# Your code here\n",
    "class TeachingAssistant(Student, Employee):\n",
    "    def __init__(self, name, daily_salary=1):\n",
    "        super().__init__(name)                     # name will give assigned in `Student`\n",
    "        self.__daily_salary = daily_salary          # daily_salary will assigned in `Enployee`"
   ]
  },
  {
   "cell_type": "markdown",
   "metadata": {},
   "source": [
    "b) How would you test if `severus` below is (some kind of) a `Person`? Note that he is (all TA:s are Persons!), and your test should return `True`."
   ]
  },
  {
   "cell_type": "code",
   "execution_count": 17,
   "metadata": {},
   "outputs": [
    {
     "name": "stdout",
     "output_type": "stream",
     "text": [
      "True\n",
      "5\n"
     ]
    }
   ],
   "source": [
    "severus = TeachingAssistant(name = \"Severus\")\n",
    "\n",
    "# Your code here\n",
    "print(isinstance(severus, Person))   # interesting question :)\n",
    "print(severus.return_five())       # only `Person` owns this method"
   ]
  },
  {
   "cell_type": "markdown",
   "metadata": {},
   "source": [
    "d) Call the `work` method of a TA object, such as `severus`. What happens? Does their age increase? Their accrued salary? Both? Why is this, in your implementation? [Different groups might have slightly different results here, even if their solutions are correct. Discuss your solution.]"
   ]
  },
  {
   "cell_type": "code",
   "execution_count": 18,
   "metadata": {},
   "outputs": [
    {
     "name": "stdout",
     "output_type": "stream",
     "text": [
      "7\n",
      "7.002739726027397\n",
      "0\n",
      "\n",
      "Accrued salary is 0. `expected_payout` is from `Employee`, but we only assign \n",
      "_daily_salary for this instance, while _work_days_accrued is 0 by default.\n",
      "Thus, accrued_salary=0*1=0\n",
      "\n"
     ]
    }
   ],
   "source": [
    "# Write your answer here.\n",
    "print(severus.age)      # get the age form `Student`\n",
    "severus.work()\n",
    "print(severus.age)           # age increase as `Student`\n",
    "print(severus.expected_payout())\n",
    "print(\"\"\"\n",
    "Accrued salary is 0. `expected_payout` is from `Employee`, but we only assign \n",
    "_daily_salary for this instance, while _work_days_accrued is 0 by default.\n",
    "Thus, accrued_salary=0*1=0\n",
    "\"\"\")"
   ]
  },
  {
   "cell_type": "markdown",
   "metadata": {},
   "source": [
    "[Hint: You might want to inspect the `.age` and `.work_days_accrued` attributes of the object. Or simply add a print statement to the work functions that would show you if they were called.]"
   ]
  },
  {
   "cell_type": "markdown",
   "metadata": {},
   "source": [
    "e) Rewrite the `TeachingAssistant` class definition so that eg `severus.work()` will both increase the age and the expected payout."
   ]
  },
  {
   "cell_type": "code",
   "execution_count": 20,
   "metadata": {},
   "outputs": [
    {
     "name": "stdout",
     "output_type": "stream",
     "text": [
      "7\n",
      "0.00273972602739736\n",
      "0.00547945205479472\n",
      "7.005479452054795\n"
     ]
    }
   ],
   "source": [
    "# Your code here (copy and paste, and modify the code from above).\n",
    "class TeachingAssistant2(Student, Employee):\n",
    "    def __init__(self, name, daily_salary=1):\n",
    "        super().__init__(name)      \n",
    "        self.__daily_salary = daily_salary\n",
    "        \n",
    "    def expected_payout(self):\n",
    "        # rewrite expected_payput method\n",
    "        # replace `_ work_days_accrued` with (`age`-7), which is the actual work time\n",
    "        return (self.age-7)*self.__daily_salary   \n",
    "    \n",
    "\n",
    "ex = TeachingAssistant2(name=\"hhh\")\n",
    "print(ex.age)\n",
    "ex.work()\n",
    "print(ex.expected_payout())\n",
    "ex.work()\n",
    "print(ex.expected_payout())\n",
    "print(ex.get_age())"
   ]
  },
  {
   "cell_type": "markdown",
   "metadata": {},
   "source": [
    "# 6. Further encapsulation, and properties"
   ]
  },
  {
   "cell_type": "markdown",
   "metadata": {},
   "source": [
    "a) How would you rewrite the `Person` class so that we can remove `get_age` and provide `.age` as a getter-only property? Use the `@property` syntax. You may rename member attributes."
   ]
  },
  {
   "cell_type": "code",
   "execution_count": 21,
   "metadata": {},
   "outputs": [],
   "source": [
    "class Person2:\n",
    "    def __init__(self, name):\n",
    "        self.name = name\n",
    "        self.__age = 0            # Age should be non-negative.\n",
    "        \n",
    "    @property\n",
    "    def age(self):\n",
    "        \"\"\"Return the Person's age, a non-negative number.\"\"\"\n",
    "        return self.__age\n",
    "\n",
    "president = Person2(\"Jeb\")"
   ]
  },
  {
   "cell_type": "markdown",
   "metadata": {},
   "source": [
    "b) Try to set `president.age` to 100. What happens?"
   ]
  },
  {
   "cell_type": "code",
   "execution_count": 22,
   "metadata": {},
   "outputs": [
    {
     "name": "stdout",
     "output_type": "stream",
     "text": [
      "0\n"
     ]
    },
    {
     "ename": "AttributeError",
     "evalue": "can't set attribute",
     "output_type": "error",
     "traceback": [
      "\u001b[1;31m---------------------------------------------------------------------------\u001b[0m",
      "\u001b[1;31mAttributeError\u001b[0m                            Traceback (most recent call last)",
      "\u001b[1;32m<ipython-input-22-ce295e2c9d5e>\u001b[0m in \u001b[0;36m<module>\u001b[1;34m()\u001b[0m\n\u001b[0;32m      1\u001b[0m \u001b[0mprint\u001b[0m\u001b[1;33m(\u001b[0m\u001b[0mpresident\u001b[0m\u001b[1;33m.\u001b[0m\u001b[0mage\u001b[0m\u001b[1;33m)\u001b[0m\u001b[1;33m\u001b[0m\u001b[0m\n\u001b[1;32m----> 2\u001b[1;33m \u001b[0mpresident\u001b[0m\u001b[1;33m.\u001b[0m\u001b[0mage\u001b[0m \u001b[1;33m=\u001b[0m \u001b[1;36m100\u001b[0m\u001b[1;33m\u001b[0m\u001b[0m\n\u001b[0m",
      "\u001b[1;31mAttributeError\u001b[0m: can't set attribute"
     ]
    }
   ],
   "source": [
    "print(president.age)\n",
    "president.age = 100"
   ]
  },
  {
   "cell_type": "markdown",
   "metadata": {},
   "source": [
    "c) Now we've modified the `Person` class. What kind of problems do you suspect might come from this when looking at the child classes (without modifying them!)? Give a statement, a sensible line of code, below which demonstrates this."
   ]
  },
  {
   "cell_type": "code",
   "execution_count": 23,
   "metadata": {},
   "outputs": [],
   "source": [
    "# You might want to copy your subclass definitions here (although re-running the cells somewhere above\n",
    "# should be just fine).\n",
    "class Student2(Person2):\n",
    "    def __init__(self, name, age=7):\n",
    "        super().__init__(name)\n",
    "        print(self.age)\n",
    "        self.age = age"
   ]
  },
  {
   "cell_type": "code",
   "execution_count": 24,
   "metadata": {},
   "outputs": [
    {
     "name": "stdout",
     "output_type": "stream",
     "text": [
      "\n",
      "We create the instance of Student2 failed, since Person2.age cannot be set again\n",
      "but we try to use `self.age = age` to change `Person2.age`.\n",
      "\n",
      "0\n"
     ]
    },
    {
     "ename": "AttributeError",
     "evalue": "can't set attribute",
     "output_type": "error",
     "traceback": [
      "\u001b[1;31m---------------------------------------------------------------------------\u001b[0m",
      "\u001b[1;31mAttributeError\u001b[0m                            Traceback (most recent call last)",
      "\u001b[1;32m<ipython-input-24-0a5de0043e14>\u001b[0m in \u001b[0;36m<module>\u001b[1;34m()\u001b[0m\n\u001b[0;32m      5\u001b[0m \"\"\")\n\u001b[0;32m      6\u001b[0m \u001b[1;33m\u001b[0m\u001b[0m\n\u001b[1;32m----> 7\u001b[1;33m \u001b[0mstudious_student\u001b[0m \u001b[1;33m=\u001b[0m \u001b[0mStudent2\u001b[0m\u001b[1;33m(\u001b[0m\u001b[0mname\u001b[0m \u001b[1;33m=\u001b[0m \u001b[1;34m\"Mike\"\u001b[0m\u001b[1;33m)\u001b[0m\u001b[1;33m\u001b[0m\u001b[0m\n\u001b[0m\u001b[0;32m      8\u001b[0m \u001b[0mprint\u001b[0m\u001b[1;33m(\u001b[0m\u001b[0mstudious_student\u001b[0m\u001b[1;33m.\u001b[0m\u001b[0mage\u001b[0m\u001b[1;33m)\u001b[0m\u001b[1;33m\u001b[0m\u001b[0m\n",
      "\u001b[1;32m<ipython-input-23-f59cf2743de3>\u001b[0m in \u001b[0;36m__init__\u001b[1;34m(self, name, age)\u001b[0m\n\u001b[0;32m      5\u001b[0m         \u001b[0msuper\u001b[0m\u001b[1;33m(\u001b[0m\u001b[1;33m)\u001b[0m\u001b[1;33m.\u001b[0m\u001b[0m__init__\u001b[0m\u001b[1;33m(\u001b[0m\u001b[0mname\u001b[0m\u001b[1;33m)\u001b[0m\u001b[1;33m\u001b[0m\u001b[0m\n\u001b[0;32m      6\u001b[0m         \u001b[0mprint\u001b[0m\u001b[1;33m(\u001b[0m\u001b[0mself\u001b[0m\u001b[1;33m.\u001b[0m\u001b[0mage\u001b[0m\u001b[1;33m)\u001b[0m\u001b[1;33m\u001b[0m\u001b[0m\n\u001b[1;32m----> 7\u001b[1;33m         \u001b[0mself\u001b[0m\u001b[1;33m.\u001b[0m\u001b[0mage\u001b[0m \u001b[1;33m=\u001b[0m \u001b[0mage\u001b[0m\u001b[1;33m\u001b[0m\u001b[0m\n\u001b[0m",
      "\u001b[1;31mAttributeError\u001b[0m: can't set attribute"
     ]
    }
   ],
   "source": [
    "# Provide some test case which fails here.\n",
    "print(\"\"\"\n",
    "We create the instance of Student2 failed, since Person2.age cannot be set again\n",
    "but we try to use `self.age = age` to change `Person2.age`.\n",
    "\"\"\")\n",
    "\n",
    "studious_student = Student2(name = \"Mike\")\n",
    "print(studious_student.age)\n"
   ]
  },
  {
   "cell_type": "markdown",
   "metadata": {},
   "source": [
    "Note: above we changed the public interface of a class, which some other classes or behaviours had come to rely on. "
   ]
  },
  {
   "cell_type": "markdown",
   "metadata": {},
   "source": [
    "d) Let's say that we previously had the implicit contract \"ages are non-negative numbers\". This was an idea in the mind of the programmer, but had not implemented in code. Cut-and-paste your modified solution, and add a setter for `age` which enforces this (again, using the decorator `@` syntax). If the age is negative (or something where the comparison fails), a `ValueError` should be raised."
   ]
  },
  {
   "cell_type": "code",
   "execution_count": 25,
   "metadata": {},
   "outputs": [
    {
     "name": "stdout",
     "output_type": "stream",
     "text": [
      "0\n",
      "65\n"
     ]
    },
    {
     "ename": "ValueError",
     "evalue": "Age must be a non-negative number.",
     "output_type": "error",
     "traceback": [
      "\u001b[1;31m---------------------------------------------------------------------------\u001b[0m",
      "\u001b[1;31mValueError\u001b[0m                                Traceback (most recent call last)",
      "\u001b[1;32m<ipython-input-25-671eaccf3d2e>\u001b[0m in \u001b[0;36m<module>\u001b[1;34m()\u001b[0m\n\u001b[0;32m     22\u001b[0m \u001b[0mpresident\u001b[0m\u001b[1;33m.\u001b[0m\u001b[0mage\u001b[0m \u001b[1;33m=\u001b[0m \u001b[1;36m65\u001b[0m\u001b[1;33m\u001b[0m\u001b[0m\n\u001b[0;32m     23\u001b[0m \u001b[0mprint\u001b[0m\u001b[1;33m(\u001b[0m\u001b[0mpresident\u001b[0m\u001b[1;33m.\u001b[0m\u001b[0mage\u001b[0m\u001b[1;33m)\u001b[0m\u001b[1;33m\u001b[0m\u001b[0m\n\u001b[1;32m---> 24\u001b[1;33m \u001b[0mpresident\u001b[0m\u001b[1;33m.\u001b[0m\u001b[0mage\u001b[0m \u001b[1;33m=\u001b[0m \u001b[1;33m-\u001b[0m\u001b[1;36m1\u001b[0m\u001b[1;33m\u001b[0m\u001b[0m\n\u001b[0m",
      "\u001b[1;32m<ipython-input-25-671eaccf3d2e>\u001b[0m in \u001b[0;36mage\u001b[1;34m(self, value)\u001b[0m\n\u001b[0;32m     15\u001b[0m             \u001b[1;32mraise\u001b[0m \u001b[0mValueError\u001b[0m\u001b[1;33m(\u001b[0m\u001b[1;34m\"Input must be a number.\"\u001b[0m\u001b[1;33m)\u001b[0m\u001b[1;33m\u001b[0m\u001b[0m\n\u001b[0;32m     16\u001b[0m         \u001b[1;32mif\u001b[0m \u001b[0mvalue\u001b[0m\u001b[1;33m<\u001b[0m\u001b[1;36m0\u001b[0m\u001b[1;33m:\u001b[0m\u001b[1;33m\u001b[0m\u001b[0m\n\u001b[1;32m---> 17\u001b[1;33m             \u001b[1;32mraise\u001b[0m \u001b[0mValueError\u001b[0m\u001b[1;33m(\u001b[0m\u001b[1;34m\"Age must be a non-negative number.\"\u001b[0m\u001b[1;33m)\u001b[0m\u001b[1;33m\u001b[0m\u001b[0m\n\u001b[0m\u001b[0;32m     18\u001b[0m         \u001b[0mself\u001b[0m\u001b[1;33m.\u001b[0m\u001b[0m__age\u001b[0m \u001b[1;33m=\u001b[0m \u001b[0mvalue\u001b[0m\u001b[1;33m\u001b[0m\u001b[0m\n\u001b[0;32m     19\u001b[0m \u001b[1;33m\u001b[0m\u001b[0m\n",
      "\u001b[1;31mValueError\u001b[0m: Age must be a non-negative number."
     ]
    }
   ],
   "source": [
    "# Your code goes here.\n",
    "class Person3:\n",
    "    def __init__(self, name):\n",
    "        self.name = name\n",
    "        self.__age = 0            # Age should be non-negative.\n",
    "        \n",
    "    @property\n",
    "    def age(self):\n",
    "        \"\"\"Return the Person's age, a non-negative number.\"\"\"\n",
    "        return self.__age\n",
    "    \n",
    "    @age.setter\n",
    "    def age(self, value):\n",
    "        if not isinstance(value,int):\n",
    "            raise ValueError(\"Input must be a number.\")\n",
    "        if value<0:\n",
    "            raise ValueError(\"Age must be a non-negative number.\")\n",
    "        self.__age = value\n",
    "\n",
    "president = Person3(\"a\")\n",
    "print(president.age)\n",
    "president.age = 65\n",
    "print(president.age)\n",
    "president.age = -1"
   ]
  },
  {
   "cell_type": "markdown",
   "metadata": {},
   "source": [
    "Cf the raising of ValueErrors in lab 2A."
   ]
  },
  {
   "cell_type": "markdown",
   "metadata": {},
   "source": [
    "e) Given this addition of a somewhat restrictive setter, do the problems with the subclasses that you encountered above disappear? Does this make sense?"
   ]
  },
  {
   "cell_type": "code",
   "execution_count": 26,
   "metadata": {},
   "outputs": [
    {
     "name": "stdout",
     "output_type": "stream",
     "text": [
      "0\n",
      "7\n",
      "\n",
      "The problem is solved, it is reasonable since we can change `age` from Person3\n",
      "\n"
     ]
    }
   ],
   "source": [
    "# Your answer.\n",
    "class Student3(Person3):\n",
    "    def __init__(self, name, age=7):\n",
    "        super().__init__(name)\n",
    "        print(self.age)\n",
    "        self.age = age     # it works now\n",
    "        \n",
    "studious_student = Student3(name = \"Mike\")\n",
    "print(studious_student.age)\n",
    "print(\"\"\"\n",
    "The problem is solved, it is reasonable since we can change `age` from Person3\n",
    "\"\"\")"
   ]
  },
  {
   "cell_type": "markdown",
   "metadata": {},
   "source": [
    "General note: If you use Python as a scripting language, having only taken this course, implementing deep or complex structures with multiple inheritances is unlikely to be your first task. What you should recall is that (i) you can do this, (ii) how you can do this technically, (iii) that Python will give you a lot of leeway and (iv) that what you expose in the code matters if someone may later come to rely on it. Especially if the documentation is somewhat lacking, and where contracts are not made explicit in a way that the system will enforce (eg ages should be non-negative). This last part is possibly the most important."
   ]
  },
  {
   "cell_type": "markdown",
   "metadata": {},
   "source": [
    "# Honourable mentions"
   ]
  },
  {
   "cell_type": "markdown",
   "metadata": {},
   "source": [
    "This lab by no means treats all useful concepts in OOP or Python. You may want to look up\n",
    "* Abstract Classes and abc (see the module `abc`, and the more specialised `abc` in the specialised `collections`).\n",
    "* The concept of \"goose typing\".\n",
    "* The concept of mixins.\n",
    "Etc."
   ]
  },
  {
   "cell_type": "markdown",
   "metadata": {},
   "source": [
    "## Acknowledgments"
   ]
  },
  {
   "cell_type": "markdown",
   "metadata": {},
   "source": [
    "This lab in 732A74 is by Anders Märak Leffler (2019). The introductory text is by Johan Falkenjack (2018).\n",
    "\n",
    "Licensed under [CC-BY-SA 4.0](https://creativecommons.org/licenses/by-sa/4.0/)."
   ]
  }
 ],
 "metadata": {
  "anaconda-cloud": {},
  "kernelspec": {
   "display_name": "Python 3",
   "language": "python",
   "name": "python3"
  },
  "language_info": {
   "codemirror_mode": {
    "name": "ipython",
    "version": 3
   },
   "file_extension": ".py",
   "mimetype": "text/x-python",
   "name": "python",
   "nbconvert_exporter": "python",
   "pygments_lexer": "ipython3",
   "version": "3.6.5"
  }
 },
 "nbformat": 4,
 "nbformat_minor": 2
}
